{
  "nbformat": 4,
  "nbformat_minor": 0,
  "metadata": {
    "colab": {
      "provenance": [],
      "collapsed_sections": [
        "aVaLH3Igd9-O",
        "69S-cFvnqloc",
        "F1A_We5Gqjhv",
        "tEcbkdvkX5uE",
        "-mU4gMa6ZOg4",
        "F6ec1qwcZT6A",
        "VczX0b03ZQh5",
        "ZD2UVDd83W5x",
        "6lddLd_tdwaR"
      ]
    },
    "kernelspec": {
      "name": "python3",
      "display_name": "Python 3"
    },
    "language_info": {
      "name": "python"
    }
  },
  "cells": [
    {
      "cell_type": "markdown",
      "source": [
        "# Import"
      ],
      "metadata": {
        "id": "aVaLH3Igd9-O"
      }
    },
    {
      "cell_type": "code",
      "execution_count": null,
      "metadata": {
        "id": "1FT0ENflkxwZ"
      },
      "outputs": [],
      "source": [
        "import pandas as pd\n",
        "import seaborn as sns\n",
        "import numpy as np\n",
        "import matplotlib.pyplot as plt\n",
        "import seaborn as sns\n",
        "\n",
        "import warnings\n",
        "warnings.filterwarnings('ignore')"
      ]
    },
    {
      "cell_type": "code",
      "source": [
        "df= pd.read_csv('train.csv')\n",
        "print(df.info())"
      ],
      "metadata": {
        "colab": {
          "base_uri": "https://localhost:8080/"
        },
        "id": "WtJoTIyBn2oj",
        "outputId": "c65efab9-4d17-4a68-f79f-f859d7404e9e"
      },
      "execution_count": null,
      "outputs": [
        {
          "output_type": "stream",
          "name": "stdout",
          "text": [
            "<class 'pandas.core.frame.DataFrame'>\n",
            "RangeIndex: 103976 entries, 0 to 103975\n",
            "Data columns (total 13 columns):\n",
            " #   Column                 Non-Null Count   Dtype  \n",
            "---  ------                 --------------   -----  \n",
            " 0   country                103925 non-null  object \n",
            " 1   description            103976 non-null  object \n",
            " 2   designation            73967 non-null   object \n",
            " 3   price                  96781 non-null   float64\n",
            " 4   province               103925 non-null  object \n",
            " 5   region_1               86954 non-null   object \n",
            " 6   region_2               40408 non-null   object \n",
            " 7   taster_name            83005 non-null   object \n",
            " 8   taster_twitter_handle  78994 non-null   object \n",
            " 9   title                  103976 non-null  object \n",
            " 10  variety                103975 non-null  object \n",
            " 11  winery                 103976 non-null  object \n",
            " 12  points                 103976 non-null  int64  \n",
            "dtypes: float64(1), int64(1), object(11)\n",
            "memory usage: 10.3+ MB\n",
            "None\n"
          ]
        }
      ]
    },
    {
      "cell_type": "code",
      "source": [
        "RANDOM_STATE = 918"
      ],
      "metadata": {
        "id": "V39pEsbGZbTl"
      },
      "execution_count": null,
      "outputs": []
    },
    {
      "cell_type": "markdown",
      "source": [
        "# 데이터 살펴보기"
      ],
      "metadata": {
        "id": "69S-cFvnqloc"
      }
    },
    {
      "cell_type": "markdown",
      "source": [
        "## Feature Selection"
      ],
      "metadata": {
        "id": "F1A_We5Gqjhv"
      }
    },
    {
      "cell_type": "code",
      "source": [
        "# string 열마다, 범주형 변수들의 class 개수 파악\n",
        "from pandas.api.types import is_numeric_dtype\n",
        "from pandas.api.types import is_string_dtype\n",
        "\n",
        "# string column들만\n",
        "for i in range(df.shape[1]):\n",
        "    temp = df.iloc[:,i]\n",
        "    # numeric 데이터는 살펴보지 않음\n",
        "    if (is_numeric_dtype(temp)): continue\n",
        "\n",
        "    col_name = df.columns[i]\n",
        "    print('------------ ' , col_name, ' -------------')\n",
        "    print(temp.value_counts().shape[0])\n",
        "    print()"
      ],
      "metadata": {
        "colab": {
          "base_uri": "https://localhost:8080/"
        },
        "id": "QuVMB6FEouWT",
        "outputId": "731bdae8-327e-4db7-fe1f-2c1de89abbcf"
      },
      "execution_count": null,
      "outputs": [
        {
          "output_type": "stream",
          "name": "stdout",
          "text": [
            "------------  country  -------------\n",
            "43\n",
            "\n",
            "------------  description  -------------\n",
            "97550\n",
            "\n",
            "------------  designation  -------------\n",
            "32961\n",
            "\n",
            "------------  province  -------------\n",
            "407\n",
            "\n",
            "------------  region_1  -------------\n",
            "1188\n",
            "\n",
            "------------  region_2  -------------\n",
            "17\n",
            "\n",
            "------------  taster_name  -------------\n",
            "19\n",
            "\n",
            "------------  taster_twitter_handle  -------------\n",
            "15\n",
            "\n",
            "------------  title  -------------\n",
            "96761\n",
            "\n",
            "------------  variety  -------------\n",
            "676\n",
            "\n",
            "------------  winery  -------------\n",
            "15735\n",
            "\n"
          ]
        }
      ]
    },
    {
      "cell_type": "markdown",
      "source": [
        "country  \n",
        "province  \n",
        "taster_name   \n",
        "variety\n",
        "범주형 변수 중에 4개 고르기"
      ],
      "metadata": {
        "id": "7Bj7BU2Aqpmq"
      }
    },
    {
      "cell_type": "code",
      "source": [
        "print(df['region_1'].value_counts())\n",
        "print(df['region_2'].value_counts())"
      ],
      "metadata": {
        "colab": {
          "base_uri": "https://localhost:8080/"
        },
        "id": "xRJaTobPriot",
        "outputId": "cf70f877-9ef9-4c05-bf68-5735476a4a6a"
      },
      "execution_count": null,
      "outputs": [
        {
          "output_type": "stream",
          "name": "stdout",
          "text": [
            "Napa Valley               3599\n",
            "Columbia Valley (WA)      3296\n",
            "Russian River Valley      2459\n",
            "California                2067\n",
            "Paso Robles               1917\n",
            "                          ... \n",
            "McLaren Vale-Padthaway       1\n",
            "Mâcon-Charnay                1\n",
            "Strevi                       1\n",
            "Mâcon Chaintré               1\n",
            "Côtes de Forez               1\n",
            "Name: region_1, Length: 1188, dtype: int64\n",
            "Central Coast        8910\n",
            "Sonoma               7185\n",
            "Columbia Valley      6497\n",
            "Napa                 5442\n",
            "Willamette Valley    2741\n",
            "California Other     2095\n",
            "Finger Lakes         1440\n",
            "Sierra Foothills     1151\n",
            "Napa-Sonoma           932\n",
            "Central Valley        856\n",
            "Southern Oregon       739\n",
            "Oregon Other          588\n",
            "Long Island           550\n",
            "North Coast           463\n",
            "Washington Other      418\n",
            "South Coast           214\n",
            "New York Other        187\n",
            "Name: region_2, dtype: int64\n"
          ]
        }
      ]
    },
    {
      "cell_type": "markdown",
      "source": [
        "1. 같은 taster는 같은 taster_name을 갖고 있지 않을까?\n",
        "--> 만약 그렇다면 taster_name과 taster_twitter_handle 두 피처 중 하나는 없어도 될 것 같다."
      ],
      "metadata": {
        "id": "045zelFRszia"
      }
    },
    {
      "cell_type": "code",
      "source": [
        "temp = df.copy()"
      ],
      "metadata": {
        "id": "gb9us85rs_ss"
      },
      "execution_count": null,
      "outputs": []
    },
    {
      "cell_type": "markdown",
      "source": [
        "2. categorical feature들과 points 사이의 관계"
      ],
      "metadata": {
        "id": "rcXHL60pvUjG"
      }
    },
    {
      "cell_type": "code",
      "source": [
        "temp = df[['country','points']]\n",
        "temp.groupby('country').mean().sort_values(by = 'points', ascending = False)"
      ],
      "metadata": {
        "colab": {
          "base_uri": "https://localhost:8080/",
          "height": 1000
        },
        "id": "iPTu_ECAuQ4E",
        "outputId": "bf6ea525-8c28-495a-febc-1e45ec99c219"
      },
      "execution_count": null,
      "outputs": [
        {
          "output_type": "execute_result",
          "data": {
            "text/plain": [
              "                        points\n",
              "country                       \n",
              "England                  91.70\n",
              "India                    90.25\n",
              "Austria                  90.12\n",
              "Germany                  89.81\n",
              "Canada                   89.45\n",
              "Hungary                  89.30\n",
              "China                    89.00\n",
              "France                   88.85\n",
              "Luxembourg               88.60\n",
              "Italy                    88.58\n",
              "Australia                88.57\n",
              "US                       88.56\n",
              "Israel                   88.48\n",
              "Morocco                  88.36\n",
              "Switzerland              88.33\n",
              "New Zealand              88.29\n",
              "Portugal                 88.27\n",
              "Slovenia                 88.17\n",
              "Turkey                   88.09\n",
              "Bulgaria                 88.05\n",
              "South Africa             88.04\n",
              "Lebanon                  87.93\n",
              "Georgia                  87.59\n",
              "Serbia                   87.55\n",
              "Armenia                  87.50\n",
              "Greece                   87.31\n",
              "Spain                    87.25\n",
              "Croatia                  87.23\n",
              "Moldova                  87.15\n",
              "Slovakia                 87.00\n",
              "Czech Republic           86.88\n",
              "Uruguay                  86.85\n",
              "Macedonia                86.80\n",
              "Cyprus                   86.75\n",
              "Argentina                86.71\n",
              "Chile                    86.54\n",
              "Bosnia and Herzegovina   86.50\n",
              "Romania                  86.23\n",
              "Mexico                   85.32\n",
              "Brazil                   84.55\n",
              "Egypt                    84.00\n",
              "Peru                     83.82\n",
              "Ukraine                  83.73"
            ],
            "text/html": [
              "\n",
              "  <div id=\"df-42715ebd-8531-490b-897f-b36ae4dff540\">\n",
              "    <div class=\"colab-df-container\">\n",
              "      <div>\n",
              "<style scoped>\n",
              "    .dataframe tbody tr th:only-of-type {\n",
              "        vertical-align: middle;\n",
              "    }\n",
              "\n",
              "    .dataframe tbody tr th {\n",
              "        vertical-align: top;\n",
              "    }\n",
              "\n",
              "    .dataframe thead th {\n",
              "        text-align: right;\n",
              "    }\n",
              "</style>\n",
              "<table border=\"1\" class=\"dataframe\">\n",
              "  <thead>\n",
              "    <tr style=\"text-align: right;\">\n",
              "      <th></th>\n",
              "      <th>points</th>\n",
              "    </tr>\n",
              "    <tr>\n",
              "      <th>country</th>\n",
              "      <th></th>\n",
              "    </tr>\n",
              "  </thead>\n",
              "  <tbody>\n",
              "    <tr>\n",
              "      <th>England</th>\n",
              "      <td>91.70</td>\n",
              "    </tr>\n",
              "    <tr>\n",
              "      <th>India</th>\n",
              "      <td>90.25</td>\n",
              "    </tr>\n",
              "    <tr>\n",
              "      <th>Austria</th>\n",
              "      <td>90.12</td>\n",
              "    </tr>\n",
              "    <tr>\n",
              "      <th>Germany</th>\n",
              "      <td>89.81</td>\n",
              "    </tr>\n",
              "    <tr>\n",
              "      <th>Canada</th>\n",
              "      <td>89.45</td>\n",
              "    </tr>\n",
              "    <tr>\n",
              "      <th>Hungary</th>\n",
              "      <td>89.30</td>\n",
              "    </tr>\n",
              "    <tr>\n",
              "      <th>China</th>\n",
              "      <td>89.00</td>\n",
              "    </tr>\n",
              "    <tr>\n",
              "      <th>France</th>\n",
              "      <td>88.85</td>\n",
              "    </tr>\n",
              "    <tr>\n",
              "      <th>Luxembourg</th>\n",
              "      <td>88.60</td>\n",
              "    </tr>\n",
              "    <tr>\n",
              "      <th>Italy</th>\n",
              "      <td>88.58</td>\n",
              "    </tr>\n",
              "    <tr>\n",
              "      <th>Australia</th>\n",
              "      <td>88.57</td>\n",
              "    </tr>\n",
              "    <tr>\n",
              "      <th>US</th>\n",
              "      <td>88.56</td>\n",
              "    </tr>\n",
              "    <tr>\n",
              "      <th>Israel</th>\n",
              "      <td>88.48</td>\n",
              "    </tr>\n",
              "    <tr>\n",
              "      <th>Morocco</th>\n",
              "      <td>88.36</td>\n",
              "    </tr>\n",
              "    <tr>\n",
              "      <th>Switzerland</th>\n",
              "      <td>88.33</td>\n",
              "    </tr>\n",
              "    <tr>\n",
              "      <th>New Zealand</th>\n",
              "      <td>88.29</td>\n",
              "    </tr>\n",
              "    <tr>\n",
              "      <th>Portugal</th>\n",
              "      <td>88.27</td>\n",
              "    </tr>\n",
              "    <tr>\n",
              "      <th>Slovenia</th>\n",
              "      <td>88.17</td>\n",
              "    </tr>\n",
              "    <tr>\n",
              "      <th>Turkey</th>\n",
              "      <td>88.09</td>\n",
              "    </tr>\n",
              "    <tr>\n",
              "      <th>Bulgaria</th>\n",
              "      <td>88.05</td>\n",
              "    </tr>\n",
              "    <tr>\n",
              "      <th>South Africa</th>\n",
              "      <td>88.04</td>\n",
              "    </tr>\n",
              "    <tr>\n",
              "      <th>Lebanon</th>\n",
              "      <td>87.93</td>\n",
              "    </tr>\n",
              "    <tr>\n",
              "      <th>Georgia</th>\n",
              "      <td>87.59</td>\n",
              "    </tr>\n",
              "    <tr>\n",
              "      <th>Serbia</th>\n",
              "      <td>87.55</td>\n",
              "    </tr>\n",
              "    <tr>\n",
              "      <th>Armenia</th>\n",
              "      <td>87.50</td>\n",
              "    </tr>\n",
              "    <tr>\n",
              "      <th>Greece</th>\n",
              "      <td>87.31</td>\n",
              "    </tr>\n",
              "    <tr>\n",
              "      <th>Spain</th>\n",
              "      <td>87.25</td>\n",
              "    </tr>\n",
              "    <tr>\n",
              "      <th>Croatia</th>\n",
              "      <td>87.23</td>\n",
              "    </tr>\n",
              "    <tr>\n",
              "      <th>Moldova</th>\n",
              "      <td>87.15</td>\n",
              "    </tr>\n",
              "    <tr>\n",
              "      <th>Slovakia</th>\n",
              "      <td>87.00</td>\n",
              "    </tr>\n",
              "    <tr>\n",
              "      <th>Czech Republic</th>\n",
              "      <td>86.88</td>\n",
              "    </tr>\n",
              "    <tr>\n",
              "      <th>Uruguay</th>\n",
              "      <td>86.85</td>\n",
              "    </tr>\n",
              "    <tr>\n",
              "      <th>Macedonia</th>\n",
              "      <td>86.80</td>\n",
              "    </tr>\n",
              "    <tr>\n",
              "      <th>Cyprus</th>\n",
              "      <td>86.75</td>\n",
              "    </tr>\n",
              "    <tr>\n",
              "      <th>Argentina</th>\n",
              "      <td>86.71</td>\n",
              "    </tr>\n",
              "    <tr>\n",
              "      <th>Chile</th>\n",
              "      <td>86.54</td>\n",
              "    </tr>\n",
              "    <tr>\n",
              "      <th>Bosnia and Herzegovina</th>\n",
              "      <td>86.50</td>\n",
              "    </tr>\n",
              "    <tr>\n",
              "      <th>Romania</th>\n",
              "      <td>86.23</td>\n",
              "    </tr>\n",
              "    <tr>\n",
              "      <th>Mexico</th>\n",
              "      <td>85.32</td>\n",
              "    </tr>\n",
              "    <tr>\n",
              "      <th>Brazil</th>\n",
              "      <td>84.55</td>\n",
              "    </tr>\n",
              "    <tr>\n",
              "      <th>Egypt</th>\n",
              "      <td>84.00</td>\n",
              "    </tr>\n",
              "    <tr>\n",
              "      <th>Peru</th>\n",
              "      <td>83.82</td>\n",
              "    </tr>\n",
              "    <tr>\n",
              "      <th>Ukraine</th>\n",
              "      <td>83.73</td>\n",
              "    </tr>\n",
              "  </tbody>\n",
              "</table>\n",
              "</div>\n",
              "      <button class=\"colab-df-convert\" onclick=\"convertToInteractive('df-42715ebd-8531-490b-897f-b36ae4dff540')\"\n",
              "              title=\"Convert this dataframe to an interactive table.\"\n",
              "              style=\"display:none;\">\n",
              "        \n",
              "  <svg xmlns=\"http://www.w3.org/2000/svg\" height=\"24px\"viewBox=\"0 0 24 24\"\n",
              "       width=\"24px\">\n",
              "    <path d=\"M0 0h24v24H0V0z\" fill=\"none\"/>\n",
              "    <path d=\"M18.56 5.44l.94 2.06.94-2.06 2.06-.94-2.06-.94-.94-2.06-.94 2.06-2.06.94zm-11 1L8.5 8.5l.94-2.06 2.06-.94-2.06-.94L8.5 2.5l-.94 2.06-2.06.94zm10 10l.94 2.06.94-2.06 2.06-.94-2.06-.94-.94-2.06-.94 2.06-2.06.94z\"/><path d=\"M17.41 7.96l-1.37-1.37c-.4-.4-.92-.59-1.43-.59-.52 0-1.04.2-1.43.59L10.3 9.45l-7.72 7.72c-.78.78-.78 2.05 0 2.83L4 21.41c.39.39.9.59 1.41.59.51 0 1.02-.2 1.41-.59l7.78-7.78 2.81-2.81c.8-.78.8-2.07 0-2.86zM5.41 20L4 18.59l7.72-7.72 1.47 1.35L5.41 20z\"/>\n",
              "  </svg>\n",
              "      </button>\n",
              "      \n",
              "  <style>\n",
              "    .colab-df-container {\n",
              "      display:flex;\n",
              "      flex-wrap:wrap;\n",
              "      gap: 12px;\n",
              "    }\n",
              "\n",
              "    .colab-df-convert {\n",
              "      background-color: #E8F0FE;\n",
              "      border: none;\n",
              "      border-radius: 50%;\n",
              "      cursor: pointer;\n",
              "      display: none;\n",
              "      fill: #1967D2;\n",
              "      height: 32px;\n",
              "      padding: 0 0 0 0;\n",
              "      width: 32px;\n",
              "    }\n",
              "\n",
              "    .colab-df-convert:hover {\n",
              "      background-color: #E2EBFA;\n",
              "      box-shadow: 0px 1px 2px rgba(60, 64, 67, 0.3), 0px 1px 3px 1px rgba(60, 64, 67, 0.15);\n",
              "      fill: #174EA6;\n",
              "    }\n",
              "\n",
              "    [theme=dark] .colab-df-convert {\n",
              "      background-color: #3B4455;\n",
              "      fill: #D2E3FC;\n",
              "    }\n",
              "\n",
              "    [theme=dark] .colab-df-convert:hover {\n",
              "      background-color: #434B5C;\n",
              "      box-shadow: 0px 1px 3px 1px rgba(0, 0, 0, 0.15);\n",
              "      filter: drop-shadow(0px 1px 2px rgba(0, 0, 0, 0.3));\n",
              "      fill: #FFFFFF;\n",
              "    }\n",
              "  </style>\n",
              "\n",
              "      <script>\n",
              "        const buttonEl =\n",
              "          document.querySelector('#df-42715ebd-8531-490b-897f-b36ae4dff540 button.colab-df-convert');\n",
              "        buttonEl.style.display =\n",
              "          google.colab.kernel.accessAllowed ? 'block' : 'none';\n",
              "\n",
              "        async function convertToInteractive(key) {\n",
              "          const element = document.querySelector('#df-42715ebd-8531-490b-897f-b36ae4dff540');\n",
              "          const dataTable =\n",
              "            await google.colab.kernel.invokeFunction('convertToInteractive',\n",
              "                                                     [key], {});\n",
              "          if (!dataTable) return;\n",
              "\n",
              "          const docLinkHtml = 'Like what you see? Visit the ' +\n",
              "            '<a target=\"_blank\" href=https://colab.research.google.com/notebooks/data_table.ipynb>data table notebook</a>'\n",
              "            + ' to learn more about interactive tables.';\n",
              "          element.innerHTML = '';\n",
              "          dataTable['output_type'] = 'display_data';\n",
              "          await google.colab.output.renderOutput(dataTable, element);\n",
              "          const docLink = document.createElement('div');\n",
              "          docLink.innerHTML = docLinkHtml;\n",
              "          element.appendChild(docLink);\n",
              "        }\n",
              "      </script>\n",
              "    </div>\n",
              "  </div>\n",
              "  "
            ]
          },
          "metadata": {},
          "execution_count": 8
        }
      ]
    },
    {
      "cell_type": "code",
      "source": [
        "temp = df[['province', 'points']]\n",
        "temp.groupby('province').mean().sort_values(by = 'points', ascending = False)"
      ],
      "metadata": {
        "colab": {
          "base_uri": "https://localhost:8080/",
          "height": 455
        },
        "id": "r4ftSV0jvc37",
        "outputId": "ab1dc242-a902-4b61-8ed0-cd62793e77cc"
      },
      "execution_count": null,
      "outputs": [
        {
          "output_type": "execute_result",
          "data": {
            "text/plain": [
              "                           points\n",
              "province                         \n",
              "Südburgenland               94.00\n",
              "Madeira                     92.67\n",
              "Mittelrhein                 92.25\n",
              "England                     91.70\n",
              "Wachau                      91.53\n",
              "...                           ...\n",
              "Ticino                      83.00\n",
              "Kentucky                    83.00\n",
              "Cahul                       82.50\n",
              "Middle and South Dalmatia   82.00\n",
              "Table wine                  81.00\n",
              "\n",
              "[407 rows x 1 columns]"
            ],
            "text/html": [
              "\n",
              "  <div id=\"df-b950f413-ed07-4be3-b37e-ca7b190d9788\">\n",
              "    <div class=\"colab-df-container\">\n",
              "      <div>\n",
              "<style scoped>\n",
              "    .dataframe tbody tr th:only-of-type {\n",
              "        vertical-align: middle;\n",
              "    }\n",
              "\n",
              "    .dataframe tbody tr th {\n",
              "        vertical-align: top;\n",
              "    }\n",
              "\n",
              "    .dataframe thead th {\n",
              "        text-align: right;\n",
              "    }\n",
              "</style>\n",
              "<table border=\"1\" class=\"dataframe\">\n",
              "  <thead>\n",
              "    <tr style=\"text-align: right;\">\n",
              "      <th></th>\n",
              "      <th>points</th>\n",
              "    </tr>\n",
              "    <tr>\n",
              "      <th>province</th>\n",
              "      <th></th>\n",
              "    </tr>\n",
              "  </thead>\n",
              "  <tbody>\n",
              "    <tr>\n",
              "      <th>Südburgenland</th>\n",
              "      <td>94.00</td>\n",
              "    </tr>\n",
              "    <tr>\n",
              "      <th>Madeira</th>\n",
              "      <td>92.67</td>\n",
              "    </tr>\n",
              "    <tr>\n",
              "      <th>Mittelrhein</th>\n",
              "      <td>92.25</td>\n",
              "    </tr>\n",
              "    <tr>\n",
              "      <th>England</th>\n",
              "      <td>91.70</td>\n",
              "    </tr>\n",
              "    <tr>\n",
              "      <th>Wachau</th>\n",
              "      <td>91.53</td>\n",
              "    </tr>\n",
              "    <tr>\n",
              "      <th>...</th>\n",
              "      <td>...</td>\n",
              "    </tr>\n",
              "    <tr>\n",
              "      <th>Ticino</th>\n",
              "      <td>83.00</td>\n",
              "    </tr>\n",
              "    <tr>\n",
              "      <th>Kentucky</th>\n",
              "      <td>83.00</td>\n",
              "    </tr>\n",
              "    <tr>\n",
              "      <th>Cahul</th>\n",
              "      <td>82.50</td>\n",
              "    </tr>\n",
              "    <tr>\n",
              "      <th>Middle and South Dalmatia</th>\n",
              "      <td>82.00</td>\n",
              "    </tr>\n",
              "    <tr>\n",
              "      <th>Table wine</th>\n",
              "      <td>81.00</td>\n",
              "    </tr>\n",
              "  </tbody>\n",
              "</table>\n",
              "<p>407 rows × 1 columns</p>\n",
              "</div>\n",
              "      <button class=\"colab-df-convert\" onclick=\"convertToInteractive('df-b950f413-ed07-4be3-b37e-ca7b190d9788')\"\n",
              "              title=\"Convert this dataframe to an interactive table.\"\n",
              "              style=\"display:none;\">\n",
              "        \n",
              "  <svg xmlns=\"http://www.w3.org/2000/svg\" height=\"24px\"viewBox=\"0 0 24 24\"\n",
              "       width=\"24px\">\n",
              "    <path d=\"M0 0h24v24H0V0z\" fill=\"none\"/>\n",
              "    <path d=\"M18.56 5.44l.94 2.06.94-2.06 2.06-.94-2.06-.94-.94-2.06-.94 2.06-2.06.94zm-11 1L8.5 8.5l.94-2.06 2.06-.94-2.06-.94L8.5 2.5l-.94 2.06-2.06.94zm10 10l.94 2.06.94-2.06 2.06-.94-2.06-.94-.94-2.06-.94 2.06-2.06.94z\"/><path d=\"M17.41 7.96l-1.37-1.37c-.4-.4-.92-.59-1.43-.59-.52 0-1.04.2-1.43.59L10.3 9.45l-7.72 7.72c-.78.78-.78 2.05 0 2.83L4 21.41c.39.39.9.59 1.41.59.51 0 1.02-.2 1.41-.59l7.78-7.78 2.81-2.81c.8-.78.8-2.07 0-2.86zM5.41 20L4 18.59l7.72-7.72 1.47 1.35L5.41 20z\"/>\n",
              "  </svg>\n",
              "      </button>\n",
              "      \n",
              "  <style>\n",
              "    .colab-df-container {\n",
              "      display:flex;\n",
              "      flex-wrap:wrap;\n",
              "      gap: 12px;\n",
              "    }\n",
              "\n",
              "    .colab-df-convert {\n",
              "      background-color: #E8F0FE;\n",
              "      border: none;\n",
              "      border-radius: 50%;\n",
              "      cursor: pointer;\n",
              "      display: none;\n",
              "      fill: #1967D2;\n",
              "      height: 32px;\n",
              "      padding: 0 0 0 0;\n",
              "      width: 32px;\n",
              "    }\n",
              "\n",
              "    .colab-df-convert:hover {\n",
              "      background-color: #E2EBFA;\n",
              "      box-shadow: 0px 1px 2px rgba(60, 64, 67, 0.3), 0px 1px 3px 1px rgba(60, 64, 67, 0.15);\n",
              "      fill: #174EA6;\n",
              "    }\n",
              "\n",
              "    [theme=dark] .colab-df-convert {\n",
              "      background-color: #3B4455;\n",
              "      fill: #D2E3FC;\n",
              "    }\n",
              "\n",
              "    [theme=dark] .colab-df-convert:hover {\n",
              "      background-color: #434B5C;\n",
              "      box-shadow: 0px 1px 3px 1px rgba(0, 0, 0, 0.15);\n",
              "      filter: drop-shadow(0px 1px 2px rgba(0, 0, 0, 0.3));\n",
              "      fill: #FFFFFF;\n",
              "    }\n",
              "  </style>\n",
              "\n",
              "      <script>\n",
              "        const buttonEl =\n",
              "          document.querySelector('#df-b950f413-ed07-4be3-b37e-ca7b190d9788 button.colab-df-convert');\n",
              "        buttonEl.style.display =\n",
              "          google.colab.kernel.accessAllowed ? 'block' : 'none';\n",
              "\n",
              "        async function convertToInteractive(key) {\n",
              "          const element = document.querySelector('#df-b950f413-ed07-4be3-b37e-ca7b190d9788');\n",
              "          const dataTable =\n",
              "            await google.colab.kernel.invokeFunction('convertToInteractive',\n",
              "                                                     [key], {});\n",
              "          if (!dataTable) return;\n",
              "\n",
              "          const docLinkHtml = 'Like what you see? Visit the ' +\n",
              "            '<a target=\"_blank\" href=https://colab.research.google.com/notebooks/data_table.ipynb>data table notebook</a>'\n",
              "            + ' to learn more about interactive tables.';\n",
              "          element.innerHTML = '';\n",
              "          dataTable['output_type'] = 'display_data';\n",
              "          await google.colab.output.renderOutput(dataTable, element);\n",
              "          const docLink = document.createElement('div');\n",
              "          docLink.innerHTML = docLinkHtml;\n",
              "          element.appendChild(docLink);\n",
              "        }\n",
              "      </script>\n",
              "    </div>\n",
              "  </div>\n",
              "  "
            ]
          },
          "metadata": {},
          "execution_count": 9
        }
      ]
    },
    {
      "cell_type": "code",
      "source": [
        "temp = df[['region_1', 'points']]\n",
        "temp.groupby('region_1').mean().sort_values(by = 'points', ascending = False)"
      ],
      "metadata": {
        "colab": {
          "base_uri": "https://localhost:8080/",
          "height": 455
        },
        "id": "q2geJNvuv2xz",
        "outputId": "b7203104-86a6-42f9-adfb-e528af009a89"
      },
      "execution_count": null,
      "outputs": [
        {
          "output_type": "execute_result",
          "data": {
            "text/plain": [
              "                              points\n",
              "region_1                            \n",
              "Bienvenues Bâtard-Montrachet   96.50\n",
              "Bolgheri Sassicaia             96.17\n",
              "Napa-Monterey-Mendocino        96.00\n",
              "Corton-Pougets                 96.00\n",
              "Montrachet                     96.00\n",
              "...                              ...\n",
              "Penisola Sorrentina            82.50\n",
              "Catalonia                      81.33\n",
              "Ramona Valley                  80.50\n",
              "Ohio                           80.00\n",
              "Sierra Pelona Valley           80.00\n",
              "\n",
              "[1188 rows x 1 columns]"
            ],
            "text/html": [
              "\n",
              "  <div id=\"df-cafb6a63-b01d-4d4d-917e-dbfde56aa750\">\n",
              "    <div class=\"colab-df-container\">\n",
              "      <div>\n",
              "<style scoped>\n",
              "    .dataframe tbody tr th:only-of-type {\n",
              "        vertical-align: middle;\n",
              "    }\n",
              "\n",
              "    .dataframe tbody tr th {\n",
              "        vertical-align: top;\n",
              "    }\n",
              "\n",
              "    .dataframe thead th {\n",
              "        text-align: right;\n",
              "    }\n",
              "</style>\n",
              "<table border=\"1\" class=\"dataframe\">\n",
              "  <thead>\n",
              "    <tr style=\"text-align: right;\">\n",
              "      <th></th>\n",
              "      <th>points</th>\n",
              "    </tr>\n",
              "    <tr>\n",
              "      <th>region_1</th>\n",
              "      <th></th>\n",
              "    </tr>\n",
              "  </thead>\n",
              "  <tbody>\n",
              "    <tr>\n",
              "      <th>Bienvenues Bâtard-Montrachet</th>\n",
              "      <td>96.50</td>\n",
              "    </tr>\n",
              "    <tr>\n",
              "      <th>Bolgheri Sassicaia</th>\n",
              "      <td>96.17</td>\n",
              "    </tr>\n",
              "    <tr>\n",
              "      <th>Napa-Monterey-Mendocino</th>\n",
              "      <td>96.00</td>\n",
              "    </tr>\n",
              "    <tr>\n",
              "      <th>Corton-Pougets</th>\n",
              "      <td>96.00</td>\n",
              "    </tr>\n",
              "    <tr>\n",
              "      <th>Montrachet</th>\n",
              "      <td>96.00</td>\n",
              "    </tr>\n",
              "    <tr>\n",
              "      <th>...</th>\n",
              "      <td>...</td>\n",
              "    </tr>\n",
              "    <tr>\n",
              "      <th>Penisola Sorrentina</th>\n",
              "      <td>82.50</td>\n",
              "    </tr>\n",
              "    <tr>\n",
              "      <th>Catalonia</th>\n",
              "      <td>81.33</td>\n",
              "    </tr>\n",
              "    <tr>\n",
              "      <th>Ramona Valley</th>\n",
              "      <td>80.50</td>\n",
              "    </tr>\n",
              "    <tr>\n",
              "      <th>Ohio</th>\n",
              "      <td>80.00</td>\n",
              "    </tr>\n",
              "    <tr>\n",
              "      <th>Sierra Pelona Valley</th>\n",
              "      <td>80.00</td>\n",
              "    </tr>\n",
              "  </tbody>\n",
              "</table>\n",
              "<p>1188 rows × 1 columns</p>\n",
              "</div>\n",
              "      <button class=\"colab-df-convert\" onclick=\"convertToInteractive('df-cafb6a63-b01d-4d4d-917e-dbfde56aa750')\"\n",
              "              title=\"Convert this dataframe to an interactive table.\"\n",
              "              style=\"display:none;\">\n",
              "        \n",
              "  <svg xmlns=\"http://www.w3.org/2000/svg\" height=\"24px\"viewBox=\"0 0 24 24\"\n",
              "       width=\"24px\">\n",
              "    <path d=\"M0 0h24v24H0V0z\" fill=\"none\"/>\n",
              "    <path d=\"M18.56 5.44l.94 2.06.94-2.06 2.06-.94-2.06-.94-.94-2.06-.94 2.06-2.06.94zm-11 1L8.5 8.5l.94-2.06 2.06-.94-2.06-.94L8.5 2.5l-.94 2.06-2.06.94zm10 10l.94 2.06.94-2.06 2.06-.94-2.06-.94-.94-2.06-.94 2.06-2.06.94z\"/><path d=\"M17.41 7.96l-1.37-1.37c-.4-.4-.92-.59-1.43-.59-.52 0-1.04.2-1.43.59L10.3 9.45l-7.72 7.72c-.78.78-.78 2.05 0 2.83L4 21.41c.39.39.9.59 1.41.59.51 0 1.02-.2 1.41-.59l7.78-7.78 2.81-2.81c.8-.78.8-2.07 0-2.86zM5.41 20L4 18.59l7.72-7.72 1.47 1.35L5.41 20z\"/>\n",
              "  </svg>\n",
              "      </button>\n",
              "      \n",
              "  <style>\n",
              "    .colab-df-container {\n",
              "      display:flex;\n",
              "      flex-wrap:wrap;\n",
              "      gap: 12px;\n",
              "    }\n",
              "\n",
              "    .colab-df-convert {\n",
              "      background-color: #E8F0FE;\n",
              "      border: none;\n",
              "      border-radius: 50%;\n",
              "      cursor: pointer;\n",
              "      display: none;\n",
              "      fill: #1967D2;\n",
              "      height: 32px;\n",
              "      padding: 0 0 0 0;\n",
              "      width: 32px;\n",
              "    }\n",
              "\n",
              "    .colab-df-convert:hover {\n",
              "      background-color: #E2EBFA;\n",
              "      box-shadow: 0px 1px 2px rgba(60, 64, 67, 0.3), 0px 1px 3px 1px rgba(60, 64, 67, 0.15);\n",
              "      fill: #174EA6;\n",
              "    }\n",
              "\n",
              "    [theme=dark] .colab-df-convert {\n",
              "      background-color: #3B4455;\n",
              "      fill: #D2E3FC;\n",
              "    }\n",
              "\n",
              "    [theme=dark] .colab-df-convert:hover {\n",
              "      background-color: #434B5C;\n",
              "      box-shadow: 0px 1px 3px 1px rgba(0, 0, 0, 0.15);\n",
              "      filter: drop-shadow(0px 1px 2px rgba(0, 0, 0, 0.3));\n",
              "      fill: #FFFFFF;\n",
              "    }\n",
              "  </style>\n",
              "\n",
              "      <script>\n",
              "        const buttonEl =\n",
              "          document.querySelector('#df-cafb6a63-b01d-4d4d-917e-dbfde56aa750 button.colab-df-convert');\n",
              "        buttonEl.style.display =\n",
              "          google.colab.kernel.accessAllowed ? 'block' : 'none';\n",
              "\n",
              "        async function convertToInteractive(key) {\n",
              "          const element = document.querySelector('#df-cafb6a63-b01d-4d4d-917e-dbfde56aa750');\n",
              "          const dataTable =\n",
              "            await google.colab.kernel.invokeFunction('convertToInteractive',\n",
              "                                                     [key], {});\n",
              "          if (!dataTable) return;\n",
              "\n",
              "          const docLinkHtml = 'Like what you see? Visit the ' +\n",
              "            '<a target=\"_blank\" href=https://colab.research.google.com/notebooks/data_table.ipynb>data table notebook</a>'\n",
              "            + ' to learn more about interactive tables.';\n",
              "          element.innerHTML = '';\n",
              "          dataTable['output_type'] = 'display_data';\n",
              "          await google.colab.output.renderOutput(dataTable, element);\n",
              "          const docLink = document.createElement('div');\n",
              "          docLink.innerHTML = docLinkHtml;\n",
              "          element.appendChild(docLink);\n",
              "        }\n",
              "      </script>\n",
              "    </div>\n",
              "  </div>\n",
              "  "
            ]
          },
          "metadata": {},
          "execution_count": 10
        }
      ]
    },
    {
      "cell_type": "code",
      "source": [
        "temp = df[['region_2', 'points']]\n",
        "temp.groupby('region_2').mean().sort_values(by = 'points', ascending = False)\n",
        "# region2는 상대적으로 points에 큰 영향이 없는듯"
      ],
      "metadata": {
        "colab": {
          "base_uri": "https://localhost:8080/",
          "height": 614
        },
        "id": "mJtOHnR3v-_T",
        "outputId": "561cc8e8-cba1-4a13-a933-a03b69a07507"
      },
      "execution_count": null,
      "outputs": [
        {
          "output_type": "execute_result",
          "data": {
            "text/plain": [
              "                   points\n",
              "region_2                 \n",
              "Willamette Valley   89.46\n",
              "Napa                89.39\n",
              "Columbia Valley     88.97\n",
              "Sonoma              88.92\n",
              "Central Coast       88.82\n",
              "Napa-Sonoma         88.77\n",
              "Oregon Other        88.52\n",
              "Washington Other    88.29\n",
              "Sierra Foothills    88.24\n",
              "South Coast         87.87\n",
              "North Coast         87.87\n",
              "Long Island         87.56\n",
              "Southern Oregon     87.45\n",
              "Finger Lakes        87.12\n",
              "Central Valley      86.90\n",
              "New York Other      86.47\n",
              "California Other    85.69"
            ],
            "text/html": [
              "\n",
              "  <div id=\"df-e1cab512-ac78-4bd3-9d42-920f07b03f12\">\n",
              "    <div class=\"colab-df-container\">\n",
              "      <div>\n",
              "<style scoped>\n",
              "    .dataframe tbody tr th:only-of-type {\n",
              "        vertical-align: middle;\n",
              "    }\n",
              "\n",
              "    .dataframe tbody tr th {\n",
              "        vertical-align: top;\n",
              "    }\n",
              "\n",
              "    .dataframe thead th {\n",
              "        text-align: right;\n",
              "    }\n",
              "</style>\n",
              "<table border=\"1\" class=\"dataframe\">\n",
              "  <thead>\n",
              "    <tr style=\"text-align: right;\">\n",
              "      <th></th>\n",
              "      <th>points</th>\n",
              "    </tr>\n",
              "    <tr>\n",
              "      <th>region_2</th>\n",
              "      <th></th>\n",
              "    </tr>\n",
              "  </thead>\n",
              "  <tbody>\n",
              "    <tr>\n",
              "      <th>Willamette Valley</th>\n",
              "      <td>89.46</td>\n",
              "    </tr>\n",
              "    <tr>\n",
              "      <th>Napa</th>\n",
              "      <td>89.39</td>\n",
              "    </tr>\n",
              "    <tr>\n",
              "      <th>Columbia Valley</th>\n",
              "      <td>88.97</td>\n",
              "    </tr>\n",
              "    <tr>\n",
              "      <th>Sonoma</th>\n",
              "      <td>88.92</td>\n",
              "    </tr>\n",
              "    <tr>\n",
              "      <th>Central Coast</th>\n",
              "      <td>88.82</td>\n",
              "    </tr>\n",
              "    <tr>\n",
              "      <th>Napa-Sonoma</th>\n",
              "      <td>88.77</td>\n",
              "    </tr>\n",
              "    <tr>\n",
              "      <th>Oregon Other</th>\n",
              "      <td>88.52</td>\n",
              "    </tr>\n",
              "    <tr>\n",
              "      <th>Washington Other</th>\n",
              "      <td>88.29</td>\n",
              "    </tr>\n",
              "    <tr>\n",
              "      <th>Sierra Foothills</th>\n",
              "      <td>88.24</td>\n",
              "    </tr>\n",
              "    <tr>\n",
              "      <th>South Coast</th>\n",
              "      <td>87.87</td>\n",
              "    </tr>\n",
              "    <tr>\n",
              "      <th>North Coast</th>\n",
              "      <td>87.87</td>\n",
              "    </tr>\n",
              "    <tr>\n",
              "      <th>Long Island</th>\n",
              "      <td>87.56</td>\n",
              "    </tr>\n",
              "    <tr>\n",
              "      <th>Southern Oregon</th>\n",
              "      <td>87.45</td>\n",
              "    </tr>\n",
              "    <tr>\n",
              "      <th>Finger Lakes</th>\n",
              "      <td>87.12</td>\n",
              "    </tr>\n",
              "    <tr>\n",
              "      <th>Central Valley</th>\n",
              "      <td>86.90</td>\n",
              "    </tr>\n",
              "    <tr>\n",
              "      <th>New York Other</th>\n",
              "      <td>86.47</td>\n",
              "    </tr>\n",
              "    <tr>\n",
              "      <th>California Other</th>\n",
              "      <td>85.69</td>\n",
              "    </tr>\n",
              "  </tbody>\n",
              "</table>\n",
              "</div>\n",
              "      <button class=\"colab-df-convert\" onclick=\"convertToInteractive('df-e1cab512-ac78-4bd3-9d42-920f07b03f12')\"\n",
              "              title=\"Convert this dataframe to an interactive table.\"\n",
              "              style=\"display:none;\">\n",
              "        \n",
              "  <svg xmlns=\"http://www.w3.org/2000/svg\" height=\"24px\"viewBox=\"0 0 24 24\"\n",
              "       width=\"24px\">\n",
              "    <path d=\"M0 0h24v24H0V0z\" fill=\"none\"/>\n",
              "    <path d=\"M18.56 5.44l.94 2.06.94-2.06 2.06-.94-2.06-.94-.94-2.06-.94 2.06-2.06.94zm-11 1L8.5 8.5l.94-2.06 2.06-.94-2.06-.94L8.5 2.5l-.94 2.06-2.06.94zm10 10l.94 2.06.94-2.06 2.06-.94-2.06-.94-.94-2.06-.94 2.06-2.06.94z\"/><path d=\"M17.41 7.96l-1.37-1.37c-.4-.4-.92-.59-1.43-.59-.52 0-1.04.2-1.43.59L10.3 9.45l-7.72 7.72c-.78.78-.78 2.05 0 2.83L4 21.41c.39.39.9.59 1.41.59.51 0 1.02-.2 1.41-.59l7.78-7.78 2.81-2.81c.8-.78.8-2.07 0-2.86zM5.41 20L4 18.59l7.72-7.72 1.47 1.35L5.41 20z\"/>\n",
              "  </svg>\n",
              "      </button>\n",
              "      \n",
              "  <style>\n",
              "    .colab-df-container {\n",
              "      display:flex;\n",
              "      flex-wrap:wrap;\n",
              "      gap: 12px;\n",
              "    }\n",
              "\n",
              "    .colab-df-convert {\n",
              "      background-color: #E8F0FE;\n",
              "      border: none;\n",
              "      border-radius: 50%;\n",
              "      cursor: pointer;\n",
              "      display: none;\n",
              "      fill: #1967D2;\n",
              "      height: 32px;\n",
              "      padding: 0 0 0 0;\n",
              "      width: 32px;\n",
              "    }\n",
              "\n",
              "    .colab-df-convert:hover {\n",
              "      background-color: #E2EBFA;\n",
              "      box-shadow: 0px 1px 2px rgba(60, 64, 67, 0.3), 0px 1px 3px 1px rgba(60, 64, 67, 0.15);\n",
              "      fill: #174EA6;\n",
              "    }\n",
              "\n",
              "    [theme=dark] .colab-df-convert {\n",
              "      background-color: #3B4455;\n",
              "      fill: #D2E3FC;\n",
              "    }\n",
              "\n",
              "    [theme=dark] .colab-df-convert:hover {\n",
              "      background-color: #434B5C;\n",
              "      box-shadow: 0px 1px 3px 1px rgba(0, 0, 0, 0.15);\n",
              "      filter: drop-shadow(0px 1px 2px rgba(0, 0, 0, 0.3));\n",
              "      fill: #FFFFFF;\n",
              "    }\n",
              "  </style>\n",
              "\n",
              "      <script>\n",
              "        const buttonEl =\n",
              "          document.querySelector('#df-e1cab512-ac78-4bd3-9d42-920f07b03f12 button.colab-df-convert');\n",
              "        buttonEl.style.display =\n",
              "          google.colab.kernel.accessAllowed ? 'block' : 'none';\n",
              "\n",
              "        async function convertToInteractive(key) {\n",
              "          const element = document.querySelector('#df-e1cab512-ac78-4bd3-9d42-920f07b03f12');\n",
              "          const dataTable =\n",
              "            await google.colab.kernel.invokeFunction('convertToInteractive',\n",
              "                                                     [key], {});\n",
              "          if (!dataTable) return;\n",
              "\n",
              "          const docLinkHtml = 'Like what you see? Visit the ' +\n",
              "            '<a target=\"_blank\" href=https://colab.research.google.com/notebooks/data_table.ipynb>data table notebook</a>'\n",
              "            + ' to learn more about interactive tables.';\n",
              "          element.innerHTML = '';\n",
              "          dataTable['output_type'] = 'display_data';\n",
              "          await google.colab.output.renderOutput(dataTable, element);\n",
              "          const docLink = document.createElement('div');\n",
              "          docLink.innerHTML = docLinkHtml;\n",
              "          element.appendChild(docLink);\n",
              "        }\n",
              "      </script>\n",
              "    </div>\n",
              "  </div>\n",
              "  "
            ]
          },
          "metadata": {},
          "execution_count": 11
        }
      ]
    },
    {
      "cell_type": "code",
      "source": [
        "temp = df[['taster_name', 'points']]\n",
        "temp.groupby('taster_name').mean().sort_values(by = 'points', ascending = False)"
      ],
      "metadata": {
        "colab": {
          "base_uri": "https://localhost:8080/",
          "height": 676
        },
        "id": "3NdoYUGewJH1",
        "outputId": "8a5d7752-904f-4846-ecd5-f03f94d7bbcb"
      },
      "execution_count": null,
      "outputs": [
        {
          "output_type": "execute_result",
          "data": {
            "text/plain": [
              "                    points\n",
              "taster_name               \n",
              "Anne Krebiehl MW     90.55\n",
              "Matt Kettmann        90.03\n",
              "Virginie Boone       89.20\n",
              "Mike DeSimone        89.08\n",
              "Paul Gregutt         89.07\n",
              "Kerin O’Keefe        88.87\n",
              "Sean P. Sullivan     88.73\n",
              "Roger Voss           88.71\n",
              "Jim Gordon           88.62\n",
              "Joe Czerwinski       88.53\n",
              "Anna Lee C. Iijima   88.40\n",
              "Jeff Jenssen         88.27\n",
              "Christina Pickard    87.83\n",
              "Lauren Buzzeo        87.76\n",
              "Michael Schachner    86.91\n",
              "Fiona Adams          86.74\n",
              "Susan Kostrzewa      86.61\n",
              "Carrie Dykes         86.35\n",
              "Alexander Peartree   85.95"
            ],
            "text/html": [
              "\n",
              "  <div id=\"df-23ae79c6-9c6b-4155-b8a4-7bb76dc43210\">\n",
              "    <div class=\"colab-df-container\">\n",
              "      <div>\n",
              "<style scoped>\n",
              "    .dataframe tbody tr th:only-of-type {\n",
              "        vertical-align: middle;\n",
              "    }\n",
              "\n",
              "    .dataframe tbody tr th {\n",
              "        vertical-align: top;\n",
              "    }\n",
              "\n",
              "    .dataframe thead th {\n",
              "        text-align: right;\n",
              "    }\n",
              "</style>\n",
              "<table border=\"1\" class=\"dataframe\">\n",
              "  <thead>\n",
              "    <tr style=\"text-align: right;\">\n",
              "      <th></th>\n",
              "      <th>points</th>\n",
              "    </tr>\n",
              "    <tr>\n",
              "      <th>taster_name</th>\n",
              "      <th></th>\n",
              "    </tr>\n",
              "  </thead>\n",
              "  <tbody>\n",
              "    <tr>\n",
              "      <th>Anne Krebiehl MW</th>\n",
              "      <td>90.55</td>\n",
              "    </tr>\n",
              "    <tr>\n",
              "      <th>Matt Kettmann</th>\n",
              "      <td>90.03</td>\n",
              "    </tr>\n",
              "    <tr>\n",
              "      <th>Virginie Boone</th>\n",
              "      <td>89.20</td>\n",
              "    </tr>\n",
              "    <tr>\n",
              "      <th>Mike DeSimone</th>\n",
              "      <td>89.08</td>\n",
              "    </tr>\n",
              "    <tr>\n",
              "      <th>Paul Gregutt</th>\n",
              "      <td>89.07</td>\n",
              "    </tr>\n",
              "    <tr>\n",
              "      <th>Kerin O’Keefe</th>\n",
              "      <td>88.87</td>\n",
              "    </tr>\n",
              "    <tr>\n",
              "      <th>Sean P. Sullivan</th>\n",
              "      <td>88.73</td>\n",
              "    </tr>\n",
              "    <tr>\n",
              "      <th>Roger Voss</th>\n",
              "      <td>88.71</td>\n",
              "    </tr>\n",
              "    <tr>\n",
              "      <th>Jim Gordon</th>\n",
              "      <td>88.62</td>\n",
              "    </tr>\n",
              "    <tr>\n",
              "      <th>Joe Czerwinski</th>\n",
              "      <td>88.53</td>\n",
              "    </tr>\n",
              "    <tr>\n",
              "      <th>Anna Lee C. Iijima</th>\n",
              "      <td>88.40</td>\n",
              "    </tr>\n",
              "    <tr>\n",
              "      <th>Jeff Jenssen</th>\n",
              "      <td>88.27</td>\n",
              "    </tr>\n",
              "    <tr>\n",
              "      <th>Christina Pickard</th>\n",
              "      <td>87.83</td>\n",
              "    </tr>\n",
              "    <tr>\n",
              "      <th>Lauren Buzzeo</th>\n",
              "      <td>87.76</td>\n",
              "    </tr>\n",
              "    <tr>\n",
              "      <th>Michael Schachner</th>\n",
              "      <td>86.91</td>\n",
              "    </tr>\n",
              "    <tr>\n",
              "      <th>Fiona Adams</th>\n",
              "      <td>86.74</td>\n",
              "    </tr>\n",
              "    <tr>\n",
              "      <th>Susan Kostrzewa</th>\n",
              "      <td>86.61</td>\n",
              "    </tr>\n",
              "    <tr>\n",
              "      <th>Carrie Dykes</th>\n",
              "      <td>86.35</td>\n",
              "    </tr>\n",
              "    <tr>\n",
              "      <th>Alexander Peartree</th>\n",
              "      <td>85.95</td>\n",
              "    </tr>\n",
              "  </tbody>\n",
              "</table>\n",
              "</div>\n",
              "      <button class=\"colab-df-convert\" onclick=\"convertToInteractive('df-23ae79c6-9c6b-4155-b8a4-7bb76dc43210')\"\n",
              "              title=\"Convert this dataframe to an interactive table.\"\n",
              "              style=\"display:none;\">\n",
              "        \n",
              "  <svg xmlns=\"http://www.w3.org/2000/svg\" height=\"24px\"viewBox=\"0 0 24 24\"\n",
              "       width=\"24px\">\n",
              "    <path d=\"M0 0h24v24H0V0z\" fill=\"none\"/>\n",
              "    <path d=\"M18.56 5.44l.94 2.06.94-2.06 2.06-.94-2.06-.94-.94-2.06-.94 2.06-2.06.94zm-11 1L8.5 8.5l.94-2.06 2.06-.94-2.06-.94L8.5 2.5l-.94 2.06-2.06.94zm10 10l.94 2.06.94-2.06 2.06-.94-2.06-.94-.94-2.06-.94 2.06-2.06.94z\"/><path d=\"M17.41 7.96l-1.37-1.37c-.4-.4-.92-.59-1.43-.59-.52 0-1.04.2-1.43.59L10.3 9.45l-7.72 7.72c-.78.78-.78 2.05 0 2.83L4 21.41c.39.39.9.59 1.41.59.51 0 1.02-.2 1.41-.59l7.78-7.78 2.81-2.81c.8-.78.8-2.07 0-2.86zM5.41 20L4 18.59l7.72-7.72 1.47 1.35L5.41 20z\"/>\n",
              "  </svg>\n",
              "      </button>\n",
              "      \n",
              "  <style>\n",
              "    .colab-df-container {\n",
              "      display:flex;\n",
              "      flex-wrap:wrap;\n",
              "      gap: 12px;\n",
              "    }\n",
              "\n",
              "    .colab-df-convert {\n",
              "      background-color: #E8F0FE;\n",
              "      border: none;\n",
              "      border-radius: 50%;\n",
              "      cursor: pointer;\n",
              "      display: none;\n",
              "      fill: #1967D2;\n",
              "      height: 32px;\n",
              "      padding: 0 0 0 0;\n",
              "      width: 32px;\n",
              "    }\n",
              "\n",
              "    .colab-df-convert:hover {\n",
              "      background-color: #E2EBFA;\n",
              "      box-shadow: 0px 1px 2px rgba(60, 64, 67, 0.3), 0px 1px 3px 1px rgba(60, 64, 67, 0.15);\n",
              "      fill: #174EA6;\n",
              "    }\n",
              "\n",
              "    [theme=dark] .colab-df-convert {\n",
              "      background-color: #3B4455;\n",
              "      fill: #D2E3FC;\n",
              "    }\n",
              "\n",
              "    [theme=dark] .colab-df-convert:hover {\n",
              "      background-color: #434B5C;\n",
              "      box-shadow: 0px 1px 3px 1px rgba(0, 0, 0, 0.15);\n",
              "      filter: drop-shadow(0px 1px 2px rgba(0, 0, 0, 0.3));\n",
              "      fill: #FFFFFF;\n",
              "    }\n",
              "  </style>\n",
              "\n",
              "      <script>\n",
              "        const buttonEl =\n",
              "          document.querySelector('#df-23ae79c6-9c6b-4155-b8a4-7bb76dc43210 button.colab-df-convert');\n",
              "        buttonEl.style.display =\n",
              "          google.colab.kernel.accessAllowed ? 'block' : 'none';\n",
              "\n",
              "        async function convertToInteractive(key) {\n",
              "          const element = document.querySelector('#df-23ae79c6-9c6b-4155-b8a4-7bb76dc43210');\n",
              "          const dataTable =\n",
              "            await google.colab.kernel.invokeFunction('convertToInteractive',\n",
              "                                                     [key], {});\n",
              "          if (!dataTable) return;\n",
              "\n",
              "          const docLinkHtml = 'Like what you see? Visit the ' +\n",
              "            '<a target=\"_blank\" href=https://colab.research.google.com/notebooks/data_table.ipynb>data table notebook</a>'\n",
              "            + ' to learn more about interactive tables.';\n",
              "          element.innerHTML = '';\n",
              "          dataTable['output_type'] = 'display_data';\n",
              "          await google.colab.output.renderOutput(dataTable, element);\n",
              "          const docLink = document.createElement('div');\n",
              "          docLink.innerHTML = docLinkHtml;\n",
              "          element.appendChild(docLink);\n",
              "        }\n",
              "      </script>\n",
              "    </div>\n",
              "  </div>\n",
              "  "
            ]
          },
          "metadata": {},
          "execution_count": 12
        }
      ]
    },
    {
      "cell_type": "code",
      "source": [
        "temp = df[['taster_twitter_handle', 'points']]\n",
        "temp.groupby('taster_twitter_handle').mean().sort_values(by = 'points', ascending = False)"
      ],
      "metadata": {
        "colab": {
          "base_uri": "https://localhost:8080/",
          "height": 551
        },
        "id": "QOM1aRNUwNQf",
        "outputId": "b6c24c52-6c4d-420f-a400-73c64dbd281c"
      },
      "execution_count": null,
      "outputs": [
        {
          "output_type": "execute_result",
          "data": {
            "text/plain": [
              "                       points\n",
              "taster_twitter_handle        \n",
              "@AnneInVino             90.55\n",
              "@mattkettmann           90.03\n",
              "@vboone                 89.20\n",
              "@paulgwine              89.07\n",
              "@kerinokeefe            88.87\n",
              "@wawinereport           88.73\n",
              "@vossroger              88.71\n",
              "@worldwineguys          88.69\n",
              "@gordone_cellars        88.62\n",
              "@JoeCz                  88.53\n",
              "@winewchristina         87.83\n",
              "@laurbuzz               87.76\n",
              "@wineschach             86.91\n",
              "@bkfiona                86.74\n",
              "@suskostrzewa           86.61"
            ],
            "text/html": [
              "\n",
              "  <div id=\"df-a174d008-99bd-43e3-9ed5-4f67599e4d4c\">\n",
              "    <div class=\"colab-df-container\">\n",
              "      <div>\n",
              "<style scoped>\n",
              "    .dataframe tbody tr th:only-of-type {\n",
              "        vertical-align: middle;\n",
              "    }\n",
              "\n",
              "    .dataframe tbody tr th {\n",
              "        vertical-align: top;\n",
              "    }\n",
              "\n",
              "    .dataframe thead th {\n",
              "        text-align: right;\n",
              "    }\n",
              "</style>\n",
              "<table border=\"1\" class=\"dataframe\">\n",
              "  <thead>\n",
              "    <tr style=\"text-align: right;\">\n",
              "      <th></th>\n",
              "      <th>points</th>\n",
              "    </tr>\n",
              "    <tr>\n",
              "      <th>taster_twitter_handle</th>\n",
              "      <th></th>\n",
              "    </tr>\n",
              "  </thead>\n",
              "  <tbody>\n",
              "    <tr>\n",
              "      <th>@AnneInVino</th>\n",
              "      <td>90.55</td>\n",
              "    </tr>\n",
              "    <tr>\n",
              "      <th>@mattkettmann</th>\n",
              "      <td>90.03</td>\n",
              "    </tr>\n",
              "    <tr>\n",
              "      <th>@vboone</th>\n",
              "      <td>89.20</td>\n",
              "    </tr>\n",
              "    <tr>\n",
              "      <th>@paulgwine</th>\n",
              "      <td>89.07</td>\n",
              "    </tr>\n",
              "    <tr>\n",
              "      <th>@kerinokeefe</th>\n",
              "      <td>88.87</td>\n",
              "    </tr>\n",
              "    <tr>\n",
              "      <th>@wawinereport</th>\n",
              "      <td>88.73</td>\n",
              "    </tr>\n",
              "    <tr>\n",
              "      <th>@vossroger</th>\n",
              "      <td>88.71</td>\n",
              "    </tr>\n",
              "    <tr>\n",
              "      <th>@worldwineguys</th>\n",
              "      <td>88.69</td>\n",
              "    </tr>\n",
              "    <tr>\n",
              "      <th>@gordone_cellars</th>\n",
              "      <td>88.62</td>\n",
              "    </tr>\n",
              "    <tr>\n",
              "      <th>@JoeCz</th>\n",
              "      <td>88.53</td>\n",
              "    </tr>\n",
              "    <tr>\n",
              "      <th>@winewchristina</th>\n",
              "      <td>87.83</td>\n",
              "    </tr>\n",
              "    <tr>\n",
              "      <th>@laurbuzz</th>\n",
              "      <td>87.76</td>\n",
              "    </tr>\n",
              "    <tr>\n",
              "      <th>@wineschach</th>\n",
              "      <td>86.91</td>\n",
              "    </tr>\n",
              "    <tr>\n",
              "      <th>@bkfiona</th>\n",
              "      <td>86.74</td>\n",
              "    </tr>\n",
              "    <tr>\n",
              "      <th>@suskostrzewa</th>\n",
              "      <td>86.61</td>\n",
              "    </tr>\n",
              "  </tbody>\n",
              "</table>\n",
              "</div>\n",
              "      <button class=\"colab-df-convert\" onclick=\"convertToInteractive('df-a174d008-99bd-43e3-9ed5-4f67599e4d4c')\"\n",
              "              title=\"Convert this dataframe to an interactive table.\"\n",
              "              style=\"display:none;\">\n",
              "        \n",
              "  <svg xmlns=\"http://www.w3.org/2000/svg\" height=\"24px\"viewBox=\"0 0 24 24\"\n",
              "       width=\"24px\">\n",
              "    <path d=\"M0 0h24v24H0V0z\" fill=\"none\"/>\n",
              "    <path d=\"M18.56 5.44l.94 2.06.94-2.06 2.06-.94-2.06-.94-.94-2.06-.94 2.06-2.06.94zm-11 1L8.5 8.5l.94-2.06 2.06-.94-2.06-.94L8.5 2.5l-.94 2.06-2.06.94zm10 10l.94 2.06.94-2.06 2.06-.94-2.06-.94-.94-2.06-.94 2.06-2.06.94z\"/><path d=\"M17.41 7.96l-1.37-1.37c-.4-.4-.92-.59-1.43-.59-.52 0-1.04.2-1.43.59L10.3 9.45l-7.72 7.72c-.78.78-.78 2.05 0 2.83L4 21.41c.39.39.9.59 1.41.59.51 0 1.02-.2 1.41-.59l7.78-7.78 2.81-2.81c.8-.78.8-2.07 0-2.86zM5.41 20L4 18.59l7.72-7.72 1.47 1.35L5.41 20z\"/>\n",
              "  </svg>\n",
              "      </button>\n",
              "      \n",
              "  <style>\n",
              "    .colab-df-container {\n",
              "      display:flex;\n",
              "      flex-wrap:wrap;\n",
              "      gap: 12px;\n",
              "    }\n",
              "\n",
              "    .colab-df-convert {\n",
              "      background-color: #E8F0FE;\n",
              "      border: none;\n",
              "      border-radius: 50%;\n",
              "      cursor: pointer;\n",
              "      display: none;\n",
              "      fill: #1967D2;\n",
              "      height: 32px;\n",
              "      padding: 0 0 0 0;\n",
              "      width: 32px;\n",
              "    }\n",
              "\n",
              "    .colab-df-convert:hover {\n",
              "      background-color: #E2EBFA;\n",
              "      box-shadow: 0px 1px 2px rgba(60, 64, 67, 0.3), 0px 1px 3px 1px rgba(60, 64, 67, 0.15);\n",
              "      fill: #174EA6;\n",
              "    }\n",
              "\n",
              "    [theme=dark] .colab-df-convert {\n",
              "      background-color: #3B4455;\n",
              "      fill: #D2E3FC;\n",
              "    }\n",
              "\n",
              "    [theme=dark] .colab-df-convert:hover {\n",
              "      background-color: #434B5C;\n",
              "      box-shadow: 0px 1px 3px 1px rgba(0, 0, 0, 0.15);\n",
              "      filter: drop-shadow(0px 1px 2px rgba(0, 0, 0, 0.3));\n",
              "      fill: #FFFFFF;\n",
              "    }\n",
              "  </style>\n",
              "\n",
              "      <script>\n",
              "        const buttonEl =\n",
              "          document.querySelector('#df-a174d008-99bd-43e3-9ed5-4f67599e4d4c button.colab-df-convert');\n",
              "        buttonEl.style.display =\n",
              "          google.colab.kernel.accessAllowed ? 'block' : 'none';\n",
              "\n",
              "        async function convertToInteractive(key) {\n",
              "          const element = document.querySelector('#df-a174d008-99bd-43e3-9ed5-4f67599e4d4c');\n",
              "          const dataTable =\n",
              "            await google.colab.kernel.invokeFunction('convertToInteractive',\n",
              "                                                     [key], {});\n",
              "          if (!dataTable) return;\n",
              "\n",
              "          const docLinkHtml = 'Like what you see? Visit the ' +\n",
              "            '<a target=\"_blank\" href=https://colab.research.google.com/notebooks/data_table.ipynb>data table notebook</a>'\n",
              "            + ' to learn more about interactive tables.';\n",
              "          element.innerHTML = '';\n",
              "          dataTable['output_type'] = 'display_data';\n",
              "          await google.colab.output.renderOutput(dataTable, element);\n",
              "          const docLink = document.createElement('div');\n",
              "          docLink.innerHTML = docLinkHtml;\n",
              "          element.appendChild(docLink);\n",
              "        }\n",
              "      </script>\n",
              "    </div>\n",
              "  </div>\n",
              "  "
            ]
          },
          "metadata": {},
          "execution_count": 13
        }
      ]
    },
    {
      "cell_type": "markdown",
      "source": [
        "taster_name보다 taster_twitter_handle의 결측치가 더 많다는 점   \n",
        "taster_name과 taster_twitter_hanlde의 이름이 비슷한 경우가 많다는 점\n",
        "그리고 비슷한 이름끼리 부여한 평균 점수도 비슷하다는 점, 즉 이름을 표현하는 방식만 다른 것으로 보인다.\n",
        "\n",
        "따라서, 두 피쳐는 비슷한 정보를 담고 있는 것으로 이해할 수 있다.\n",
        "소믈리에 중에서 트위터를 하지 않는 사람은 트위터 정보가 없으므로 twitter 피처의 결측치가 더 많은 것으로 추측된다.   \n",
        "따라서, 더 많은 정보를 담고 있고 다른 하나를 포함하는 taster_name만 사용해도 될 것 같다. "
      ],
      "metadata": {
        "id": "sB8J4KbdweB2"
      }
    },
    {
      "cell_type": "code",
      "source": [
        "temp = df[['variety', 'points']]\n",
        "temp.groupby('variety').mean().sort_values(by = 'points', ascending = False)"
      ],
      "metadata": {
        "colab": {
          "base_uri": "https://localhost:8080/",
          "height": 455
        },
        "id": "i6fs9Da0xKMg",
        "outputId": "7d2cd5e7-8def-49db-8ee5-17ac2f1b515e"
      },
      "execution_count": null,
      "outputs": [
        {
          "output_type": "execute_result",
          "data": {
            "text/plain": [
              "                     points\n",
              "variety                    \n",
              "Tinta del Pais        95.00\n",
              "Gelber Traminer       95.00\n",
              "Bual                  94.40\n",
              "Riesling-Chardonnay   94.00\n",
              "Sercial               94.00\n",
              "...                     ...\n",
              "Aidani                82.00\n",
              "Picapoll              82.00\n",
              "Airen                 81.67\n",
              "Gragnano              81.00\n",
              "Chancellor            80.50\n",
              "\n",
              "[676 rows x 1 columns]"
            ],
            "text/html": [
              "\n",
              "  <div id=\"df-1e4d9482-49d6-401a-bbcb-102f081b264f\">\n",
              "    <div class=\"colab-df-container\">\n",
              "      <div>\n",
              "<style scoped>\n",
              "    .dataframe tbody tr th:only-of-type {\n",
              "        vertical-align: middle;\n",
              "    }\n",
              "\n",
              "    .dataframe tbody tr th {\n",
              "        vertical-align: top;\n",
              "    }\n",
              "\n",
              "    .dataframe thead th {\n",
              "        text-align: right;\n",
              "    }\n",
              "</style>\n",
              "<table border=\"1\" class=\"dataframe\">\n",
              "  <thead>\n",
              "    <tr style=\"text-align: right;\">\n",
              "      <th></th>\n",
              "      <th>points</th>\n",
              "    </tr>\n",
              "    <tr>\n",
              "      <th>variety</th>\n",
              "      <th></th>\n",
              "    </tr>\n",
              "  </thead>\n",
              "  <tbody>\n",
              "    <tr>\n",
              "      <th>Tinta del Pais</th>\n",
              "      <td>95.00</td>\n",
              "    </tr>\n",
              "    <tr>\n",
              "      <th>Gelber Traminer</th>\n",
              "      <td>95.00</td>\n",
              "    </tr>\n",
              "    <tr>\n",
              "      <th>Bual</th>\n",
              "      <td>94.40</td>\n",
              "    </tr>\n",
              "    <tr>\n",
              "      <th>Riesling-Chardonnay</th>\n",
              "      <td>94.00</td>\n",
              "    </tr>\n",
              "    <tr>\n",
              "      <th>Sercial</th>\n",
              "      <td>94.00</td>\n",
              "    </tr>\n",
              "    <tr>\n",
              "      <th>...</th>\n",
              "      <td>...</td>\n",
              "    </tr>\n",
              "    <tr>\n",
              "      <th>Aidani</th>\n",
              "      <td>82.00</td>\n",
              "    </tr>\n",
              "    <tr>\n",
              "      <th>Picapoll</th>\n",
              "      <td>82.00</td>\n",
              "    </tr>\n",
              "    <tr>\n",
              "      <th>Airen</th>\n",
              "      <td>81.67</td>\n",
              "    </tr>\n",
              "    <tr>\n",
              "      <th>Gragnano</th>\n",
              "      <td>81.00</td>\n",
              "    </tr>\n",
              "    <tr>\n",
              "      <th>Chancellor</th>\n",
              "      <td>80.50</td>\n",
              "    </tr>\n",
              "  </tbody>\n",
              "</table>\n",
              "<p>676 rows × 1 columns</p>\n",
              "</div>\n",
              "      <button class=\"colab-df-convert\" onclick=\"convertToInteractive('df-1e4d9482-49d6-401a-bbcb-102f081b264f')\"\n",
              "              title=\"Convert this dataframe to an interactive table.\"\n",
              "              style=\"display:none;\">\n",
              "        \n",
              "  <svg xmlns=\"http://www.w3.org/2000/svg\" height=\"24px\"viewBox=\"0 0 24 24\"\n",
              "       width=\"24px\">\n",
              "    <path d=\"M0 0h24v24H0V0z\" fill=\"none\"/>\n",
              "    <path d=\"M18.56 5.44l.94 2.06.94-2.06 2.06-.94-2.06-.94-.94-2.06-.94 2.06-2.06.94zm-11 1L8.5 8.5l.94-2.06 2.06-.94-2.06-.94L8.5 2.5l-.94 2.06-2.06.94zm10 10l.94 2.06.94-2.06 2.06-.94-2.06-.94-.94-2.06-.94 2.06-2.06.94z\"/><path d=\"M17.41 7.96l-1.37-1.37c-.4-.4-.92-.59-1.43-.59-.52 0-1.04.2-1.43.59L10.3 9.45l-7.72 7.72c-.78.78-.78 2.05 0 2.83L4 21.41c.39.39.9.59 1.41.59.51 0 1.02-.2 1.41-.59l7.78-7.78 2.81-2.81c.8-.78.8-2.07 0-2.86zM5.41 20L4 18.59l7.72-7.72 1.47 1.35L5.41 20z\"/>\n",
              "  </svg>\n",
              "      </button>\n",
              "      \n",
              "  <style>\n",
              "    .colab-df-container {\n",
              "      display:flex;\n",
              "      flex-wrap:wrap;\n",
              "      gap: 12px;\n",
              "    }\n",
              "\n",
              "    .colab-df-convert {\n",
              "      background-color: #E8F0FE;\n",
              "      border: none;\n",
              "      border-radius: 50%;\n",
              "      cursor: pointer;\n",
              "      display: none;\n",
              "      fill: #1967D2;\n",
              "      height: 32px;\n",
              "      padding: 0 0 0 0;\n",
              "      width: 32px;\n",
              "    }\n",
              "\n",
              "    .colab-df-convert:hover {\n",
              "      background-color: #E2EBFA;\n",
              "      box-shadow: 0px 1px 2px rgba(60, 64, 67, 0.3), 0px 1px 3px 1px rgba(60, 64, 67, 0.15);\n",
              "      fill: #174EA6;\n",
              "    }\n",
              "\n",
              "    [theme=dark] .colab-df-convert {\n",
              "      background-color: #3B4455;\n",
              "      fill: #D2E3FC;\n",
              "    }\n",
              "\n",
              "    [theme=dark] .colab-df-convert:hover {\n",
              "      background-color: #434B5C;\n",
              "      box-shadow: 0px 1px 3px 1px rgba(0, 0, 0, 0.15);\n",
              "      filter: drop-shadow(0px 1px 2px rgba(0, 0, 0, 0.3));\n",
              "      fill: #FFFFFF;\n",
              "    }\n",
              "  </style>\n",
              "\n",
              "      <script>\n",
              "        const buttonEl =\n",
              "          document.querySelector('#df-1e4d9482-49d6-401a-bbcb-102f081b264f button.colab-df-convert');\n",
              "        buttonEl.style.display =\n",
              "          google.colab.kernel.accessAllowed ? 'block' : 'none';\n",
              "\n",
              "        async function convertToInteractive(key) {\n",
              "          const element = document.querySelector('#df-1e4d9482-49d6-401a-bbcb-102f081b264f');\n",
              "          const dataTable =\n",
              "            await google.colab.kernel.invokeFunction('convertToInteractive',\n",
              "                                                     [key], {});\n",
              "          if (!dataTable) return;\n",
              "\n",
              "          const docLinkHtml = 'Like what you see? Visit the ' +\n",
              "            '<a target=\"_blank\" href=https://colab.research.google.com/notebooks/data_table.ipynb>data table notebook</a>'\n",
              "            + ' to learn more about interactive tables.';\n",
              "          element.innerHTML = '';\n",
              "          dataTable['output_type'] = 'display_data';\n",
              "          await google.colab.output.renderOutput(dataTable, element);\n",
              "          const docLink = document.createElement('div');\n",
              "          docLink.innerHTML = docLinkHtml;\n",
              "          element.appendChild(docLink);\n",
              "        }\n",
              "      </script>\n",
              "    </div>\n",
              "  </div>\n",
              "  "
            ]
          },
          "metadata": {},
          "execution_count": 14
        }
      ]
    },
    {
      "cell_type": "markdown",
      "source": [
        "label값은 분포가 잘 돼있다."
      ],
      "metadata": {
        "id": "eByPZ5_asJ_o"
      }
    },
    {
      "cell_type": "code",
      "source": [
        "plt.hist(df['points'], bins = 30)\n",
        "plt.show()"
      ],
      "metadata": {
        "colab": {
          "base_uri": "https://localhost:8080/",
          "height": 265
        },
        "id": "LHkPO4bIuzqm",
        "outputId": "9687de0e-a881-4253-8739-11da20055e46"
      },
      "execution_count": null,
      "outputs": [
        {
          "output_type": "display_data",
          "data": {
            "text/plain": [
              "<Figure size 432x288 with 1 Axes>"
            ],
            "image/png": "[encoded data removed]"
          },
          "metadata": {
            "needs_background": "light"
          }
        }
      ]
    },
    {
      "cell_type": "markdown",
      "source": [
        "# PreProcessing"
      ],
      "metadata": {
        "id": "tEcbkdvkX5uE"
      }
    },
    {
      "cell_type": "code",
      "source": [
        "# feature selection\n",
        "temp = df[['country', 'price', 'province', 'taster_name', 'variety', 'points']]\n",
        "# 결측치 레코드 제거\n",
        "temp.dropna(axis = 0, inplace = True)\n",
        "\n",
        "print(temp.head())\n",
        "print(temp.info())"
      ],
      "metadata": {
        "id": "8mLZ9n0GqWVI",
        "colab": {
          "base_uri": "https://localhost:8080/"
        },
        "outputId": "d3c9ef71-9c94-435c-b9d1-21918a148d39"
      },
      "execution_count": null,
      "outputs": [
        {
          "output_type": "stream",
          "name": "stdout",
          "text": [
            "     country  price         province        taster_name        variety  points\n",
            "0  Australia   5.00  Australia Other     Joe Czerwinski     Chardonnay      83\n",
            "1     France  12.00     Rhône Valley         Roger Voss           Rosé      85\n",
            "2      Spain   9.00   Northern Spain  Michael Schachner  Verdejo-Viura      86\n",
            "5         US  22.00       California         Jim Gordon     Chardonnay      90\n",
            "6         US  33.00           Oregon       Paul Gregutt     Pinot Noir      90\n",
            "<class 'pandas.core.frame.DataFrame'>\n",
            "Int64Index: 77148 entries, 0 to 103975\n",
            "Data columns (total 6 columns):\n",
            " #   Column       Non-Null Count  Dtype  \n",
            "---  ------       --------------  -----  \n",
            " 0   country      77148 non-null  object \n",
            " 1   price        77148 non-null  float64\n",
            " 2   province     77148 non-null  object \n",
            " 3   taster_name  77148 non-null  object \n",
            " 4   variety      77148 non-null  object \n",
            " 5   points       77148 non-null  int64  \n",
            "dtypes: float64(1), int64(1), object(4)\n",
            "memory usage: 4.1+ MB\n",
            "None\n"
          ]
        }
      ]
    },
    {
      "cell_type": "code",
      "source": [
        "X = temp.drop('points', axis=  1)\n",
        "y = temp['points']"
      ],
      "metadata": {
        "id": "-P_7d78Touen"
      },
      "execution_count": null,
      "outputs": []
    },
    {
      "cell_type": "code",
      "source": [
        "# 원본 저장\n",
        "origin = X.copy()"
      ],
      "metadata": {
        "id": "HgteWU8GahT9"
      },
      "execution_count": null,
      "outputs": []
    },
    {
      "cell_type": "markdown",
      "source": [
        "## OneHotEncoding"
      ],
      "metadata": {
        "id": "oK9FzwWIvyOy"
      }
    },
    {
      "cell_type": "code",
      "source": [
        "from sklearn.preprocessing import OneHotEncoder\n",
        "\n",
        "ohe_country = OneHotEncoder(handle_unknown = 'ignore')\n",
        "ohe_province = OneHotEncoder(handle_unknown = 'ignore')\n",
        "ohe_taster_name = OneHotEncoder(handle_unknown = 'ignore')\n",
        "ohe_variety = OneHotEncoder(handle_unknown = 'ignore')\n",
        "\n",
        "# 범주형 변수 4개 원핫 인코딩 (결과값은 np.array)\n",
        "country_np = ohe_country.fit_transform(X[['country']])\n",
        "province_np = ohe_province.fit_transform(X[['province']])\n",
        "taster_name_np = ohe_taster_name.fit_transform(X[['taster_name']])\n",
        "variety_np = ohe_variety.fit_transform(X[['variety']])\n"
      ],
      "metadata": {
        "id": "ieoHm5_av13c"
      },
      "execution_count": null,
      "outputs": []
    },
    {
      "cell_type": "code",
      "source": [
        "# np.array dataframe으로 변환\n",
        "country_df = pd.DataFrame.sparse.from_spmatrix(country_np, columns=['country_' + col for col in ohe_country.categories_[0]])\n",
        "country_df.reset_index(drop=True, inplace = True)\n",
        "\n",
        "province_df = pd.DataFrame.sparse.from_spmatrix(province_np, columns=['province_' + col for col in ohe_province.categories_[0]])\n",
        "province_df.reset_index(drop=True, inplace = True)\n",
        "\n",
        "taster_name_df = pd.DataFrame.sparse.from_spmatrix(taster_name_np, columns=['taster_' + col for col in ohe_taster_name.categories_[0]])\n",
        "taster_name_df.reset_index(drop=True, inplace = True)\n",
        "\n",
        "variety_df = pd.DataFrame.sparse.from_spmatrix(variety_np, columns=['variety_' + col for col in ohe_variety.categories_[0]])\n",
        "variety_df.reset_index(drop=True, inplace = True)\n",
        "\n",
        "\n",
        "X_price = X.drop(['country', 'province', 'taster_name', 'variety'], axis=1)\n",
        "X_price.reset_index(drop=True, inplace = True)\n",
        "\n",
        "# one hot encoding 한거 다 합치기\n",
        "X = pd.concat([X_price, country_df, province_df, taster_name_df, variety_df], axis=1)"
      ],
      "metadata": {
        "id": "kuaKP5KUydfA"
      },
      "execution_count": null,
      "outputs": []
    },
    {
      "cell_type": "code",
      "source": [
        "X_ohe = X.copy()"
      ],
      "metadata": {
        "id": "iKGVRc0YEAnk"
      },
      "execution_count": null,
      "outputs": []
    },
    {
      "cell_type": "markdown",
      "source": [
        "+ price 아웃라이어 제거"
      ],
      "metadata": {
        "id": "GlMjcxBcs4dq"
      }
    },
    {
      "cell_type": "code",
      "source": [
        "# price에 너무 큰 아웃라이어가 있다.\n",
        "# 0.95 정도로 제거하면 아웃라이어 처리 완료\n",
        "\n",
        "temp = X['price']\n",
        "print( 'Before : ')\n",
        "print(temp.describe())\n",
        "print()\n",
        "print('After : ')\n",
        "temp = temp[temp < temp.quantile(0.95)]\n",
        "\n",
        "print(temp.describe(), '\\n')\n",
        "\n",
        "sns.histplot(x = temp, kde = True)"
      ],
      "metadata": {
        "colab": {
          "base_uri": "https://localhost:8080/",
          "height": 696
        },
        "id": "-8C0M81gChp4",
        "outputId": "43fa771b-7765-41a9-f029-75e0504543b5"
      },
      "execution_count": null,
      "outputs": [
        {
          "output_type": "stream",
          "name": "stdout",
          "text": [
            "Before : \n",
            "count   77148.00\n",
            "mean       35.11\n",
            "std        44.71\n",
            "min         4.00\n",
            "25%        17.00\n",
            "50%        25.00\n",
            "75%        40.00\n",
            "max      3300.00\n",
            "Name: price, dtype: float64\n",
            "\n",
            "After : \n",
            "count   73280.00\n",
            "mean       29.10\n",
            "std        16.71\n",
            "min         4.00\n",
            "25%        16.00\n",
            "50%        25.00\n",
            "75%        38.00\n",
            "max        84.00\n",
            "Name: price, dtype: float64 \n",
            "\n"
          ]
        },
        {
          "output_type": "execute_result",
          "data": {
            "text/plain": [
              "<matplotlib.axes._subplots.AxesSubplot at 0x7fe5fb540e10>"
            ]
          },
          "metadata": {},
          "execution_count": 28
        },
        {
          "output_type": "display_data",
          "data": {
            "text/plain": [
              "<Figure size 432x288 with 1 Axes>"
            ],
            "image/png": "[encoded data removed]"
          },
          "metadata": {
            "needs_background": "light"
          }
        }
      ]
    },
    {
      "cell_type": "code",
      "source": [
        "# Price 아웃라이어 정리\n",
        "y.reset_index(drop=True, inplace= True)\n",
        "boolean_index = X['price'] < X['price'].quantile(0.95)\n",
        "X = X[boolean_index]\n",
        "y = y[boolean_index]"
      ],
      "metadata": {
        "id": "dC4q2Gu1ZvDC"
      },
      "execution_count": null,
      "outputs": []
    },
    {
      "cell_type": "markdown",
      "source": [
        "# Training"
      ],
      "metadata": {
        "id": "-mU4gMa6ZOg4"
      }
    },
    {
      "cell_type": "markdown",
      "source": [
        "### Import"
      ],
      "metadata": {
        "id": "F6ec1qwcZT6A"
      }
    },
    {
      "cell_type": "code",
      "source": [
        "from sklearn.linear_model import LinearRegression\n",
        "from sklearn.model_selection import GridSearchCV, train_test_split, cross_val_score\n",
        "from sklearn.metrics import mean_squared_error, r2_score\n",
        "from sklearn.preprocessing import PolynomialFeatures"
      ],
      "metadata": {
        "id": "d5HQBYglZU8W"
      },
      "execution_count": null,
      "outputs": []
    },
    {
      "cell_type": "markdown",
      "source": [
        "### Data Split"
      ],
      "metadata": {
        "id": "VczX0b03ZQh5"
      }
    },
    {
      "cell_type": "code",
      "source": [
        "X_train, X_val, y_train, y_val = train_test_split(X, y, test_size = 0.3, random_state = RANDOM_STATE)"
      ],
      "metadata": {
        "id": "NBFpvThiZSWY"
      },
      "execution_count": null,
      "outputs": []
    },
    {
      "cell_type": "code",
      "source": [
        "# 인덱스가 더러워져서, 인덱스 처리\n",
        "X.reset_index(drop = True, inplace = True)\n",
        "y.reset_index(drop = True, inplace = True)\n",
        "X_train.reset_index(drop = True, inplace = True)\n",
        "X_val.reset_index(drop = True, inplace = True)\n",
        "y_train.reset_index(drop = True, inplace=  True)\n",
        "y_val.reset_index(drop= True, inplace = True)"
      ],
      "metadata": {
        "id": "MmGaxcvdH-ot"
      },
      "execution_count": null,
      "outputs": []
    },
    {
      "cell_type": "code",
      "source": [
        "print(X.info())\n",
        "print(y.shape)"
      ],
      "metadata": {
        "colab": {
          "base_uri": "https://localhost:8080/"
        },
        "id": "5LfzzTPw9MFO",
        "outputId": "8ad9ed0f-6b96-4a6c-903f-d739ee3d7547"
      },
      "execution_count": null,
      "outputs": [
        {
          "output_type": "stream",
          "name": "stdout",
          "text": [
            "<class 'pandas.core.frame.DataFrame'>\n",
            "RangeIndex: 73280 entries, 0 to 73279\n",
            "Columns: 1084 entries, price to variety_Žilavka\n",
            "dtypes: Sparse[float64, 0](1083), float64(1)\n",
            "memory usage: 3.9 MB\n",
            "None\n",
            "(73280,)\n"
          ]
        }
      ]
    },
    {
      "cell_type": "markdown",
      "source": [
        "### metric_function\n",
        "\n",
        "+ eval_kfold()   \n",
        "\n",
        "자동으로 5 fold evaluation 해주는  cross_vale_score 함수를 이용   \n",
        "mse, rmse, 평균 rmse를 출력\n",
        "\n"
      ],
      "metadata": {
        "id": "ZD2UVDd83W5x"
      }
    },
    {
      "cell_type": "code",
      "source": [
        "def eval_kfold(model ,X_data, y_target):\n",
        "    neg_mse_scores = cross_val_score(model, X_data, y_target, scoring = 'neg_mean_squared_error', cv = 5)\n",
        "    rmse_scores = np.sqrt(-1 * neg_mse_scores)\n",
        "    avg_rmse = np.mean(rmse_scores) \n",
        "\n",
        "    print('Each Negative MSE scores : ', np.round(neg_mse_scores, 2))\n",
        "    print('Each RMSE scores : ', np.round(rmse_scores, 2))\n",
        "    print(f'AVG RMSE : {avg_rmse:.2f}')\n",
        "\n"
      ],
      "metadata": {
        "id": "hPtlPceV3ZCV"
      },
      "execution_count": null,
      "outputs": []
    },
    {
      "cell_type": "markdown",
      "source": [
        "## Linear Regression"
      ],
      "metadata": {
        "id": "AO8wmmJycACc"
      }
    },
    {
      "cell_type": "markdown",
      "source": [
        "### Basic Linear Regression"
      ],
      "metadata": {
        "id": "_BeUscdVNwMm"
      }
    },
    {
      "cell_type": "markdown",
      "source": [
        "우선 선형회귀를 적용해보자"
      ],
      "metadata": {
        "id": "w-dzIoPo5iA_"
      }
    },
    {
      "cell_type": "code",
      "source": [
        "lr = LinearRegression()\n",
        "eval_kfold(lr, X, y)"
      ],
      "metadata": {
        "id": "YFD1Oc7scBdl",
        "colab": {
          "base_uri": "https://localhost:8080/"
        },
        "outputId": "92ce02ea-11a8-464f-a6b2-c9d4047d00b6"
      },
      "execution_count": null,
      "outputs": [
        {
          "output_type": "stream",
          "name": "stdout",
          "text": [
            "Each Negative MSE scores :  [-4.82000000e+00 -2.56770780e+17 -6.33341437e+16 -9.89799408e+16\n",
            " -1.24064710e+18]\n",
            "Each RMSE scores :  [2.19000000e+00 5.06725547e+08 2.51662758e+08 3.14610777e+08\n",
            " 1.11384339e+09]\n",
            "AVG RMSE : 437368495.17\n"
          ]
        }
      ]
    },
    {
      "cell_type": "markdown",
      "source": [
        "결과가 상당히 안좋다. 원인이 무엇일까? 우선 계수들을 살펴보자   \n",
        "계수들을 절대값이 큰 순서대로 정렬해보았다."
      ],
      "metadata": {
        "id": "9kWST7l7Lwr5"
      }
    },
    {
      "cell_type": "markdown",
      "source": [
        "계수들이 엄청나게 크다 과적합의 의심된다.   \n",
        "직접 모델을 돌려보고 train데이터와 test(validation)데이터에서의 성능 차이를 살펴보자"
      ],
      "metadata": {
        "id": "YF55BzrsLdx-"
      }
    },
    {
      "cell_type": "code",
      "source": [
        "lr = LinearRegression()\n",
        "\n",
        "lr.fit(X_train, y_train) # 학습\n",
        "y_train_preds = lr.predict(X_train) # 학습한 데이터와 같은 데이터로 예측\n",
        "y_val_preds = lr.predict(X_val) # validation set 데이터로 예측\n",
        "\n",
        "train_set_mse = mean_squared_error(y_pred = y_train_preds, y_true = y_train) \n",
        "val_set_mse = mean_squared_error(y_pred = y_val_preds, y_true = y_val)\n",
        "\n",
        "print(f'Train set MSE : {train_set_mse:.2f}')\n",
        "print(f'Validation set MSE : {val_set_mse:.2f}')"
      ],
      "metadata": {
        "colab": {
          "base_uri": "https://localhost:8080/"
        },
        "id": "sgzNP4BRLhk6",
        "outputId": "fed81965-0d31-4219-fc38-bab1972594b8"
      },
      "execution_count": null,
      "outputs": [
        {
          "output_type": "stream",
          "name": "stdout",
          "text": [
            "Train set MSE : 4.66\n",
            "Validation set MSE : 1789993069690905.25\n"
          ]
        }
      ]
    },
    {
      "cell_type": "markdown",
      "source": [
        "엄청나게 과적합 되어 있는 것을 확인할 수 있다.    \n",
        "Regularization을 적용하자."
      ],
      "metadata": {
        "id": "S3aavjBXM3eL"
      }
    },
    {
      "cell_type": "markdown",
      "source": [
        "그전에, price가 좌편향 되어있었으므로, 로그변환을 적용해보자\n",
        "\n",
        "X_log <- 로그 적용 후 데이터"
      ],
      "metadata": {
        "id": "DUuqKiBB2QwS"
      }
    },
    {
      "cell_type": "code",
      "source": [
        "X_log = X.copy()\n",
        "X_log['price'] = np.log(X_log['price'])\n",
        "X_log['price'].hist(bins = 30)"
      ],
      "metadata": {
        "colab": {
          "base_uri": "https://localhost:8080/",
          "height": 283
        },
        "id": "TI9xMUQJ2TcW",
        "outputId": "ec81ddc1-b5b5-4cba-8144-6574fb03962e"
      },
      "execution_count": null,
      "outputs": [
        {
          "output_type": "execute_result",
          "data": {
            "text/plain": [
              "<matplotlib.axes._subplots.AxesSubplot at 0x7fe5f82f2dd0>"
            ]
          },
          "metadata": {},
          "execution_count": 38
        },
        {
          "output_type": "display_data",
          "data": {
            "text/plain": [
              "<Figure size 432x288 with 1 Axes>"
            ],
            "image/png": "[encoded data removed]"
          },
          "metadata": {
            "needs_background": "light"
          }
        }
      ]
    },
    {
      "cell_type": "code",
      "source": [
        "lr = LinearRegression()\n",
        "eval_kfold(lr, X_log, y)"
      ],
      "metadata": {
        "colab": {
          "base_uri": "https://localhost:8080/"
        },
        "id": "3Kfpe-jYFo53",
        "outputId": "08ce1f91-375e-4b72-82a3-a9f1a4a778a7"
      },
      "execution_count": null,
      "outputs": [
        {
          "output_type": "stream",
          "name": "stdout",
          "text": [
            "Each Negative MSE scores :  [-2.71781916e+18 -5.64886292e+21 -1.63937607e+18 -1.86928398e+17\n",
            " -4.57198027e+17]\n",
            "Each RMSE scores :  [1.64858095e+09 7.51589178e+10 1.28038122e+09 4.32352169e+08\n",
            " 6.76164201e+08]\n",
            "AVG RMSE : 15839279261.64\n"
          ]
        }
      ]
    },
    {
      "cell_type": "markdown",
      "source": [
        "훨씬 정규분포에 가까워진 모습이다.   \n",
        "하지만 아직 정규화를 하지 않았기 때문에 과적합 문제가 해결되지 않았다.  \n",
        "정규화를 시작해보자"
      ],
      "metadata": {
        "id": "3vipFO36FkxZ"
      }
    },
    {
      "cell_type": "markdown",
      "source": [
        "### Regularization\n",
        "\n",
        "+ Ridge, Lasso, ElasticNet 사용"
      ],
      "metadata": {
        "id": "NW0joXNiHzlV"
      }
    },
    {
      "cell_type": "code",
      "source": [
        "from sklearn.linear_model import Ridge, Lasso, ElasticNet"
      ],
      "metadata": {
        "id": "OK7bNKbsH19t"
      },
      "execution_count": null,
      "outputs": []
    },
    {
      "cell_type": "markdown",
      "source": [
        "우선, 로그 변환이 유효한지 보기위해 기본 모델로 비교를 해보았다."
      ],
      "metadata": {
        "id": "pek-RB8dNRw6"
      }
    },
    {
      "cell_type": "code",
      "source": [
        "ridge = Ridge(alpha = 10)\n",
        "print('Log Transformed : ')\n",
        "eval_kfold(ridge, X_log, y)\n",
        "print()\n",
        "print('Original: ')\n",
        "eval_kfold(ridge, X, y)"
      ],
      "metadata": {
        "colab": {
          "base_uri": "https://localhost:8080/"
        },
        "id": "ySoQHqw0H5Y0",
        "outputId": "11af5de6-2140-45c5-d39d-f0a50b0b13ba"
      },
      "execution_count": null,
      "outputs": [
        {
          "output_type": "stream",
          "name": "stdout",
          "text": [
            "Log Transformed : \n",
            "Each Negative MSE scores :  [-4.54 -4.6  -4.67 -4.5  -4.5 ]\n",
            "Each RMSE scores :  [2.13 2.14 2.16 2.12 2.12]\n",
            "AVG RMSE : 2.14\n",
            "\n",
            "Original: \n",
            "Each Negative MSE scores :  [-4.78 -4.83 -4.88 -4.73 -4.73]\n",
            "Each RMSE scores :  [2.19 2.2  2.21 2.18 2.17]\n",
            "AVG RMSE : 2.19\n"
          ]
        }
      ]
    },
    {
      "cell_type": "markdown",
      "source": [
        "log 변환이 조금 더 성능이 좋아보인다. price가 천개가 넘는 피처에서 영향력이 그리 크지 않기 때문으로 보인다.   \n",
        "차이가 크지 않고 로그데이터가 더 좋기 때문에 앞으로는 로그 데이터 값으로만 진행하려고 한다."
      ],
      "metadata": {
        "id": "YLcjLuvmItiJ"
      }
    },
    {
      "cell_type": "code",
      "source": [
        "# Regularization 적용시 사용할 평가 함수\n",
        "def linear_reg_model_eval(model_name, alphas, X_data, y_target) :\n",
        "\n",
        "    print('--------------- ', model_name, ' ---------------')\n",
        "\n",
        "    for alpha in alphas:\n",
        "        if model_name == 'Ridge' : model = Ridge(alpha = alpha)\n",
        "        elif model_name == 'Lasso' : model = Lasso(alpha= alpha)\n",
        "        elif model_name == 'ElasticNet' : model = ElasticNet(alpha = alpha, l1_ratio = 0.7)\n",
        "        else : \n",
        "            print('Invalid model name!'); return;\n",
        "\n",
        "        print('alpha = ', alpha, ' )')\n",
        "        eval_kfold(model, X_data, y)\n",
        "        print()\n"
      ],
      "metadata": {
        "id": "oxwEvdeWIWo4"
      },
      "execution_count": null,
      "outputs": []
    },
    {
      "cell_type": "code",
      "source": [
        "# 사용할 alpha 값\n",
        "alphas = [0.07, 0.1, 0.5, 1, 3, 5, 10]"
      ],
      "metadata": {
        "id": "hbmecRCkITvD"
      },
      "execution_count": null,
      "outputs": []
    },
    {
      "cell_type": "code",
      "source": [
        "# Ridge\n",
        "linear_reg_model_eval('Ridge', alphas, X_log, y)"
      ],
      "metadata": {
        "colab": {
          "base_uri": "https://localhost:8080/"
        },
        "id": "e8XzIFr0HxTK",
        "outputId": "81b7b5f2-fe3a-4456-f8e6-b48bf2cc1057"
      },
      "execution_count": null,
      "outputs": [
        {
          "output_type": "stream",
          "name": "stdout",
          "text": [
            "---------------  Ridge  ---------------\n",
            "alpha =  0.07  )\n",
            "Each Negative MSE scores :  [-4.57 -4.61 -4.7  -4.5  -4.52]\n",
            "Each RMSE scores :  [2.14 2.15 2.17 2.12 2.13]\n",
            "AVG RMSE : 2.14\n",
            "\n",
            "alpha =  0.1  )\n",
            "Each Negative MSE scores :  [-4.57 -4.61 -4.7  -4.5  -4.52]\n",
            "Each RMSE scores :  [2.14 2.15 2.17 2.12 2.13]\n",
            "AVG RMSE : 2.14\n",
            "\n",
            "alpha =  0.5  )\n",
            "Each Negative MSE scores :  [-4.56 -4.6  -4.69 -4.5  -4.51]\n",
            "Each RMSE scores :  [2.13 2.15 2.16 2.12 2.12]\n",
            "AVG RMSE : 2.14\n",
            "\n",
            "alpha =  1  )\n",
            "Each Negative MSE scores :  [-4.55 -4.6  -4.68 -4.49 -4.5 ]\n",
            "Each RMSE scores :  [2.13 2.14 2.16 2.12 2.12]\n",
            "AVG RMSE : 2.14\n",
            "\n",
            "alpha =  3  )\n",
            "Each Negative MSE scores :  [-4.54 -4.6  -4.67 -4.49 -4.5 ]\n",
            "Each RMSE scores :  [2.13 2.14 2.16 2.12 2.12]\n",
            "AVG RMSE : 2.14\n",
            "\n",
            "alpha =  5  )\n",
            "Each Negative MSE scores :  [-4.54 -4.6  -4.67 -4.49 -4.5 ]\n",
            "Each RMSE scores :  [2.13 2.14 2.16 2.12 2.12]\n",
            "AVG RMSE : 2.14\n",
            "\n",
            "alpha =  10  )\n",
            "Each Negative MSE scores :  [-4.54 -4.6  -4.67 -4.5  -4.5 ]\n",
            "Each RMSE scores :  [2.13 2.14 2.16 2.12 2.12]\n",
            "AVG RMSE : 2.14\n",
            "\n"
          ]
        }
      ]
    },
    {
      "cell_type": "code",
      "source": [
        "linear_reg_model_eval('Lasso', alphas, X_log, y)"
      ],
      "metadata": {
        "colab": {
          "base_uri": "https://localhost:8080/"
        },
        "id": "IgKtM5NMKuoI",
        "outputId": "56cf5bce-13ba-4c08-8869-4b9dc90bef97"
      },
      "execution_count": null,
      "outputs": [
        {
          "output_type": "stream",
          "name": "stdout",
          "text": [
            "---------------  Lasso  ---------------\n",
            "alpha =  0.07  )\n",
            "Each Negative MSE scores :  [-5.18 -5.25 -5.28 -5.18 -5.16]\n",
            "Each RMSE scores :  [2.28 2.29 2.3  2.28 2.27]\n",
            "AVG RMSE : 2.28\n",
            "\n",
            "alpha =  0.1  )\n",
            "Each Negative MSE scores :  [-5.23 -5.3  -5.33 -5.22 -5.2 ]\n",
            "Each RMSE scores :  [2.29 2.3  2.31 2.29 2.28]\n",
            "AVG RMSE : 2.29\n",
            "\n",
            "alpha =  0.5  )\n",
            "Each Negative MSE scores :  [-6.11 -6.11 -6.1  -6.03 -6.  ]\n",
            "Each RMSE scores :  [2.47 2.47 2.47 2.45 2.45]\n",
            "AVG RMSE : 2.46\n",
            "\n",
            "alpha =  1  )\n",
            "Each Negative MSE scores :  [-8.12 -8.08 -8.03 -7.98 -7.95]\n",
            "Each RMSE scores :  [2.85 2.84 2.83 2.82 2.82]\n",
            "AVG RMSE : 2.83\n",
            "\n",
            "alpha =  3  )\n",
            "Each Negative MSE scores :  [-8.12 -8.08 -8.03 -7.98 -7.95]\n",
            "Each RMSE scores :  [2.85 2.84 2.83 2.82 2.82]\n",
            "AVG RMSE : 2.83\n",
            "\n",
            "alpha =  5  )\n",
            "Each Negative MSE scores :  [-8.12 -8.08 -8.03 -7.98 -7.95]\n",
            "Each RMSE scores :  [2.85 2.84 2.83 2.82 2.82]\n",
            "AVG RMSE : 2.83\n",
            "\n",
            "alpha =  10  )\n",
            "Each Negative MSE scores :  [-8.12 -8.08 -8.03 -7.98 -7.95]\n",
            "Each RMSE scores :  [2.85 2.84 2.83 2.82 2.82]\n",
            "AVG RMSE : 2.83\n",
            "\n"
          ]
        }
      ]
    },
    {
      "cell_type": "code",
      "source": [
        "linear_reg_model_eval('ElasticNet', alphas, X_log, y)"
      ],
      "metadata": {
        "colab": {
          "base_uri": "https://localhost:8080/"
        },
        "id": "xwd3AYW1Kw2W",
        "outputId": "b0c86772-7c91-4a53-e852-0bf566408854"
      },
      "execution_count": null,
      "outputs": [
        {
          "output_type": "stream",
          "name": "stdout",
          "text": [
            "---------------  ElasticNet  ---------------\n",
            "alpha =  0.07  )\n",
            "Each Negative MSE scores :  [-5.14 -5.21 -5.24 -5.13 -5.12]\n",
            "Each RMSE scores :  [2.27 2.28 2.29 2.27 2.26]\n",
            "AVG RMSE : 2.27\n",
            "\n",
            "alpha =  0.1  )\n",
            "Each Negative MSE scores :  [-5.24 -5.3  -5.33 -5.23 -5.21]\n",
            "Each RMSE scores :  [2.29 2.3  2.31 2.29 2.28]\n",
            "AVG RMSE : 2.29\n",
            "\n",
            "alpha =  0.5  )\n",
            "Each Negative MSE scores :  [-6.24 -6.24 -6.22 -6.15 -6.12]\n",
            "Each RMSE scores :  [2.5  2.5  2.49 2.48 2.47]\n",
            "AVG RMSE : 2.49\n",
            "\n",
            "alpha =  1  )\n",
            "Each Negative MSE scores :  [-7.47 -7.43 -7.38 -7.34 -7.31]\n",
            "Each RMSE scores :  [2.73 2.73 2.72 2.71 2.7 ]\n",
            "AVG RMSE : 2.72\n",
            "\n",
            "alpha =  3  )\n",
            "Each Negative MSE scores :  [-8.12 -8.08 -8.03 -7.98 -7.95]\n",
            "Each RMSE scores :  [2.85 2.84 2.83 2.82 2.82]\n",
            "AVG RMSE : 2.83\n",
            "\n",
            "alpha =  5  )\n",
            "Each Negative MSE scores :  [-8.12 -8.08 -8.03 -7.98 -7.95]\n",
            "Each RMSE scores :  [2.85 2.84 2.83 2.82 2.82]\n",
            "AVG RMSE : 2.83\n",
            "\n",
            "alpha =  10  )\n",
            "Each Negative MSE scores :  [-8.12 -8.08 -8.03 -7.98 -7.95]\n",
            "Each RMSE scores :  [2.85 2.84 2.83 2.82 2.82]\n",
            "AVG RMSE : 2.83\n",
            "\n"
          ]
        }
      ]
    },
    {
      "cell_type": "markdown",
      "source": [
        "전반적으로 Ridge 모델이 더 성능이 좋다.   alpha값에 따른 성능차이는 크게 없었기 때문에 alpha값을 임의로 잡아서,\n",
        "\n",
        "Ridge(alpha = 1)인 모델을 이후에 테스트 데이터를 예측하는데 사용해보기로 했다."
      ],
      "metadata": {
        "id": "aHKAZByLNaJx"
      }
    },
    {
      "cell_type": "markdown",
      "source": [
        "## Decision Tree Regression"
      ],
      "metadata": {
        "id": "c6v3wISgY_YW"
      }
    },
    {
      "cell_type": "markdown",
      "source": [
        "1. 결정 트리 기반 다양한 앙상블 알고리즘 우선 기본 파라미터로 테스트"
      ],
      "metadata": {
        "id": "vyh4IzVWYMqK"
      }
    },
    {
      "cell_type": "code",
      "source": [
        "from sklearn.tree import DecisionTreeRegressor\n",
        "from sklearn.ensemble import RandomForestRegressor, GradientBoostingRegressor\n",
        "from xgboost import XGBRegressor\n",
        "from lightgbm import LGBMRegressor"
      ],
      "metadata": {
        "id": "udvBls2iVRsc"
      },
      "execution_count": null,
      "outputs": []
    },
    {
      "cell_type": "code",
      "source": [
        "dt = DecisionTreeRegressor(random_state = RANDOM_STATE, max_depth = 5) #decision tree\n",
        "rf = RandomForestRegressor(random_state = RANDOM_STATE, n_estimators = 10) #random forest(based on decision tree)\n",
        "gb = GradientBoostingRegressor(random_state = RANDOM_STATE, n_estimators = 10) # gradient boosting\n",
        "xgb = XGBRegressor(n_estimators = 10) # xgboost\n",
        "lgb = LGBMRegressor(n_estimators = 10) #light gradient boosting machine\n",
        "\n",
        "models = [dt, rf, gb, xgb, lgb]\n",
        "model_names = [\n",
        "    'Decision Tree Regressor',\n",
        "    'RandomForestRegressor',\n",
        "    'Gradient Boosting Regressor',\n",
        "    'XGBoost Regressor',\n",
        "    'Light Gradient Boosting Regressor'\n",
        "]"
      ],
      "metadata": {
        "id": "ChWFBNDKnZ9z"
      },
      "execution_count": null,
      "outputs": []
    },
    {
      "cell_type": "code",
      "source": [
        "for model, model_name in zip(models, model_names):\n",
        "    print('-------------------- ' , model_name , ' ---------------------')\n",
        "    eval_kfold(model, X, y)\n",
        "    print()"
      ],
      "metadata": {
        "id": "pS4yQbTEUseH",
        "colab": {
          "base_uri": "https://localhost:8080/"
        },
        "outputId": "2d900f7c-ad57-46eb-da3b-efffd825e090"
      },
      "execution_count": null,
      "outputs": [
        {
          "output_type": "stream",
          "name": "stdout",
          "text": [
            "--------------------  Decision Tree Regressor  ---------------------\n",
            "Each Negative MSE scores :  [-4.96 -5.05 -5.11 -4.98 -4.96]\n",
            "Each RMSE scores :  [2.23 2.25 2.26 2.23 2.23]\n",
            "AVG RMSE : 2.24\n",
            "\n",
            "--------------------  RandomForestRegressor  ---------------------\n",
            "Each Negative MSE scores :  [-4.66 -4.7  -4.83 -4.68 -4.71]\n",
            "Each RMSE scores :  [2.16 2.17 2.2  2.16 2.17]\n",
            "AVG RMSE : 2.17\n",
            "\n",
            "--------------------  Gradient Boosting Regressor  ---------------------\n",
            "Each Negative MSE scores :  [-5.48 -5.52 -5.54 -5.44 -5.4 ]\n",
            "Each RMSE scores :  [2.34 2.35 2.35 2.33 2.32]\n",
            "AVG RMSE : 2.34\n",
            "\n",
            "--------------------  XGBoost Regressor  ---------------------\n",
            "Each Negative MSE scores :  [nan nan nan nan nan]\n",
            "Each RMSE scores :  [nan nan nan nan nan]\n",
            "AVG RMSE : nan\n",
            "\n",
            "--------------------  Light Gradient Boosting Regressor  ---------------------\n",
            "Each Negative MSE scores :  [nan nan nan nan nan]\n",
            "Each RMSE scores :  [nan nan nan nan nan]\n",
            "AVG RMSE : nan\n",
            "\n"
          ]
        }
      ]
    },
    {
      "cell_type": "markdown",
      "source": [
        "성능이 제일 좋은 RandomForest을 하이퍼 파라미터 튜닝해보자\n"
      ],
      "metadata": {
        "id": "Ee68l-i_00j4"
      }
    },
    {
      "cell_type": "code",
      "source": [
        "rf = RandomForestRegressor()\n",
        "params = {\n",
        "    'n_estimators' : [5,10,15], # 몇개의 모델을 통해 voting할지\n",
        "    'max_features' : ['auto', 'sqrt', 'log2'], # 트리 분할할 때 살펴볼 피쳐 개수\n",
        "    'max_depth' : [4,6,8], # 트리 최대 깊이\n",
        "}\n",
        "\n",
        "grid_rf = GridSearchCV(RandomForestRegressor(), param_grid = params, cv = 5)"
      ],
      "metadata": {
        "id": "ZQSno6icouqh"
      },
      "execution_count": null,
      "outputs": []
    },
    {
      "cell_type": "code",
      "source": [
        "grid_rf.fit(X_log, y)"
      ],
      "metadata": {
        "id": "6Yw16pAXouuP",
        "colab": {
          "base_uri": "https://localhost:8080/"
        },
        "outputId": "0c7ca7b2-f165-4844-cf50-b957ba100479"
      },
      "execution_count": null,
      "outputs": [
        {
          "output_type": "execute_result",
          "data": {
            "text/plain": [
              "GridSearchCV(cv=5, estimator=RandomForestRegressor(),\n",
              "             param_grid={'max_depth': [4, 6, 8],\n",
              "                         'max_features': ['auto', 'sqrt', 'log2'],\n",
              "                         'n_estimators': [5, 10, 15]})"
            ]
          },
          "metadata": {},
          "execution_count": 69
        }
      ]
    },
    {
      "cell_type": "code",
      "source": [
        "print('best params : ', grid_rf.best_params_)\n",
        "best_rf = grid_rf.best_estimator_"
      ],
      "metadata": {
        "colab": {
          "base_uri": "https://localhost:8080/"
        },
        "id": "pWVshBupocRF",
        "outputId": "0fed4176-48e7-4492-dd21-c254e5c0dfd3"
      },
      "execution_count": null,
      "outputs": [
        {
          "output_type": "stream",
          "name": "stdout",
          "text": [
            "best params :  {'max_depth': 8, 'max_features': 'auto', 'n_estimators': 15}\n"
          ]
        }
      ]
    },
    {
      "cell_type": "markdown",
      "source": [
        "# Test"
      ],
      "metadata": {
        "id": "6lddLd_tdwaR"
      }
    },
    {
      "cell_type": "markdown",
      "source": [
        "## 0) Training data와 같은 전처리"
      ],
      "metadata": {
        "id": "Bgpdgo5LePPn"
      }
    },
    {
      "cell_type": "code",
      "source": [
        "df_test = pd.read_csv('test.csv')\n",
        "df_test.info()"
      ],
      "metadata": {
        "colab": {
          "base_uri": "https://localhost:8080/"
        },
        "id": "9SgcgMGtd9Zj",
        "outputId": "e70944c0-e74f-4ed9-92bc-e936c90c9d5d"
      },
      "execution_count": null,
      "outputs": [
        {
          "output_type": "stream",
          "name": "stdout",
          "text": [
            "<class 'pandas.core.frame.DataFrame'>\n",
            "RangeIndex: 25995 entries, 0 to 25994\n",
            "Data columns (total 12 columns):\n",
            " #   Column                 Non-Null Count  Dtype  \n",
            "---  ------                 --------------  -----  \n",
            " 0   country                25983 non-null  object \n",
            " 1   description            25995 non-null  object \n",
            " 2   designation            18539 non-null  object \n",
            " 3   price                  24194 non-null  float64\n",
            " 4   province               25983 non-null  object \n",
            " 5   region_1               21770 non-null  object \n",
            " 6   region_2               10103 non-null  object \n",
            " 7   taster_name            20722 non-null  object \n",
            " 8   taster_twitter_handle  19764 non-null  object \n",
            " 9   title                  25995 non-null  object \n",
            " 10  variety                25995 non-null  object \n",
            " 11  winery                 25995 non-null  object \n",
            "dtypes: float64(1), object(11)\n",
            "memory usage: 2.4+ MB\n"
          ]
        }
      ]
    },
    {
      "cell_type": "code",
      "source": [
        "temp = df_test[['country', 'price', 'province', 'taster_name', 'variety' ]]\n",
        "X_test = temp.copy()\n",
        "X_test['price'] = X_test[\"price\"].fillna(X_test[\"price\"].median(skipna=True))\n",
        "X_test.fillna(method='bfill', inplace = True)\n"
      ],
      "metadata": {
        "id": "0YKkKpvCeA84"
      },
      "execution_count": null,
      "outputs": []
    },
    {
      "cell_type": "code",
      "source": [
        "X_test.info()"
      ],
      "metadata": {
        "colab": {
          "base_uri": "https://localhost:8080/"
        },
        "id": "8Uft-68xYzwE",
        "outputId": "bf612011-c58e-477d-dbfe-365668544b13"
      },
      "execution_count": null,
      "outputs": [
        {
          "output_type": "stream",
          "name": "stdout",
          "text": [
            "<class 'pandas.core.frame.DataFrame'>\n",
            "RangeIndex: 25995 entries, 0 to 25994\n",
            "Data columns (total 5 columns):\n",
            " #   Column       Non-Null Count  Dtype  \n",
            "---  ------       --------------  -----  \n",
            " 0   country      25995 non-null  object \n",
            " 1   price        25995 non-null  float64\n",
            " 2   province     25995 non-null  object \n",
            " 3   taster_name  25995 non-null  object \n",
            " 4   variety      25995 non-null  object \n",
            "dtypes: float64(1), object(4)\n",
            "memory usage: 1015.6+ KB\n"
          ]
        }
      ]
    },
    {
      "cell_type": "code",
      "source": [
        "# 범주형 변수 4개 원핫 인코딩 (결과값은 np.array)\n",
        "country_np = ohe_country.transform(X_test[['country']])\n",
        "province_np = ohe_province.transform(X_test[['province']])\n",
        "taster_name_np = ohe_taster_name.transform(X_test[['taster_name']])\n",
        "variety_np = ohe_variety.transform(X_test[['variety']])"
      ],
      "metadata": {
        "id": "7gsPxmnuXZqf"
      },
      "execution_count": null,
      "outputs": []
    },
    {
      "cell_type": "code",
      "source": [
        "# np.array dataframe으로 변환\n",
        "country_df = pd.DataFrame.sparse.from_spmatrix(country_np, columns=['country_' + col for col in ohe_country.categories_[0]])\n",
        "country_df.reset_index(drop=True, inplace = True)\n",
        "\n",
        "province_df = pd.DataFrame.sparse.from_spmatrix(province_np, columns=['province_' + col for col in ohe_province.categories_[0]])\n",
        "province_df.reset_index(drop=True, inplace = True)\n",
        "\n",
        "taster_name_df = pd.DataFrame.sparse.from_spmatrix(taster_name_np, columns=['taster_' + col for col in ohe_taster_name.categories_[0]])\n",
        "taster_name_df.reset_index(drop=True, inplace = True)\n",
        "\n",
        "variety_df = pd.DataFrame.sparse.from_spmatrix(variety_np, columns=['variety_' + col for col in ohe_variety.categories_[0]])\n",
        "variety_df.reset_index(drop=True, inplace = True)\n",
        "\n",
        "\n",
        "X_price = X_test.drop(['country', 'province', 'taster_name', 'variety'], axis=1)\n",
        "X_price.reset_index(drop=True, inplace = True)\n",
        "\n",
        "# one hot encoding 한거 다 합치기\n",
        "X_test = pd.concat([X_price, country_df, province_df, taster_name_df, variety_df], axis=1)"
      ],
      "metadata": {
        "id": "sRjUYd6hXtx-"
      },
      "execution_count": null,
      "outputs": []
    },
    {
      "cell_type": "code",
      "source": [
        "# 로그변환\n",
        "X_test['price'] = np.log(X_test['price'])"
      ],
      "metadata": {
        "id": "wXGetfzedjd_"
      },
      "execution_count": null,
      "outputs": []
    },
    {
      "cell_type": "markdown",
      "source": [
        "## 1) Ridge(alpha =1)"
      ],
      "metadata": {
        "id": "8txgPdB6d1le"
      }
    },
    {
      "cell_type": "code",
      "source": [
        "from sklearn.linear_model import Ridge\n",
        "lr = Ridge(alpha = 1)\n",
        "\n",
        "lr.fit(X_log, y)\n",
        "ridge_pred = lr.predict(X_test)\n"
      ],
      "metadata": {
        "id": "tIXj8-nLdxPF"
      },
      "execution_count": null,
      "outputs": []
    },
    {
      "cell_type": "code",
      "source": [
        "ridge_pred"
      ],
      "metadata": {
        "colab": {
          "base_uri": "https://localhost:8080/"
        },
        "id": "r7_7kBRCezF5",
        "outputId": "a2dae769-9096-44e6-8b70-54778f929c91"
      },
      "execution_count": null,
      "outputs": [
        {
          "output_type": "execute_result",
          "data": {
            "text/plain": [
              "array([86.75137987, 89.81055825, 89.61288166, ..., 90.69454893,\n",
              "       94.42019722, 89.29613507])"
            ]
          },
          "metadata": {},
          "execution_count": 63
        }
      ]
    },
    {
      "cell_type": "markdown",
      "source": [
        "계수들을 살펴보자"
      ],
      "metadata": {
        "id": "hqUjwIn9yuTC"
      }
    },
    {
      "cell_type": "code",
      "source": [
        "print(f'Intercept : {lr.intercept_:.2f}')\n",
        "\n",
        "# 계수들을 절대값 큰 순서대로 정렬\n",
        "# 그 중 10개 관찰\n",
        "coeff = pd.Series(data = np.round(lr.coef_, 2), index = X.columns)\n",
        "\n",
        "coeff_abs = np.abs(coeff.copy()) # 절대값 씌우기\n",
        "sorted_index = coeff_abs.sort_values(ascending = False).index # 절대값 씌운 상태로 내림차순 정렬 후 인덱스 추출\n",
        "sorted_index2 = coeff_abs.sort_values(ascending = True).index # 절대값 씌운 상태로 오름차순 정렬 후 인덱스 추출\n",
        "\n",
        "print(coeff[sorted_index[:10]]) # 추출한 인덱스로 계수 절대값 큰 순서대로\n",
        "\n",
        "fig, axes = plt.subplots(figsize = (16,8), nrows = 1, ncols = 2)\n",
        "\n",
        "axes[0].set_title('The most important Coef Top ten')\n",
        "axes[1].set_title('The most useless Coef Top ten')\n",
        "\n",
        "axes[0].barh(sorted_index[:10], coeff[sorted_index[:10]])\n",
        "axes[1].barh(sorted_index2[:10], coeff[sorted_index2[:10]])\n",
        "\n",
        "plt.show()"
      ],
      "metadata": {
        "colab": {
          "base_uri": "https://localhost:8080/",
          "height": 717
        },
        "id": "xqSsqW1ZhgdV",
        "outputId": "d796fb99-61a3-48f0-99c5-d3e41680f841"
      },
      "execution_count": null,
      "outputs": [
        {
          "output_type": "stream",
          "name": "stdout",
          "text": [
            "Intercept : 78.32\n",
            "variety_Tempranillo Blanco           -3.86\n",
            "province_Middle and South Dalmatia   -3.72\n",
            "variety_Tinta del Pais                3.39\n",
            "variety_Casavecchia                  -3.33\n",
            "variety_Trousseau Gris                3.20\n",
            "variety_Doña Blanca                  -3.11\n",
            "variety_Kotsifali                     3.09\n",
            "variety_Trollinger                    3.06\n",
            "variety_Sirica                        3.01\n",
            "price                                 3.00\n",
            "dtype: float64\n"
          ]
        },
        {
          "output_type": "display_data",
          "data": {
            "text/plain": [
              "<Figure size 1152x576 with 2 Axes>"
            ],
            "image/png": "[encoded data removed]"
          },
          "metadata": {
            "needs_background": "light"
          }
        }
      ]
    },
    {
      "cell_type": "markdown",
      "source": [
        "정규화 때문에 의미없는 피쳐들의 계수는 사실상 0 에 수렴했음을 알 수 있다.   \n",
        "variety피쳐가 제일 중요한 피쳐로 보인다."
      ],
      "metadata": {
        "id": "BwQQ3EXf1VEU"
      }
    },
    {
      "cell_type": "markdown",
      "source": [
        "## 2) RandomForestRegressor"
      ],
      "metadata": {
        "id": "HbofxeG-eF7V"
      }
    },
    {
      "cell_type": "code",
      "source": [
        "# 위에서 구한 best_rf 사용\n",
        "# parameter : {'max_depth': 8, 'max_features': 'auto', 'n_estimators': 15}\n",
        "rf_pred = best_rf.predict(X_test)"
      ],
      "metadata": {
        "id": "dRQ-IFf_gzYz"
      },
      "execution_count": null,
      "outputs": []
    },
    {
      "cell_type": "code",
      "source": [
        "rf_pred[:10]"
      ],
      "metadata": {
        "colab": {
          "base_uri": "https://localhost:8080/"
        },
        "id": "_DYb8hB31B1W",
        "outputId": "0678223f-28ed-4b5c-bdba-fa92cf4ef23d"
      },
      "execution_count": null,
      "outputs": [
        {
          "output_type": "execute_result",
          "data": {
            "text/plain": [
              "array([86.98774635, 90.33573178, 90.2571554 , 88.24850285, 87.92516482,\n",
              "       88.06102714, 88.18111439, 87.03046545, 85.37908759, 84.70773398])"
            ]
          },
          "metadata": {},
          "execution_count": 72
        }
      ]
    },
    {
      "cell_type": "markdown",
      "source": [
        "제일 중요한 피쳐 10개를 살펴보자"
      ],
      "metadata": {
        "id": "OoC8Gu-l5Pkk"
      }
    },
    {
      "cell_type": "code",
      "source": [
        "feature_series = pd.Series(data = best_rf.feature_importances_, index = X_log.columns)\n",
        "feature_series = feature_series.sort_values(ascending = False)\n",
        "sns.barplot(x = feature_series[:10], y = feature_series.index[:10])"
      ],
      "metadata": {
        "colab": {
          "base_uri": "https://localhost:8080/",
          "height": 283
        },
        "id": "f1g1C1ls1FAt",
        "outputId": "e9327681-43f5-482d-bbf3-7910be887dbe"
      },
      "execution_count": null,
      "outputs": [
        {
          "output_type": "execute_result",
          "data": {
            "text/plain": [
              "<matplotlib.axes._subplots.AxesSubplot at 0x7fe5ead49b90>"
            ]
          },
          "metadata": {},
          "execution_count": 73
        },
        {
          "output_type": "display_data",
          "data": {
            "text/plain": [
              "<Figure size 432x288 with 1 Axes>"
            ],
            "image/png": "[encoded data removed]"
          },
          "metadata": {
            "needs_background": "light"
          }
        }
      ]
    },
    {
      "cell_type": "markdown",
      "source": [
        "3) Basic Decision Tree Regessor"
      ],
      "metadata": {
        "id": "s3XgYnmT5pJY"
      }
    },
    {
      "cell_type": "code",
      "source": [
        "dt = DecisionTreeRegressor(random_state = RANDOM_STATE, max_depth = 5)\n",
        "\n",
        "dt.fit(X_log, y)\n",
        "\n",
        "dt_pred = dt.predict(X_test)"
      ],
      "metadata": {
        "id": "7PeSi9P15rJk"
      },
      "execution_count": null,
      "outputs": []
    },
    {
      "cell_type": "markdown",
      "source": [
        "마차가지로 제일 중요한 피쳐 10개를 살펴보자"
      ],
      "metadata": {
        "id": "dYUtuWln51F7"
      }
    },
    {
      "cell_type": "code",
      "source": [
        "feature_series = pd.Series(data = dt.feature_importances_, index = X_log.columns)\n",
        "feature_series = feature_series.sort_values(ascending = False)\n",
        "sns.barplot(x = feature_series[:10], y = feature_series.index[:10])"
      ],
      "metadata": {
        "colab": {
          "base_uri": "https://localhost:8080/",
          "height": 283
        },
        "id": "uaEimjf-50jE",
        "outputId": "f4cfd2f7-d84b-4077-f097-8ed8203d34fe"
      },
      "execution_count": null,
      "outputs": [
        {
          "output_type": "execute_result",
          "data": {
            "text/plain": [
              "<matplotlib.axes._subplots.AxesSubplot at 0x7fe5eac8ebd0>"
            ]
          },
          "metadata": {},
          "execution_count": 76
        },
        {
          "output_type": "display_data",
          "data": {
            "text/plain": [
              "<Figure size 432x288 with 1 Axes>"
            ],
            "image/png": "[encoded data removed]"
          },
          "metadata": {
            "needs_background": "light"
          }
        }
      ]
    }
  ]
}