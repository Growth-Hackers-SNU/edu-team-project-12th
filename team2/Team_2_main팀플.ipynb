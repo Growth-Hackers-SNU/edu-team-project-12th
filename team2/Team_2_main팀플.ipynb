{
  "cells": [
    {
      "cell_type": "markdown",
      "metadata": {
        "id": "aVaLH3Igd9-O"
      },
      "source": [
        "# Import"
      ]
    },
    {
      "cell_type": "code",
      "execution_count": null,
      "metadata": {
        "id": "1FT0ENflkxwZ"
      },
      "outputs": [],
      "source": [
        "import pandas as pd\n",
        "import seaborn as sns\n",
        "import numpy as np\n",
        "import matplotlib.pyplot as plt\n",
        "import seaborn as sns\n",
        "\n",
        "import warnings\n",
        "warnings.filterwarnings('ignore')"
      ]
    },
    {
      "cell_type": "code",
      "execution_count": null,
      "metadata": {
        "colab": {
          "base_uri": "https://localhost:8080/"
        },
        "id": "WtJoTIyBn2oj",
        "outputId": "355f43c1-c904-402a-eeff-71e9e685aff7"
      },
      "outputs": [
        {
          "output_type": "stream",
          "name": "stdout",
          "text": [
            "<class 'pandas.core.frame.DataFrame'>\n",
            "RangeIndex: 103976 entries, 0 to 103975\n",
            "Data columns (total 13 columns):\n",
            " #   Column                 Non-Null Count   Dtype  \n",
            "---  ------                 --------------   -----  \n",
            " 0   country                103925 non-null  object \n",
            " 1   description            103976 non-null  object \n",
            " 2   designation            73967 non-null   object \n",
            " 3   price                  96781 non-null   float64\n",
            " 4   province               103925 non-null  object \n",
            " 5   region_1               86954 non-null   object \n",
            " 6   region_2               40408 non-null   object \n",
            " 7   taster_name            83005 non-null   object \n",
            " 8   taster_twitter_handle  78994 non-null   object \n",
            " 9   title                  103976 non-null  object \n",
            " 10  variety                103975 non-null  object \n",
            " 11  winery                 103976 non-null  object \n",
            " 12  points                 103976 non-null  int64  \n",
            "dtypes: float64(1), int64(1), object(11)\n",
            "memory usage: 10.3+ MB\n",
            "None\n"
          ]
        }
      ],
      "source": [
        "df= pd.read_csv('train.csv')\n",
        "print(df.info())"
      ]
    },
    {
      "cell_type": "code",
      "execution_count": null,
      "metadata": {
        "id": "V39pEsbGZbTl"
      },
      "outputs": [],
      "source": [
        "RANDOM_STATE = 918"
      ]
    },
    {
      "cell_type": "markdown",
      "metadata": {
        "id": "69S-cFvnqloc"
      },
      "source": [
        "# 데이터 살펴보기"
      ]
    },
    {
      "cell_type": "markdown",
      "metadata": {
        "id": "F1A_We5Gqjhv"
      },
      "source": [
        "## Feature Selection"
      ]
    },
    {
      "cell_type": "code",
      "execution_count": null,
      "metadata": {
        "colab": {
          "base_uri": "https://localhost:8080/"
        },
        "id": "QuVMB6FEouWT",
        "outputId": "a82c5ced-bfe0-4690-e071-031054145651"
      },
      "outputs": [
        {
          "output_type": "stream",
          "name": "stdout",
          "text": [
            "------------  country  -------------\n",
            "43\n",
            "\n",
            "------------  description  -------------\n",
            "97550\n",
            "\n",
            "------------  designation  -------------\n",
            "32961\n",
            "\n",
            "------------  province  -------------\n",
            "407\n",
            "\n",
            "------------  region_1  -------------\n",
            "1188\n",
            "\n",
            "------------  region_2  -------------\n",
            "17\n",
            "\n",
            "------------  taster_name  -------------\n",
            "19\n",
            "\n",
            "------------  taster_twitter_handle  -------------\n",
            "15\n",
            "\n",
            "------------  title  -------------\n",
            "96761\n",
            "\n",
            "------------  variety  -------------\n",
            "676\n",
            "\n",
            "------------  winery  -------------\n",
            "15735\n",
            "\n"
          ]
        }
      ],
      "source": [
        "# string 열마다, 범주형 변수들의 class 개수 파악\n",
        "from pandas.api.types import is_numeric_dtype\n",
        "from pandas.api.types import is_string_dtype\n",
        "\n",
        "# 중복 제거\n",
        "df = df.drop_duplicates()\n",
        "\n",
        "# string column들만\n",
        "for i in range(df.shape[1]):\n",
        "    temp = df.iloc[:,i]\n",
        "     \n",
        "    # numeric 데이터는 살펴보지 않음\n",
        "    if (is_numeric_dtype(temp)): continue\n",
        "\n",
        "    col_name = df.columns[i]\n",
        "    print('------------ ' , col_name, ' -------------')\n",
        "    print(temp.value_counts().shape[0])\n",
        "    print()"
      ]
    },
    {
      "cell_type": "markdown",
      "source": [
        "###어떤 데이터인가\n",
        "1. 이름 데이터\n",
        "    - taster_name\n",
        "    - taster_twitter_handle (i와 중복)\n",
        "    - title (고유값)\n",
        "\n",
        "\n"
      ],
      "metadata": {
        "id": "-R1WIvuhhF9k"
      }
    },
    {
      "cell_type": "code",
      "source": [
        "df[\"taster_name\"].value_counts() / sum(df[\"taster_name\"].value_counts())*100"
      ],
      "metadata": {
        "colab": {
          "base_uri": "https://localhost:8080/"
        },
        "id": "UcSLywqSbOT2",
        "outputId": "f7b1e242-4c66-4ccf-9fa2-d015f4670533"
      },
      "execution_count": null,
      "outputs": [
        {
          "output_type": "execute_result",
          "data": {
            "text/plain": [
              "Roger Voss            24.907356\n",
              "Michael Schachner     14.635815\n",
              "Kerin O’Keefe         10.277997\n",
              "Paul Gregutt           9.343164\n",
              "Virginie Boone         9.106873\n",
              "Matt Kettmann          6.071249\n",
              "Joe Czerwinski         4.989218\n",
              "Sean P. Sullivan       4.696115\n",
              "Anna Lee C. Iijima     4.276473\n",
              "Jim Gordon             3.916227\n",
              "Anne Krebiehl MW       3.460431\n",
              "Lauren Buzzeo          1.744419\n",
              "Susan Kostrzewa        1.054915\n",
              "Mike DeSimone          0.494532\n",
              "Jeff Jenssen           0.467416\n",
              "Alexander Peartree     0.386070\n",
              "Carrie Dykes           0.135577\n",
              "Fiona Adams            0.028407\n",
              "Christina Pickard      0.007747\n",
              "Name: taster_name, dtype: float64"
            ]
          },
          "metadata": {},
          "execution_count": 10
        }
      ]
    },
    {
      "cell_type": "markdown",
      "source": [
        "2. 텍스트 데이터\n",
        "    - description"
      ],
      "metadata": {
        "id": "taoC9OKgbOix"
      }
    },
    {
      "cell_type": "code",
      "source": [
        "df[\"description\"].head()"
      ],
      "metadata": {
        "colab": {
          "base_uri": "https://localhost:8080/"
        },
        "id": "zDH2BKBQjitd",
        "outputId": "cc62e3ad-0bb7-49b7-f988-01b0285f9f93"
      },
      "execution_count": null,
      "outputs": [
        {
          "output_type": "execute_result",
          "data": {
            "text/plain": [
              "0    Possibly a little sweet, this is a soft, easyg...\n",
              "1    A soft, almost off dry wine that is full in th...\n",
              "2    Generic white-fruit aromas of peach and apple ...\n",
              "3    This is the winery's best Nebula in years. Whi...\n",
              "4    This is a very rich Pinot whose primary virtue...\n",
              "Name: description, dtype: object"
            ]
          },
          "metadata": {},
          "execution_count": 14
        }
      ]
    },
    {
      "cell_type": "markdown",
      "source": [
        "3. 지리 데이터\n",
        "    - country\n",
        "    - designation\n",
        "    - province\n",
        "    - region_1\n",
        "    - region_2\n",
        "    - winery\n"
      ],
      "metadata": {
        "id": "dHMswb88bRgy"
      }
    },
    {
      "cell_type": "code",
      "source": [
        "df[\"country\"].value_counts() / sum(df[\"country\"].value_counts())*100"
      ],
      "metadata": {
        "id": "acOH4HwtbS5b",
        "colab": {
          "base_uri": "https://localhost:8080/"
        },
        "outputId": "452200e1-8c1c-4460-c00d-c5d09789b00c"
      },
      "execution_count": null,
      "outputs": [
        {
          "output_type": "execute_result",
          "data": {
            "text/plain": [
              "US                        42.024958\n",
              "France                    17.064692\n",
              "Italy                     14.974929\n",
              "Spain                      5.014202\n",
              "Portugal                   4.432800\n",
              "Chile                      3.487382\n",
              "Argentina                  2.948023\n",
              "Austria                    2.509152\n",
              "Australia                  1.822134\n",
              "Germany                    1.679604\n",
              "New Zealand                1.070517\n",
              "South Africa               1.066415\n",
              "Israel                     0.385550\n",
              "Greece                     0.360940\n",
              "Canada                     0.189699\n",
              "Bulgaria                   0.108692\n",
              "Hungary                    0.105616\n",
              "Romania                    0.088184\n",
              "Uruguay                    0.078956\n",
              "Turkey                     0.070753\n",
              "Slovenia                   0.068702\n",
              "Georgia                    0.064600\n",
              "Mexico                     0.062549\n",
              "Croatia                    0.057422\n",
              "England                    0.051270\n",
              "Moldova                    0.049219\n",
              "Brazil                     0.038965\n",
              "Lebanon                    0.027686\n",
              "Morocco                    0.018457\n",
              "Ukraine                    0.011279\n",
              "Peru                       0.011279\n",
              "Macedonia                  0.010254\n",
              "India                      0.007178\n",
              "Serbia                     0.007178\n",
              "Czech Republic             0.007178\n",
              "Cyprus                     0.007178\n",
              "Switzerland                0.005127\n",
              "Luxembourg                 0.004102\n",
              "Armenia                    0.002051\n",
              "Bosnia and Herzegovina     0.002051\n",
              "Egypt                      0.001025\n",
              "China                      0.001025\n",
              "Slovakia                   0.001025\n",
              "Name: country, dtype: float64"
            ]
          },
          "metadata": {},
          "execution_count": 15
        }
      ]
    },
    {
      "cell_type": "code",
      "source": [
        "df[\"province\"].value_counts() / sum(df[\"province\"].value_counts())*100"
      ],
      "metadata": {
        "colab": {
          "base_uri": "https://localhost:8080/"
        },
        "id": "7_wQfFZDjuyw",
        "outputId": "7bf76c89-f2f1-43d0-d7d8-e7f8a604a17c"
      },
      "execution_count": null,
      "outputs": [
        {
          "output_type": "execute_result",
          "data": {
            "text/plain": [
              "California            27.980066\n",
              "Washington             6.651764\n",
              "Bordeaux               4.639931\n",
              "Tuscany                4.491248\n",
              "Oregon                 4.130308\n",
              "                        ...    \n",
              "Valais                 0.001025\n",
              "Hawaii                 0.001025\n",
              "Goumenissa             0.001025\n",
              "Commandaria            0.001025\n",
              "Pitsilia Mountains     0.001025\n",
              "Name: province, Length: 407, dtype: float64"
            ]
          },
          "metadata": {},
          "execution_count": 16
        }
      ]
    },
    {
      "cell_type": "code",
      "source": [
        "df[\"region_1\"].value_counts() / sum(df[\"region_1\"].value_counts())*100"
      ],
      "metadata": {
        "colab": {
          "base_uri": "https://localhost:8080/"
        },
        "outputId": "7cd97afd-2387-4840-853f-a6ece13aae2b",
        "id": "F9bcaHvHj5un"
      },
      "execution_count": null,
      "outputs": [
        {
          "output_type": "execute_result",
          "data": {
            "text/plain": [
              "Napa Valley                     4.172741\n",
              "Columbia Valley (WA)            3.783155\n",
              "Russian River Valley            2.837366\n",
              "California                      2.422052\n",
              "Paso Robles                     2.177029\n",
              "                                  ...   \n",
              "Gutturnio Classico Superiore    0.001225\n",
              "La Grande Rue                   0.001225\n",
              "Montlouis-sur-Loire             0.001225\n",
              "Vin Doux Naturel Rasteau        0.001225\n",
              "Côtes de Forez                  0.001225\n",
              "Name: region_1, Length: 1188, dtype: float64"
            ]
          },
          "metadata": {},
          "execution_count": 17
        }
      ]
    },
    {
      "cell_type": "markdown",
      "source": [
        "4. 재료 데이터\n",
        "    - variety\n"
      ],
      "metadata": {
        "id": "xCQTQ7N7bTcX"
      }
    },
    {
      "cell_type": "code",
      "source": [
        "df[\"variety\"].value_counts() / sum(df[\"variety\"].value_counts())*100"
      ],
      "metadata": {
        "colab": {
          "base_uri": "https://localhost:8080/"
        },
        "outputId": "fb188cc8-c110-4110-d90c-848a22684037",
        "id": "dHO7crEEj_wB"
      },
      "execution_count": null,
      "outputs": [
        {
          "output_type": "execute_result",
          "data": {
            "text/plain": [
              "Pinot Noir                  10.285949\n",
              "Chardonnay                   9.044788\n",
              "Cabernet Sauvignon           7.316798\n",
              "Red Blend                    6.851491\n",
              "Bordeaux-style Red Blend     5.352055\n",
              "                              ...    \n",
              "Chardonnay-Riesling          0.001025\n",
              "Biancale                     0.001025\n",
              "Thrapsathiri                 0.001025\n",
              "Aidani                       0.001025\n",
              "Gragnano                     0.001025\n",
              "Name: variety, Length: 676, dtype: float64"
            ]
          },
          "metadata": {},
          "execution_count": 18
        }
      ]
    },
    {
      "cell_type": "markdown",
      "source": [
        "5. 가격 데이터\n",
        "    - price\n"
      ],
      "metadata": {
        "id": "JaNo6jMKbVae"
      }
    },
    {
      "cell_type": "code",
      "source": [
        "df[\"price\"].describe()"
      ],
      "metadata": {
        "colab": {
          "base_uri": "https://localhost:8080/"
        },
        "id": "3cPwuZQRnTF-",
        "outputId": "e2a685c5-7858-422e-b392-a47fdc00f492"
      },
      "execution_count": null,
      "outputs": [
        {
          "output_type": "execute_result",
          "data": {
            "text/plain": [
              "count    90764.000000\n",
              "mean        35.652021\n",
              "std         43.356430\n",
              "min          4.000000\n",
              "25%         17.000000\n",
              "50%         25.000000\n",
              "75%         42.000000\n",
              "max       3300.000000\n",
              "Name: price, dtype: float64"
            ]
          },
          "metadata": {},
          "execution_count": 29
        }
      ]
    },
    {
      "cell_type": "code",
      "source": [
        "temp = df['price']\n",
        "\n",
        "fig, axes = plt.subplots(figsize = (12,6), nrows= 1, ncols = 2)\n",
        "\n",
        "sns.histplot(x = temp, kde = True, ax = axes[0])\n",
        "axes[0].set_xlim(0,200)\n",
        "axes[0].set_title('Original Price')\n",
        "\n",
        "sns.histplot(x = np.log(temp), kde = True, ax = axes[1])\n",
        "axes[1].set_xlim(0,8)\n",
        "axes[1].set_title('After Log Transformed')\n"
      ],
      "metadata": {
        "colab": {
          "base_uri": "https://localhost:8080/",
          "height": 422
        },
        "outputId": "43063659-3c5e-40d3-e2ef-51ac03dcb89d",
        "id": "LYRiQNhRkExL"
      },
      "execution_count": null,
      "outputs": [
        {
          "output_type": "execute_result",
          "data": {
            "text/plain": [
              "Text(0.5, 1.0, 'After Log Transformed')"
            ]
          },
          "metadata": {},
          "execution_count": 27
        },
        {
          "output_type": "display_data",
          "data": {
            "text/plain": [
              "<Figure size 864x432 with 2 Axes>"
            ],
            "image/png": "[encoded data removed]"
          },
          "metadata": {
            "needs_background": "light"
          }
        }
      ]
    },
    {
      "cell_type": "markdown",
      "metadata": {
        "id": "sB8J4KbdweB2"
      },
      "source": [
        "taster_name보다 taster_twitter_handle의 결측치가 더 많다는 점   \n",
        "taster_name과 taster_twitter_hanlde의 이름이 비슷한 경우가 많다는 점\n",
        "그리고 비슷한 이름끼리 부여한 평균 점수도 비슷하다는 점, 즉 이름을 표현하는 방식만 다른 것으로 보인다.\n",
        "\n",
        "따라서, 두 피쳐는 비슷한 정보를 담고 있는 것으로 이해할 수 있다.\n",
        "소믈리에 중에서 트위터를 하지 않는 사람은 트위터 정보가 없으므로 twitter 피처의 결측치가 더 많은 것으로 추측된다.   \n",
        "따라서, 더 많은 정보를 담고 있고 다른 하나를 포함하는 taster_name만 사용해도 될 것 같다. "
      ]
    },
    {
      "cell_type": "markdown",
      "source": [
        "> taster_name, region_1, variety, price 데이터 선택!"
      ],
      "metadata": {
        "id": "o5kOiWlebXAe"
      }
    },
    {
      "cell_type": "markdown",
      "source": [
        "\n",
        "6. 점수 데이터 (target)\n",
        "    - points"
      ],
      "metadata": {
        "id": "3XRJGKQ2bjpr"
      }
    },
    {
      "cell_type": "code",
      "source": [
        "df[\"points\"].describe()"
      ],
      "metadata": {
        "id": "-88S3-VIbfkt",
        "colab": {
          "base_uri": "https://localhost:8080/"
        },
        "outputId": "625aeffa-0c63-43fa-e956-139e625dc76b"
      },
      "execution_count": null,
      "outputs": [
        {
          "output_type": "execute_result",
          "data": {
            "text/plain": [
              "count    97571.000000\n",
              "mean        88.444497\n",
              "std          3.082897\n",
              "min         80.000000\n",
              "25%         86.000000\n",
              "50%         88.000000\n",
              "75%         91.000000\n",
              "max        100.000000\n",
              "Name: points, dtype: float64"
            ]
          },
          "metadata": {},
          "execution_count": 32
        }
      ]
    },
    {
      "cell_type": "code",
      "source": [
        "temp = df['points']\n",
        "sns.histplot(x = temp, kde = True)"
      ],
      "metadata": {
        "colab": {
          "base_uri": "https://localhost:8080/",
          "height": 297
        },
        "id": "O5Twso_YnWiv",
        "outputId": "3ea67a01-56de-4b46-d7a6-657720ef34ac"
      },
      "execution_count": null,
      "outputs": [
        {
          "output_type": "execute_result",
          "data": {
            "text/plain": [
              "<matplotlib.axes._subplots.AxesSubplot at 0x7fe07d1e4e90>"
            ]
          },
          "metadata": {},
          "execution_count": 33
        },
        {
          "output_type": "display_data",
          "data": {
            "text/plain": [
              "<Figure size 432x288 with 1 Axes>"
            ],
            "image/png": "[encoded data removed]"
          },
          "metadata": {
            "needs_background": "light"
          }
        }
      ]
    },
    {
      "cell_type": "markdown",
      "metadata": {
        "id": "rcXHL60pvUjG"
      },
      "source": [
        "### feature들과 points 사이의 관계"
      ]
    },
    {
      "cell_type": "markdown",
      "source": [
        "1. taster_name <-> points"
      ],
      "metadata": {
        "id": "R1mFq9D_n63o"
      }
    },
    {
      "cell_type": "code",
      "source": [
        "temp = df[['taster_name','points']]\n",
        "temp.groupby('taster_name').mean().sort_values(by = 'points', ascending = False)"
      ],
      "metadata": {
        "colab": {
          "base_uri": "https://localhost:8080/",
          "height": 676
        },
        "id": "LAM0uH9xdcHW",
        "outputId": "8ed5b0bc-905c-4749-e512-fd0f8b3011f8"
      },
      "execution_count": null,
      "outputs": [
        {
          "output_type": "execute_result",
          "data": {
            "text/plain": [
              "                       points\n",
              "taster_name                  \n",
              "Anne Krebiehl MW    90.553626\n",
              "Matt Kettmann       90.027990\n",
              "Virginie Boone      89.197471\n",
              "Mike DeSimone       89.077647\n",
              "Paul Gregutt        89.072332\n",
              "Kerin O’Keefe       88.874438\n",
              "Sean P. Sullivan    88.728608\n",
              "Roger Voss          88.712407\n",
              "Jim Gordon          88.615432\n",
              "Joe Czerwinski      88.529958\n",
              "Anna Lee C. Iijima  88.404190\n",
              "Jeff Jenssen        88.271574\n",
              "Christina Pickard   87.833333\n",
              "Lauren Buzzeo       87.760504\n",
              "Michael Schachner   86.906619\n",
              "Fiona Adams         86.739130\n",
              "Susan Kostrzewa     86.608187\n",
              "Carrie Dykes        86.348214\n",
              "Alexander Peartree  85.946708"
            ],
            "text/html": [
              "\n",
              "  <div id=\"df-6651a3fc-f320-437e-b66a-7d7bb77fe850\">\n",
              "    <div class=\"colab-df-container\">\n",
              "      <div>\n",
              "<style scoped>\n",
              "    .dataframe tbody tr th:only-of-type {\n",
              "        vertical-align: middle;\n",
              "    }\n",
              "\n",
              "    .dataframe tbody tr th {\n",
              "        vertical-align: top;\n",
              "    }\n",
              "\n",
              "    .dataframe thead th {\n",
              "        text-align: right;\n",
              "    }\n",
              "</style>\n",
              "<table border=\"1\" class=\"dataframe\">\n",
              "  <thead>\n",
              "    <tr style=\"text-align: right;\">\n",
              "      <th></th>\n",
              "      <th>points</th>\n",
              "    </tr>\n",
              "    <tr>\n",
              "      <th>taster_name</th>\n",
              "      <th></th>\n",
              "    </tr>\n",
              "  </thead>\n",
              "  <tbody>\n",
              "    <tr>\n",
              "      <th>Anne Krebiehl MW</th>\n",
              "      <td>90.553626</td>\n",
              "    </tr>\n",
              "    <tr>\n",
              "      <th>Matt Kettmann</th>\n",
              "      <td>90.027990</td>\n",
              "    </tr>\n",
              "    <tr>\n",
              "      <th>Virginie Boone</th>\n",
              "      <td>89.197471</td>\n",
              "    </tr>\n",
              "    <tr>\n",
              "      <th>Mike DeSimone</th>\n",
              "      <td>89.077647</td>\n",
              "    </tr>\n",
              "    <tr>\n",
              "      <th>Paul Gregutt</th>\n",
              "      <td>89.072332</td>\n",
              "    </tr>\n",
              "    <tr>\n",
              "      <th>Kerin O’Keefe</th>\n",
              "      <td>88.874438</td>\n",
              "    </tr>\n",
              "    <tr>\n",
              "      <th>Sean P. Sullivan</th>\n",
              "      <td>88.728608</td>\n",
              "    </tr>\n",
              "    <tr>\n",
              "      <th>Roger Voss</th>\n",
              "      <td>88.712407</td>\n",
              "    </tr>\n",
              "    <tr>\n",
              "      <th>Jim Gordon</th>\n",
              "      <td>88.615432</td>\n",
              "    </tr>\n",
              "    <tr>\n",
              "      <th>Joe Czerwinski</th>\n",
              "      <td>88.529958</td>\n",
              "    </tr>\n",
              "    <tr>\n",
              "      <th>Anna Lee C. Iijima</th>\n",
              "      <td>88.404190</td>\n",
              "    </tr>\n",
              "    <tr>\n",
              "      <th>Jeff Jenssen</th>\n",
              "      <td>88.271574</td>\n",
              "    </tr>\n",
              "    <tr>\n",
              "      <th>Christina Pickard</th>\n",
              "      <td>87.833333</td>\n",
              "    </tr>\n",
              "    <tr>\n",
              "      <th>Lauren Buzzeo</th>\n",
              "      <td>87.760504</td>\n",
              "    </tr>\n",
              "    <tr>\n",
              "      <th>Michael Schachner</th>\n",
              "      <td>86.906619</td>\n",
              "    </tr>\n",
              "    <tr>\n",
              "      <th>Fiona Adams</th>\n",
              "      <td>86.739130</td>\n",
              "    </tr>\n",
              "    <tr>\n",
              "      <th>Susan Kostrzewa</th>\n",
              "      <td>86.608187</td>\n",
              "    </tr>\n",
              "    <tr>\n",
              "      <th>Carrie Dykes</th>\n",
              "      <td>86.348214</td>\n",
              "    </tr>\n",
              "    <tr>\n",
              "      <th>Alexander Peartree</th>\n",
              "      <td>85.946708</td>\n",
              "    </tr>\n",
              "  </tbody>\n",
              "</table>\n",
              "</div>\n",
              "      <button class=\"colab-df-convert\" onclick=\"convertToInteractive('df-6651a3fc-f320-437e-b66a-7d7bb77fe850')\"\n",
              "              title=\"Convert this dataframe to an interactive table.\"\n",
              "              style=\"display:none;\">\n",
              "        \n",
              "  <svg xmlns=\"http://www.w3.org/2000/svg\" height=\"24px\"viewBox=\"0 0 24 24\"\n",
              "       width=\"24px\">\n",
              "    <path d=\"M0 0h24v24H0V0z\" fill=\"none\"/>\n",
              "    <path d=\"M18.56 5.44l.94 2.06.94-2.06 2.06-.94-2.06-.94-.94-2.06-.94 2.06-2.06.94zm-11 1L8.5 8.5l.94-2.06 2.06-.94-2.06-.94L8.5 2.5l-.94 2.06-2.06.94zm10 10l.94 2.06.94-2.06 2.06-.94-2.06-.94-.94-2.06-.94 2.06-2.06.94z\"/><path d=\"M17.41 7.96l-1.37-1.37c-.4-.4-.92-.59-1.43-.59-.52 0-1.04.2-1.43.59L10.3 9.45l-7.72 7.72c-.78.78-.78 2.05 0 2.83L4 21.41c.39.39.9.59 1.41.59.51 0 1.02-.2 1.41-.59l7.78-7.78 2.81-2.81c.8-.78.8-2.07 0-2.86zM5.41 20L4 18.59l7.72-7.72 1.47 1.35L5.41 20z\"/>\n",
              "  </svg>\n",
              "      </button>\n",
              "      \n",
              "  <style>\n",
              "    .colab-df-container {\n",
              "      display:flex;\n",
              "      flex-wrap:wrap;\n",
              "      gap: 12px;\n",
              "    }\n",
              "\n",
              "    .colab-df-convert {\n",
              "      background-color: #E8F0FE;\n",
              "      border: none;\n",
              "      border-radius: 50%;\n",
              "      cursor: pointer;\n",
              "      display: none;\n",
              "      fill: #1967D2;\n",
              "      height: 32px;\n",
              "      padding: 0 0 0 0;\n",
              "      width: 32px;\n",
              "    }\n",
              "\n",
              "    .colab-df-convert:hover {\n",
              "      background-color: #E2EBFA;\n",
              "      box-shadow: 0px 1px 2px rgba(60, 64, 67, 0.3), 0px 1px 3px 1px rgba(60, 64, 67, 0.15);\n",
              "      fill: #174EA6;\n",
              "    }\n",
              "\n",
              "    [theme=dark] .colab-df-convert {\n",
              "      background-color: #3B4455;\n",
              "      fill: #D2E3FC;\n",
              "    }\n",
              "\n",
              "    [theme=dark] .colab-df-convert:hover {\n",
              "      background-color: #434B5C;\n",
              "      box-shadow: 0px 1px 3px 1px rgba(0, 0, 0, 0.15);\n",
              "      filter: drop-shadow(0px 1px 2px rgba(0, 0, 0, 0.3));\n",
              "      fill: #FFFFFF;\n",
              "    }\n",
              "  </style>\n",
              "\n",
              "      <script>\n",
              "        const buttonEl =\n",
              "          document.querySelector('#df-6651a3fc-f320-437e-b66a-7d7bb77fe850 button.colab-df-convert');\n",
              "        buttonEl.style.display =\n",
              "          google.colab.kernel.accessAllowed ? 'block' : 'none';\n",
              "\n",
              "        async function convertToInteractive(key) {\n",
              "          const element = document.querySelector('#df-6651a3fc-f320-437e-b66a-7d7bb77fe850');\n",
              "          const dataTable =\n",
              "            await google.colab.kernel.invokeFunction('convertToInteractive',\n",
              "                                                     [key], {});\n",
              "          if (!dataTable) return;\n",
              "\n",
              "          const docLinkHtml = 'Like what you see? Visit the ' +\n",
              "            '<a target=\"_blank\" href=https://colab.research.google.com/notebooks/data_table.ipynb>data table notebook</a>'\n",
              "            + ' to learn more about interactive tables.';\n",
              "          element.innerHTML = '';\n",
              "          dataTable['output_type'] = 'display_data';\n",
              "          await google.colab.output.renderOutput(dataTable, element);\n",
              "          const docLink = document.createElement('div');\n",
              "          docLink.innerHTML = docLinkHtml;\n",
              "          element.appendChild(docLink);\n",
              "        }\n",
              "      </script>\n",
              "    </div>\n",
              "  </div>\n",
              "  "
            ]
          },
          "metadata": {},
          "execution_count": 5
        }
      ]
    },
    {
      "cell_type": "markdown",
      "source": [
        "2. region_1 <-> points"
      ],
      "metadata": {
        "id": "8xZ6J0Qnopfr"
      }
    },
    {
      "cell_type": "code",
      "source": [
        "temp = df[['region_1','points']]\n",
        "temp.groupby('region_1').mean().sort_values(by = 'points', ascending = False)"
      ],
      "metadata": {
        "colab": {
          "base_uri": "https://localhost:8080/",
          "height": 455
        },
        "outputId": "c02430a2-0163-414b-c3ef-9276d57d840a",
        "id": "ZSEIi7hpopfs"
      },
      "execution_count": null,
      "outputs": [
        {
          "output_type": "execute_result",
          "data": {
            "text/plain": [
              "                                 points\n",
              "region_1                               \n",
              "Bienvenues Bâtard-Montrachet  96.500000\n",
              "Bolgheri Sassicaia            96.166667\n",
              "Napa-Monterey-Mendocino       96.000000\n",
              "Corton-Pougets                96.000000\n",
              "Montrachet                    96.000000\n",
              "...                                 ...\n",
              "Penisola Sorrentina           82.500000\n",
              "Catalonia                     81.333333\n",
              "Ramona Valley                 80.500000\n",
              "Ohio                          80.000000\n",
              "Sierra Pelona Valley          80.000000\n",
              "\n",
              "[1188 rows x 1 columns]"
            ],
            "text/html": [
              "\n",
              "  <div id=\"df-f1f7bcba-d677-48b9-b49b-a0801eb0cc87\">\n",
              "    <div class=\"colab-df-container\">\n",
              "      <div>\n",
              "<style scoped>\n",
              "    .dataframe tbody tr th:only-of-type {\n",
              "        vertical-align: middle;\n",
              "    }\n",
              "\n",
              "    .dataframe tbody tr th {\n",
              "        vertical-align: top;\n",
              "    }\n",
              "\n",
              "    .dataframe thead th {\n",
              "        text-align: right;\n",
              "    }\n",
              "</style>\n",
              "<table border=\"1\" class=\"dataframe\">\n",
              "  <thead>\n",
              "    <tr style=\"text-align: right;\">\n",
              "      <th></th>\n",
              "      <th>points</th>\n",
              "    </tr>\n",
              "    <tr>\n",
              "      <th>region_1</th>\n",
              "      <th></th>\n",
              "    </tr>\n",
              "  </thead>\n",
              "  <tbody>\n",
              "    <tr>\n",
              "      <th>Bienvenues Bâtard-Montrachet</th>\n",
              "      <td>96.500000</td>\n",
              "    </tr>\n",
              "    <tr>\n",
              "      <th>Bolgheri Sassicaia</th>\n",
              "      <td>96.166667</td>\n",
              "    </tr>\n",
              "    <tr>\n",
              "      <th>Napa-Monterey-Mendocino</th>\n",
              "      <td>96.000000</td>\n",
              "    </tr>\n",
              "    <tr>\n",
              "      <th>Corton-Pougets</th>\n",
              "      <td>96.000000</td>\n",
              "    </tr>\n",
              "    <tr>\n",
              "      <th>Montrachet</th>\n",
              "      <td>96.000000</td>\n",
              "    </tr>\n",
              "    <tr>\n",
              "      <th>...</th>\n",
              "      <td>...</td>\n",
              "    </tr>\n",
              "    <tr>\n",
              "      <th>Penisola Sorrentina</th>\n",
              "      <td>82.500000</td>\n",
              "    </tr>\n",
              "    <tr>\n",
              "      <th>Catalonia</th>\n",
              "      <td>81.333333</td>\n",
              "    </tr>\n",
              "    <tr>\n",
              "      <th>Ramona Valley</th>\n",
              "      <td>80.500000</td>\n",
              "    </tr>\n",
              "    <tr>\n",
              "      <th>Ohio</th>\n",
              "      <td>80.000000</td>\n",
              "    </tr>\n",
              "    <tr>\n",
              "      <th>Sierra Pelona Valley</th>\n",
              "      <td>80.000000</td>\n",
              "    </tr>\n",
              "  </tbody>\n",
              "</table>\n",
              "<p>1188 rows × 1 columns</p>\n",
              "</div>\n",
              "      <button class=\"colab-df-convert\" onclick=\"convertToInteractive('df-f1f7bcba-d677-48b9-b49b-a0801eb0cc87')\"\n",
              "              title=\"Convert this dataframe to an interactive table.\"\n",
              "              style=\"display:none;\">\n",
              "        \n",
              "  <svg xmlns=\"http://www.w3.org/2000/svg\" height=\"24px\"viewBox=\"0 0 24 24\"\n",
              "       width=\"24px\">\n",
              "    <path d=\"M0 0h24v24H0V0z\" fill=\"none\"/>\n",
              "    <path d=\"M18.56 5.44l.94 2.06.94-2.06 2.06-.94-2.06-.94-.94-2.06-.94 2.06-2.06.94zm-11 1L8.5 8.5l.94-2.06 2.06-.94-2.06-.94L8.5 2.5l-.94 2.06-2.06.94zm10 10l.94 2.06.94-2.06 2.06-.94-2.06-.94-.94-2.06-.94 2.06-2.06.94z\"/><path d=\"M17.41 7.96l-1.37-1.37c-.4-.4-.92-.59-1.43-.59-.52 0-1.04.2-1.43.59L10.3 9.45l-7.72 7.72c-.78.78-.78 2.05 0 2.83L4 21.41c.39.39.9.59 1.41.59.51 0 1.02-.2 1.41-.59l7.78-7.78 2.81-2.81c.8-.78.8-2.07 0-2.86zM5.41 20L4 18.59l7.72-7.72 1.47 1.35L5.41 20z\"/>\n",
              "  </svg>\n",
              "      </button>\n",
              "      \n",
              "  <style>\n",
              "    .colab-df-container {\n",
              "      display:flex;\n",
              "      flex-wrap:wrap;\n",
              "      gap: 12px;\n",
              "    }\n",
              "\n",
              "    .colab-df-convert {\n",
              "      background-color: #E8F0FE;\n",
              "      border: none;\n",
              "      border-radius: 50%;\n",
              "      cursor: pointer;\n",
              "      display: none;\n",
              "      fill: #1967D2;\n",
              "      height: 32px;\n",
              "      padding: 0 0 0 0;\n",
              "      width: 32px;\n",
              "    }\n",
              "\n",
              "    .colab-df-convert:hover {\n",
              "      background-color: #E2EBFA;\n",
              "      box-shadow: 0px 1px 2px rgba(60, 64, 67, 0.3), 0px 1px 3px 1px rgba(60, 64, 67, 0.15);\n",
              "      fill: #174EA6;\n",
              "    }\n",
              "\n",
              "    [theme=dark] .colab-df-convert {\n",
              "      background-color: #3B4455;\n",
              "      fill: #D2E3FC;\n",
              "    }\n",
              "\n",
              "    [theme=dark] .colab-df-convert:hover {\n",
              "      background-color: #434B5C;\n",
              "      box-shadow: 0px 1px 3px 1px rgba(0, 0, 0, 0.15);\n",
              "      filter: drop-shadow(0px 1px 2px rgba(0, 0, 0, 0.3));\n",
              "      fill: #FFFFFF;\n",
              "    }\n",
              "  </style>\n",
              "\n",
              "      <script>\n",
              "        const buttonEl =\n",
              "          document.querySelector('#df-f1f7bcba-d677-48b9-b49b-a0801eb0cc87 button.colab-df-convert');\n",
              "        buttonEl.style.display =\n",
              "          google.colab.kernel.accessAllowed ? 'block' : 'none';\n",
              "\n",
              "        async function convertToInteractive(key) {\n",
              "          const element = document.querySelector('#df-f1f7bcba-d677-48b9-b49b-a0801eb0cc87');\n",
              "          const dataTable =\n",
              "            await google.colab.kernel.invokeFunction('convertToInteractive',\n",
              "                                                     [key], {});\n",
              "          if (!dataTable) return;\n",
              "\n",
              "          const docLinkHtml = 'Like what you see? Visit the ' +\n",
              "            '<a target=\"_blank\" href=https://colab.research.google.com/notebooks/data_table.ipynb>data table notebook</a>'\n",
              "            + ' to learn more about interactive tables.';\n",
              "          element.innerHTML = '';\n",
              "          dataTable['output_type'] = 'display_data';\n",
              "          await google.colab.output.renderOutput(dataTable, element);\n",
              "          const docLink = document.createElement('div');\n",
              "          docLink.innerHTML = docLinkHtml;\n",
              "          element.appendChild(docLink);\n",
              "        }\n",
              "      </script>\n",
              "    </div>\n",
              "  </div>\n",
              "  "
            ]
          },
          "metadata": {},
          "execution_count": 7
        }
      ]
    },
    {
      "cell_type": "markdown",
      "source": [
        "3. variety <-> points"
      ],
      "metadata": {
        "id": "YuFtIniPo430"
      }
    },
    {
      "cell_type": "code",
      "source": [
        "temp = df[['variety','points']]\n",
        "temp.groupby('variety').mean().sort_values(by = 'points', ascending = False)"
      ],
      "metadata": {
        "colab": {
          "base_uri": "https://localhost:8080/",
          "height": 455
        },
        "outputId": "92cee0c0-b3f7-49a4-e857-e3ddb2d4c511",
        "id": "4GAfx3__o432"
      },
      "execution_count": null,
      "outputs": [
        {
          "output_type": "execute_result",
          "data": {
            "text/plain": [
              "                        points\n",
              "variety                       \n",
              "Tinta del Pais       95.000000\n",
              "Gelber Traminer      95.000000\n",
              "Bual                 94.400000\n",
              "Riesling-Chardonnay  94.000000\n",
              "Sercial              94.000000\n",
              "...                        ...\n",
              "Aidani               82.000000\n",
              "Picapoll             82.000000\n",
              "Airen                81.666667\n",
              "Gragnano             81.000000\n",
              "Chancellor           80.500000\n",
              "\n",
              "[676 rows x 1 columns]"
            ],
            "text/html": [
              "\n",
              "  <div id=\"df-9ccd7937-6a47-4e53-bea0-e7f76646c79b\">\n",
              "    <div class=\"colab-df-container\">\n",
              "      <div>\n",
              "<style scoped>\n",
              "    .dataframe tbody tr th:only-of-type {\n",
              "        vertical-align: middle;\n",
              "    }\n",
              "\n",
              "    .dataframe tbody tr th {\n",
              "        vertical-align: top;\n",
              "    }\n",
              "\n",
              "    .dataframe thead th {\n",
              "        text-align: right;\n",
              "    }\n",
              "</style>\n",
              "<table border=\"1\" class=\"dataframe\">\n",
              "  <thead>\n",
              "    <tr style=\"text-align: right;\">\n",
              "      <th></th>\n",
              "      <th>points</th>\n",
              "    </tr>\n",
              "    <tr>\n",
              "      <th>variety</th>\n",
              "      <th></th>\n",
              "    </tr>\n",
              "  </thead>\n",
              "  <tbody>\n",
              "    <tr>\n",
              "      <th>Tinta del Pais</th>\n",
              "      <td>95.000000</td>\n",
              "    </tr>\n",
              "    <tr>\n",
              "      <th>Gelber Traminer</th>\n",
              "      <td>95.000000</td>\n",
              "    </tr>\n",
              "    <tr>\n",
              "      <th>Bual</th>\n",
              "      <td>94.400000</td>\n",
              "    </tr>\n",
              "    <tr>\n",
              "      <th>Riesling-Chardonnay</th>\n",
              "      <td>94.000000</td>\n",
              "    </tr>\n",
              "    <tr>\n",
              "      <th>Sercial</th>\n",
              "      <td>94.000000</td>\n",
              "    </tr>\n",
              "    <tr>\n",
              "      <th>...</th>\n",
              "      <td>...</td>\n",
              "    </tr>\n",
              "    <tr>\n",
              "      <th>Aidani</th>\n",
              "      <td>82.000000</td>\n",
              "    </tr>\n",
              "    <tr>\n",
              "      <th>Picapoll</th>\n",
              "      <td>82.000000</td>\n",
              "    </tr>\n",
              "    <tr>\n",
              "      <th>Airen</th>\n",
              "      <td>81.666667</td>\n",
              "    </tr>\n",
              "    <tr>\n",
              "      <th>Gragnano</th>\n",
              "      <td>81.000000</td>\n",
              "    </tr>\n",
              "    <tr>\n",
              "      <th>Chancellor</th>\n",
              "      <td>80.500000</td>\n",
              "    </tr>\n",
              "  </tbody>\n",
              "</table>\n",
              "<p>676 rows × 1 columns</p>\n",
              "</div>\n",
              "      <button class=\"colab-df-convert\" onclick=\"convertToInteractive('df-9ccd7937-6a47-4e53-bea0-e7f76646c79b')\"\n",
              "              title=\"Convert this dataframe to an interactive table.\"\n",
              "              style=\"display:none;\">\n",
              "        \n",
              "  <svg xmlns=\"http://www.w3.org/2000/svg\" height=\"24px\"viewBox=\"0 0 24 24\"\n",
              "       width=\"24px\">\n",
              "    <path d=\"M0 0h24v24H0V0z\" fill=\"none\"/>\n",
              "    <path d=\"M18.56 5.44l.94 2.06.94-2.06 2.06-.94-2.06-.94-.94-2.06-.94 2.06-2.06.94zm-11 1L8.5 8.5l.94-2.06 2.06-.94-2.06-.94L8.5 2.5l-.94 2.06-2.06.94zm10 10l.94 2.06.94-2.06 2.06-.94-2.06-.94-.94-2.06-.94 2.06-2.06.94z\"/><path d=\"M17.41 7.96l-1.37-1.37c-.4-.4-.92-.59-1.43-.59-.52 0-1.04.2-1.43.59L10.3 9.45l-7.72 7.72c-.78.78-.78 2.05 0 2.83L4 21.41c.39.39.9.59 1.41.59.51 0 1.02-.2 1.41-.59l7.78-7.78 2.81-2.81c.8-.78.8-2.07 0-2.86zM5.41 20L4 18.59l7.72-7.72 1.47 1.35L5.41 20z\"/>\n",
              "  </svg>\n",
              "      </button>\n",
              "      \n",
              "  <style>\n",
              "    .colab-df-container {\n",
              "      display:flex;\n",
              "      flex-wrap:wrap;\n",
              "      gap: 12px;\n",
              "    }\n",
              "\n",
              "    .colab-df-convert {\n",
              "      background-color: #E8F0FE;\n",
              "      border: none;\n",
              "      border-radius: 50%;\n",
              "      cursor: pointer;\n",
              "      display: none;\n",
              "      fill: #1967D2;\n",
              "      height: 32px;\n",
              "      padding: 0 0 0 0;\n",
              "      width: 32px;\n",
              "    }\n",
              "\n",
              "    .colab-df-convert:hover {\n",
              "      background-color: #E2EBFA;\n",
              "      box-shadow: 0px 1px 2px rgba(60, 64, 67, 0.3), 0px 1px 3px 1px rgba(60, 64, 67, 0.15);\n",
              "      fill: #174EA6;\n",
              "    }\n",
              "\n",
              "    [theme=dark] .colab-df-convert {\n",
              "      background-color: #3B4455;\n",
              "      fill: #D2E3FC;\n",
              "    }\n",
              "\n",
              "    [theme=dark] .colab-df-convert:hover {\n",
              "      background-color: #434B5C;\n",
              "      box-shadow: 0px 1px 3px 1px rgba(0, 0, 0, 0.15);\n",
              "      filter: drop-shadow(0px 1px 2px rgba(0, 0, 0, 0.3));\n",
              "      fill: #FFFFFF;\n",
              "    }\n",
              "  </style>\n",
              "\n",
              "      <script>\n",
              "        const buttonEl =\n",
              "          document.querySelector('#df-9ccd7937-6a47-4e53-bea0-e7f76646c79b button.colab-df-convert');\n",
              "        buttonEl.style.display =\n",
              "          google.colab.kernel.accessAllowed ? 'block' : 'none';\n",
              "\n",
              "        async function convertToInteractive(key) {\n",
              "          const element = document.querySelector('#df-9ccd7937-6a47-4e53-bea0-e7f76646c79b');\n",
              "          const dataTable =\n",
              "            await google.colab.kernel.invokeFunction('convertToInteractive',\n",
              "                                                     [key], {});\n",
              "          if (!dataTable) return;\n",
              "\n",
              "          const docLinkHtml = 'Like what you see? Visit the ' +\n",
              "            '<a target=\"_blank\" href=https://colab.research.google.com/notebooks/data_table.ipynb>data table notebook</a>'\n",
              "            + ' to learn more about interactive tables.';\n",
              "          element.innerHTML = '';\n",
              "          dataTable['output_type'] = 'display_data';\n",
              "          await google.colab.output.renderOutput(dataTable, element);\n",
              "          const docLink = document.createElement('div');\n",
              "          docLink.innerHTML = docLinkHtml;\n",
              "          element.appendChild(docLink);\n",
              "        }\n",
              "      </script>\n",
              "    </div>\n",
              "  </div>\n",
              "  "
            ]
          },
          "metadata": {},
          "execution_count": 8
        }
      ]
    },
    {
      "cell_type": "markdown",
      "source": [
        "3. price <-> points"
      ],
      "metadata": {
        "id": "1HhH5CKEpIV_"
      }
    },
    {
      "cell_type": "code",
      "source": [
        "# 산점도\n",
        "\n",
        "temp = df[[\"price\", \"points\"]]\n",
        "temp2 = temp.copy()\n",
        "temp2['price'] = np.log(temp2['points'])\n",
        "\n",
        "fig, axes = plt.subplots(figsize = (16,6), nrows=1, ncols = 2)\n",
        "\n",
        "sns.scatterplot(x = 'price', y='points', data = temp, ax = axes[0])\n",
        "axes[0].set_title('Original')\n",
        "axes[0].set_xlim(0,1000)\n",
        "\n",
        "sns.scatterplot(x='price', y='points', data = temp2, ax = axes[1])\n",
        "axes[1].set_title('After Log Transformed')\n",
        "axes[1].set_xlim(4.3,4.7)\n",
        "\n",
        "plt.xlabel('price')\n",
        "plt.ylabel('points')\n",
        "\n",
        "plt.show()"
      ],
      "metadata": {
        "colab": {
          "base_uri": "https://localhost:8080/",
          "height": 404
        },
        "outputId": "c7c5d91f-f4ef-4f06-b57e-c3caf3d8d66b",
        "id": "ymICodWSpIWB"
      },
      "execution_count": null,
      "outputs": [
        {
          "output_type": "display_data",
          "data": {
            "text/plain": [
              "<Figure size 1152x432 with 2 Axes>"
            ],
            "image/png": "[encoded data removed]"
          },
          "metadata": {
            "needs_background": "light"
          }
        }
      ]
    },
    {
      "cell_type": "markdown",
      "source": [
        "#### log(price) * $ \\beta $ = points  \n",
        "\n"
      ],
      "metadata": {
        "id": "78_9Z4-scyRe"
      }
    },
    {
      "cell_type": "code",
      "source": [
        "# Correlation\n",
        "print('Original Prcie : ')\n",
        "print(temp.corr(), '\\n')\n",
        "\n",
        "print('After Log Transformed: ')\n",
        "print(temp2.corr())"
      ],
      "metadata": {
        "colab": {
          "base_uri": "https://localhost:8080/"
        },
        "id": "cHPzOK6upwQO",
        "outputId": "1f5ee7b0-1f6f-4c27-8ef4-0d623ba48d16"
      },
      "execution_count": null,
      "outputs": [
        {
          "output_type": "stream",
          "name": "stdout",
          "text": [
            "Original Prcie : \n",
            "           price    points\n",
            "price   1.000000  0.406177\n",
            "points  0.406177  1.000000 \n",
            "\n",
            "After Log Transformed: \n",
            "           price    points\n",
            "price   1.000000  0.999749\n",
            "points  0.999749  1.000000\n"
          ]
        }
      ]
    },
    {
      "cell_type": "markdown",
      "metadata": {
        "id": "tEcbkdvkX5uE"
      },
      "source": [
        "# PreProcessing"
      ]
    },
    {
      "cell_type": "code",
      "execution_count": null,
      "metadata": {
        "colab": {
          "base_uri": "https://localhost:8080/"
        },
        "id": "8mLZ9n0GqWVI",
        "outputId": "b0078831-1a1a-43d8-f4bd-c2be6228e570"
      },
      "outputs": [
        {
          "output_type": "stream",
          "name": "stdout",
          "text": [
            "                                            region_1  price  \\\n",
            "0                            South Eastern Australia    5.0   \n",
            "1                                     Côtes du Rhône   12.0   \n",
            "2                                              Rueda    9.0   \n",
            "5  Sonoma County-Monterey County-Santa Barbara Co...   22.0   \n",
            "6                                  Willamette Valley   33.0   \n",
            "\n",
            "         taster_name        variety  points  \n",
            "0     Joe Czerwinski     Chardonnay      83  \n",
            "1         Roger Voss           Rosé      85  \n",
            "2  Michael Schachner  Verdejo-Viura      86  \n",
            "5         Jim Gordon     Chardonnay      90  \n",
            "6       Paul Gregutt     Pinot Noir      90  \n",
            "<class 'pandas.core.frame.DataFrame'>\n",
            "Int64Index: 57552 entries, 0 to 103975\n",
            "Data columns (total 5 columns):\n",
            " #   Column       Non-Null Count  Dtype  \n",
            "---  ------       --------------  -----  \n",
            " 0   region_1     57552 non-null  object \n",
            " 1   price        57552 non-null  float64\n",
            " 2   taster_name  57552 non-null  object \n",
            " 3   variety      57552 non-null  object \n",
            " 4   points       57552 non-null  int64  \n",
            "dtypes: float64(1), int64(1), object(3)\n",
            "memory usage: 2.6+ MB\n",
            "None\n"
          ]
        }
      ],
      "source": [
        "# feature selection\n",
        "temp = df[['region_1', 'price', 'taster_name', 'variety', 'points']]\n",
        "# 결측치 레코드 제거\n",
        "temp.dropna(axis = 0, inplace = True)\n",
        "\n",
        "print(temp.head())\n",
        "print(temp.info())"
      ]
    },
    {
      "cell_type": "code",
      "execution_count": null,
      "metadata": {
        "id": "-P_7d78Touen"
      },
      "outputs": [],
      "source": [
        "X = temp.drop('points', axis=  1)\n",
        "y = temp['points']"
      ]
    },
    {
      "cell_type": "code",
      "execution_count": null,
      "metadata": {
        "id": "HgteWU8GahT9"
      },
      "outputs": [],
      "source": [
        "# 원본 저장\n",
        "origin = X.copy()"
      ]
    },
    {
      "cell_type": "markdown",
      "metadata": {
        "id": "oK9FzwWIvyOy"
      },
      "source": [
        "## OneHotEncoding"
      ]
    },
    {
      "cell_type": "code",
      "execution_count": null,
      "metadata": {
        "id": "ieoHm5_av13c"
      },
      "outputs": [],
      "source": [
        "from sklearn.preprocessing import OneHotEncoder\n",
        "\n",
        "ohe_region_1 = OneHotEncoder(handle_unknown = 'ignore')\n",
        "ohe_taster_name = OneHotEncoder(handle_unknown = 'ignore')\n",
        "ohe_variety = OneHotEncoder(handle_unknown = 'ignore')\n",
        "\n",
        "# 범주형 변수 3개 원핫 인코딩 (결과값은 np.array)\n",
        "region_1_np = ohe_region_1.fit_transform(X[['region_1']])\n",
        "taster_name_np = ohe_taster_name.fit_transform(X[['taster_name']])\n",
        "variety_np = ohe_variety.fit_transform(X[['variety']])\n"
      ]
    },
    {
      "cell_type": "code",
      "execution_count": null,
      "metadata": {
        "id": "kuaKP5KUydfA"
      },
      "outputs": [],
      "source": [
        "# np.array dataframe으로 변환\n",
        "region_1_df = pd.DataFrame.sparse.from_spmatrix(region_1_np, columns=['region_1_' + col for col in ohe_region_1.categories_[0]])\n",
        "region_1_df.reset_index(drop=True, inplace = True)\n",
        "\n",
        "taster_name_df = pd.DataFrame.sparse.from_spmatrix(taster_name_np, columns=['taster_' + col for col in ohe_taster_name.categories_[0]])\n",
        "taster_name_df.reset_index(drop=True, inplace = True)\n",
        "\n",
        "variety_df = pd.DataFrame.sparse.from_spmatrix(variety_np, columns=['variety_' + col for col in ohe_variety.categories_[0]])\n",
        "variety_df.reset_index(drop=True, inplace = True)\n",
        "\n",
        "\n",
        "X_price = X.drop(['region_1', 'taster_name', 'variety'], axis=1)\n",
        "X_price.reset_index(drop=True, inplace = True)\n",
        "\n",
        "# one hot encoding 한거 다 합치기\n",
        "X = pd.concat([X_price, region_1_df, taster_name_df, variety_df], axis=1)"
      ]
    },
    {
      "cell_type": "code",
      "execution_count": null,
      "metadata": {
        "id": "iKGVRc0YEAnk"
      },
      "outputs": [],
      "source": [
        "X_ohe = X.copy()"
      ]
    },
    {
      "cell_type": "markdown",
      "metadata": {
        "id": "GlMjcxBcs4dq"
      },
      "source": [
        "+ price 아웃라이어 제거"
      ]
    },
    {
      "cell_type": "code",
      "execution_count": null,
      "metadata": {
        "colab": {
          "base_uri": "https://localhost:8080/",
          "height": 695
        },
        "id": "-8C0M81gChp4",
        "outputId": "65275a3a-e383-4f23-e9e9-32404d4ea926"
      },
      "outputs": [
        {
          "output_type": "stream",
          "name": "stdout",
          "text": [
            "Before : \n",
            "count    57552.000000\n",
            "mean        37.236134\n",
            "std         47.439318\n",
            "min          4.000000\n",
            "25%         18.000000\n",
            "50%         27.000000\n",
            "75%         45.000000\n",
            "max       3300.000000\n",
            "Name: price, dtype: float64\n",
            "\n",
            "After : \n",
            "count    54659.000000\n",
            "mean        30.896065\n",
            "std         17.488672\n",
            "min          4.000000\n",
            "25%         18.000000\n",
            "50%         25.000000\n",
            "75%         40.000000\n",
            "max         88.000000\n",
            "Name: price, dtype: float64 \n",
            "\n"
          ]
        },
        {
          "output_type": "execute_result",
          "data": {
            "text/plain": [
              "<matplotlib.axes._subplots.AxesSubplot at 0x7f5705868d90>"
            ]
          },
          "metadata": {},
          "execution_count": 21
        },
        {
          "output_type": "display_data",
          "data": {
            "text/plain": [
              "<Figure size 432x288 with 1 Axes>"
            ],
            "image/png": "[encoded data removed]"
          },
          "metadata": {
            "needs_background": "light"
          }
        }
      ],
      "source": [
        "# price에 너무 큰 아웃라이어가 있다.\n",
        "# 0.95 정도로 제거하면 아웃라이어 처리 완료\n",
        "\n",
        "temp = X['price']\n",
        "print( 'Before : ')\n",
        "print(temp.describe())\n",
        "print()\n",
        "print('After : ')\n",
        "temp = temp[temp < temp.quantile(0.95)]\n",
        "\n",
        "print(temp.describe(), '\\n')\n",
        "\n",
        "sns.histplot(x = temp, kde = True)"
      ]
    },
    {
      "cell_type": "code",
      "execution_count": null,
      "metadata": {
        "id": "dC4q2Gu1ZvDC"
      },
      "outputs": [],
      "source": [
        "# Price 아웃라이어 정리\n",
        "y.reset_index(drop=True, inplace= True)\n",
        "boolean_index = X['price'] < X['price'].quantile(0.95)\n",
        "X = X[boolean_index]\n",
        "y = y[boolean_index]"
      ]
    },
    {
      "cell_type": "markdown",
      "metadata": {
        "id": "VczX0b03ZQh5"
      },
      "source": [
        "### Data Split"
      ]
    },
    {
      "cell_type": "code",
      "execution_count": null,
      "metadata": {
        "id": "NBFpvThiZSWY"
      },
      "outputs": [],
      "source": [
        "X_train, X_val, y_train, y_val = train_test_split(X, y, test_size = 0.3, random_state = RANDOM_STATE)"
      ]
    },
    {
      "cell_type": "code",
      "execution_count": null,
      "metadata": {
        "id": "MmGaxcvdH-ot"
      },
      "outputs": [],
      "source": [
        "# 인덱스가 더러워져서, 인덱스 처리\n",
        "X.reset_index(drop = True, inplace = True)\n",
        "y.reset_index(drop = True, inplace = True)\n",
        "X_train.reset_index(drop = True, inplace = True)\n",
        "X_val.reset_index(drop = True, inplace = True)\n",
        "y_train.reset_index(drop = True, inplace=  True)\n",
        "y_val.reset_index(drop= True, inplace = True)"
      ]
    },
    {
      "cell_type": "code",
      "execution_count": null,
      "metadata": {
        "colab": {
          "base_uri": "https://localhost:8080/"
        },
        "id": "5LfzzTPw9MFO",
        "outputId": "f09617fe-c755-4464-e907-2efc54b7d564"
      },
      "outputs": [
        {
          "output_type": "stream",
          "name": "stdout",
          "text": [
            "<class 'pandas.core.frame.DataFrame'>\n",
            "RangeIndex: 54659 entries, 0 to 54658\n",
            "Columns: 1517 entries, price to variety_Zweigelt\n",
            "dtypes: Sparse[float64, 0](1516), float64(1)\n",
            "memory usage: 2.3 MB\n",
            "None\n",
            "(54659,)\n"
          ]
        }
      ],
      "source": [
        "print(X.info())\n",
        "print(y.shape)"
      ]
    },
    {
      "cell_type": "markdown",
      "metadata": {
        "id": "-mU4gMa6ZOg4"
      },
      "source": [
        "# Training"
      ]
    },
    {
      "cell_type": "markdown",
      "metadata": {
        "id": "F6ec1qwcZT6A"
      },
      "source": [
        "### Import"
      ]
    },
    {
      "cell_type": "code",
      "execution_count": null,
      "metadata": {
        "id": "d5HQBYglZU8W"
      },
      "outputs": [],
      "source": [
        "from sklearn.linear_model import LinearRegression\n",
        "from sklearn.model_selection import GridSearchCV, train_test_split, cross_val_score\n",
        "from sklearn.metrics import mean_squared_error, r2_score\n",
        "from sklearn.preprocessing import PolynomialFeatures"
      ]
    },
    {
      "cell_type": "markdown",
      "metadata": {
        "id": "ZD2UVDd83W5x"
      },
      "source": [
        "### metric_function\n",
        "\n",
        "+ eval_kfold()   \n",
        "\n",
        "자동으로 5 fold evaluation 해주는  cross_vale_score 함수를 이용   \n",
        "mse, rmse, 평균 rmse를 출력\n",
        "\n"
      ]
    },
    {
      "cell_type": "code",
      "execution_count": null,
      "metadata": {
        "id": "hPtlPceV3ZCV"
      },
      "outputs": [],
      "source": [
        "def eval_kfold(model ,X_data, y_target):\n",
        "    neg_mse_scores = cross_val_score(model, X_data, y_target, scoring = 'neg_mean_squared_error', cv = 5)\n",
        "    rmse_scores = np.sqrt(-1 * neg_mse_scores)\n",
        "    avg_rmse = np.mean(rmse_scores) \n",
        "\n",
        "    print('Each Negative MSE scores : ', np.round(neg_mse_scores, 2))\n",
        "    print('Each RMSE scores : ', np.round(rmse_scores, 2))\n",
        "    print(f'AVG RMSE : {avg_rmse:.2f}')\n",
        "\n"
      ]
    },
    {
      "cell_type": "markdown",
      "metadata": {
        "id": "AO8wmmJycACc"
      },
      "source": [
        "## Linear Regression"
      ]
    },
    {
      "cell_type": "markdown",
      "metadata": {
        "id": "_BeUscdVNwMm"
      },
      "source": [
        "### Basic Linear Regression"
      ]
    },
    {
      "cell_type": "markdown",
      "metadata": {
        "id": "w-dzIoPo5iA_"
      },
      "source": [
        "우선 선형회귀를 적용해보자"
      ]
    },
    {
      "cell_type": "code",
      "execution_count": null,
      "metadata": {
        "colab": {
          "base_uri": "https://localhost:8080/"
        },
        "id": "YFD1Oc7scBdl",
        "outputId": "acfc0c46-536b-40f0-dce4-d89d143b7598"
      },
      "outputs": [
        {
          "output_type": "stream",
          "name": "stdout",
          "text": [
            "Each Negative MSE scores :  [-1.07663198e+15 -1.42906196e+18 -2.07734237e+17 -8.34351022e+17\n",
            " -5.51511152e+18]\n",
            "Each RMSE scores :  [3.28120706e+07 1.19543379e+09 4.55778715e+08 9.13428170e+08\n",
            " 2.34842746e+09]\n",
            "AVG RMSE : 989176041.38\n"
          ]
        }
      ],
      "source": [
        "lr = LinearRegression()\n",
        "eval_kfold(lr, X, y)"
      ]
    },
    {
      "cell_type": "markdown",
      "metadata": {
        "id": "9kWST7l7Lwr5"
      },
      "source": [
        "결과가 상당히 안좋다. 원인이 무엇일까? 우선 계수들을 살펴보자   \n",
        "계수들을 절대값이 큰 순서대로 정렬해보았다."
      ]
    },
    {
      "cell_type": "markdown",
      "metadata": {
        "id": "YF55BzrsLdx-"
      },
      "source": [
        "계수들이 엄청나게 크다 과적합의 의심된다.   \n",
        "직접 모델을 돌려보고 train데이터와 test(validation)데이터에서의 성능 차이를 살펴보자"
      ]
    },
    {
      "cell_type": "code",
      "execution_count": null,
      "metadata": {
        "colab": {
          "base_uri": "https://localhost:8080/"
        },
        "id": "sgzNP4BRLhk6",
        "outputId": "585d3526-461c-47b1-9ea8-deee2538d4a7"
      },
      "outputs": [
        {
          "output_type": "stream",
          "name": "stdout",
          "text": [
            "Train set MSE : 4.60\n",
            "Validation set MSE : 28113251932633636864.00\n"
          ]
        }
      ],
      "source": [
        "lr = LinearRegression()\n",
        "\n",
        "lr.fit(X_train, y_train) # 학습\n",
        "y_train_preds = lr.predict(X_train) # 학습한 데이터와 같은 데이터로 예측\n",
        "y_val_preds = lr.predict(X_val) # validation set 데이터로 예측\n",
        "\n",
        "train_set_mse = mean_squared_error(y_pred = y_train_preds, y_true = y_train) \n",
        "val_set_mse = mean_squared_error(y_pred = y_val_preds, y_true = y_val)\n",
        "\n",
        "print(f'Train set MSE : {train_set_mse:.2f}')\n",
        "print(f'Validation set MSE : {val_set_mse:.2f}')"
      ]
    },
    {
      "cell_type": "markdown",
      "metadata": {
        "id": "S3aavjBXM3eL"
      },
      "source": [
        "엄청나게 과적합 되어 있는 것을 확인할 수 있다.    \n",
        "Regularization을 적용하자."
      ]
    },
    {
      "cell_type": "markdown",
      "metadata": {
        "id": "DUuqKiBB2QwS"
      },
      "source": [
        "그전에, price가 좌편향 되어있었으므로, 로그변환을 적용해보자\n",
        "\n",
        "X_log <- 로그 적용 후 데이터"
      ]
    },
    {
      "cell_type": "code",
      "execution_count": null,
      "metadata": {
        "colab": {
          "base_uri": "https://localhost:8080/",
          "height": 283
        },
        "id": "TI9xMUQJ2TcW",
        "outputId": "4f06ab22-45ca-4212-ccb0-bb62390b2d75"
      },
      "outputs": [
        {
          "output_type": "execute_result",
          "data": {
            "text/plain": [
              "<matplotlib.axes._subplots.AxesSubplot at 0x7f57014d3810>"
            ]
          },
          "metadata": {},
          "execution_count": 30
        },
        {
          "output_type": "display_data",
          "data": {
            "text/plain": [
              "<Figure size 432x288 with 1 Axes>"
            ],
            "image/png": "[encoded data removed]"
          },
          "metadata": {
            "needs_background": "light"
          }
        }
      ],
      "source": [
        "X_log = X.copy()\n",
        "X_log['price'] = np.log(X_log['price'])\n",
        "X_log['price'].hist(bins = 30)"
      ]
    },
    {
      "cell_type": "code",
      "execution_count": null,
      "metadata": {
        "colab": {
          "base_uri": "https://localhost:8080/"
        },
        "id": "3Kfpe-jYFo53",
        "outputId": "df607d90-1cef-4ad3-83c0-7af9ddde6506"
      },
      "outputs": [
        {
          "output_type": "stream",
          "name": "stdout",
          "text": [
            "Each Negative MSE scores :  [-3.08721986e+19 -1.29519769e+20 -8.72743455e+20 -1.40196645e+21\n",
            " -8.92002607e+20]\n",
            "Each RMSE scores :  [5.55627560e+09 1.13806753e+10 2.95422317e+10 3.74428424e+10\n",
            " 2.98664127e+10]\n",
            "AVG RMSE : 22757687531.68\n"
          ]
        }
      ],
      "source": [
        "lr = LinearRegression()\n",
        "eval_kfold(lr, X_log, y)"
      ]
    },
    {
      "cell_type": "markdown",
      "metadata": {
        "id": "3vipFO36FkxZ"
      },
      "source": [
        "훨씬 정규분포에 가까워진 모습이다.   \n",
        "하지만 아직 정규화를 하지 않았기 때문에 과적합 문제가 해결되지 않았다.  \n",
        "정규화를 시작해보자"
      ]
    },
    {
      "cell_type": "markdown",
      "metadata": {
        "id": "NW0joXNiHzlV"
      },
      "source": [
        "### Regularization\n",
        "\n",
        "+ Ridge, Lasso, ElasticNet 사용"
      ]
    },
    {
      "cell_type": "code",
      "execution_count": null,
      "metadata": {
        "id": "OK7bNKbsH19t"
      },
      "outputs": [],
      "source": [
        "from sklearn.linear_model import Ridge, Lasso, ElasticNet"
      ]
    },
    {
      "cell_type": "markdown",
      "metadata": {
        "id": "pek-RB8dNRw6"
      },
      "source": [
        "우선, 로그 변환이 유효한지 보기위해 기본 모델로 비교를 해보았다."
      ]
    },
    {
      "cell_type": "code",
      "execution_count": null,
      "metadata": {
        "colab": {
          "base_uri": "https://localhost:8080/"
        },
        "id": "ySoQHqw0H5Y0",
        "outputId": "2c6ccbbc-0ef7-4440-8c08-e129bd9e3e39"
      },
      "outputs": [
        {
          "output_type": "stream",
          "name": "stdout",
          "text": [
            "Log Transformed : \n",
            "Each Negative MSE scores :  [-4.57 -4.75 -4.75 -4.76 -4.72]\n",
            "Each RMSE scores :  [2.14 2.18 2.18 2.18 2.17]\n",
            "AVG RMSE : 2.17\n",
            "\n",
            "Original: \n",
            "Each Negative MSE scores :  [-4.73 -4.87 -4.88 -4.93 -4.86]\n",
            "Each RMSE scores :  [2.17 2.21 2.21 2.22 2.2 ]\n",
            "AVG RMSE : 2.20\n"
          ]
        }
      ],
      "source": [
        "ridge = Ridge(alpha = 10)\n",
        "print('Log Transformed : ')\n",
        "eval_kfold(ridge, X_log, y)\n",
        "print()\n",
        "print('Original: ')\n",
        "eval_kfold(ridge, X, y)"
      ]
    },
    {
      "cell_type": "markdown",
      "metadata": {
        "id": "YLcjLuvmItiJ"
      },
      "source": [
        "log 변환이 조금 더 성능이 좋아보인다. 앞으로는 로그 데이터 값으로만 진행하려고 한다."
      ]
    },
    {
      "cell_type": "code",
      "execution_count": null,
      "metadata": {
        "id": "oxwEvdeWIWo4"
      },
      "outputs": [],
      "source": [
        "# Regularization 적용시 사용할 평가 함수\n",
        "def linear_reg_model_eval(model_name, alphas, X_data, y_target) :\n",
        "\n",
        "    print('--------------- ', model_name, ' ---------------')\n",
        "\n",
        "    for alpha in alphas:\n",
        "        if model_name == 'Ridge' : model = Ridge(alpha = alpha)\n",
        "        elif model_name == 'Lasso' : model = Lasso(alpha= alpha)\n",
        "        elif model_name == 'ElasticNet' : model = ElasticNet(alpha = alpha, l1_ratio = 0.7)\n",
        "        else : \n",
        "            print('Invalid model name!'); return;\n",
        "\n",
        "        print('alpha = ', alpha, ' )')\n",
        "        eval_kfold(model, X_data, y)\n",
        "        print()\n"
      ]
    },
    {
      "cell_type": "code",
      "execution_count": null,
      "metadata": {
        "id": "hbmecRCkITvD"
      },
      "outputs": [],
      "source": [
        "# 사용할 alpha 값\n",
        "alphas = [0.07, 0.1, 0.5, 1, 3, 5, 10]"
      ]
    },
    {
      "cell_type": "code",
      "execution_count": null,
      "metadata": {
        "colab": {
          "base_uri": "https://localhost:8080/"
        },
        "id": "e8XzIFr0HxTK",
        "outputId": "06ecb08b-6f2a-4887-e8b8-ca29ddb83b82"
      },
      "outputs": [
        {
          "output_type": "stream",
          "name": "stdout",
          "text": [
            "---------------  Ridge  ---------------\n",
            "alpha =  0.07  )\n",
            "Each Negative MSE scores :  [-4.6  -4.77 -4.76 -4.77 -4.75]\n",
            "Each RMSE scores :  [2.15 2.18 2.18 2.18 2.18]\n",
            "AVG RMSE : 2.18\n",
            "\n",
            "alpha =  0.1  )\n",
            "Each Negative MSE scores :  [-4.6  -4.77 -4.75 -4.77 -4.75]\n",
            "Each RMSE scores :  [2.15 2.18 2.18 2.18 2.18]\n",
            "AVG RMSE : 2.17\n",
            "\n",
            "alpha =  0.5  )\n",
            "Each Negative MSE scores :  [-4.58 -4.76 -4.74 -4.76 -4.73]\n",
            "Each RMSE scores :  [2.14 2.18 2.18 2.18 2.18]\n",
            "AVG RMSE : 2.17\n",
            "\n",
            "alpha =  1  )\n",
            "Each Negative MSE scores :  [-4.57 -4.75 -4.73 -4.75 -4.72]\n",
            "Each RMSE scores :  [2.14 2.18 2.18 2.18 2.17]\n",
            "AVG RMSE : 2.17\n",
            "\n",
            "alpha =  3  )\n",
            "Each Negative MSE scores :  [-4.56 -4.74 -4.73 -4.75 -4.71]\n",
            "Each RMSE scores :  [2.14 2.18 2.17 2.18 2.17]\n",
            "AVG RMSE : 2.17\n",
            "\n",
            "alpha =  5  )\n",
            "Each Negative MSE scores :  [-4.56 -4.74 -4.73 -4.75 -4.71]\n",
            "Each RMSE scores :  [2.14 2.18 2.18 2.18 2.17]\n",
            "AVG RMSE : 2.17\n",
            "\n",
            "alpha =  10  )\n",
            "Each Negative MSE scores :  [-4.57 -4.75 -4.75 -4.76 -4.72]\n",
            "Each RMSE scores :  [2.14 2.18 2.18 2.18 2.17]\n",
            "AVG RMSE : 2.17\n",
            "\n"
          ]
        }
      ],
      "source": [
        "# Ridge\n",
        "linear_reg_model_eval('Ridge', alphas, X_log, y)"
      ]
    },
    {
      "cell_type": "code",
      "execution_count": null,
      "metadata": {
        "colab": {
          "base_uri": "https://localhost:8080/"
        },
        "id": "IgKtM5NMKuoI",
        "outputId": "9c4b70a0-0e18-4de1-d936-8308fec5be6d"
      },
      "outputs": [
        {
          "output_type": "stream",
          "name": "stdout",
          "text": [
            "---------------  Lasso  ---------------\n",
            "alpha =  0.07  )\n",
            "Each Negative MSE scores :  [-5.3  -5.46 -5.46 -5.5  -5.48]\n",
            "Each RMSE scores :  [2.3  2.34 2.34 2.34 2.34]\n",
            "AVG RMSE : 2.33\n",
            "\n",
            "alpha =  0.1  )\n",
            "Each Negative MSE scores :  [-5.34 -5.51 -5.5  -5.54 -5.53]\n",
            "Each RMSE scores :  [2.31 2.35 2.35 2.35 2.35]\n",
            "AVG RMSE : 2.34\n",
            "\n",
            "alpha =  0.5  )\n",
            "Each Negative MSE scores :  [-6.13 -6.23 -6.29 -6.36 -6.33]\n",
            "Each RMSE scores :  [2.47 2.5  2.51 2.52 2.52]\n",
            "AVG RMSE : 2.50\n",
            "\n",
            "alpha =  1  )\n",
            "Each Negative MSE scores :  [-8.15 -8.2  -8.32 -8.42 -8.38]\n",
            "Each RMSE scores :  [2.85 2.86 2.88 2.9  2.89]\n",
            "AVG RMSE : 2.88\n",
            "\n",
            "alpha =  3  )\n",
            "Each Negative MSE scores :  [-8.15 -8.2  -8.32 -8.42 -8.38]\n",
            "Each RMSE scores :  [2.85 2.86 2.88 2.9  2.89]\n",
            "AVG RMSE : 2.88\n",
            "\n",
            "alpha =  5  )\n",
            "Each Negative MSE scores :  [-8.15 -8.2  -8.32 -8.42 -8.38]\n",
            "Each RMSE scores :  [2.85 2.86 2.88 2.9  2.89]\n",
            "AVG RMSE : 2.88\n",
            "\n",
            "alpha =  10  )\n",
            "Each Negative MSE scores :  [-8.15 -8.2  -8.32 -8.42 -8.38]\n",
            "Each RMSE scores :  [2.85 2.86 2.88 2.9  2.89]\n",
            "AVG RMSE : 2.88\n",
            "\n"
          ]
        }
      ],
      "source": [
        "linear_reg_model_eval('Lasso', alphas, X_log, y)"
      ]
    },
    {
      "cell_type": "code",
      "execution_count": null,
      "metadata": {
        "colab": {
          "base_uri": "https://localhost:8080/"
        },
        "id": "xwd3AYW1Kw2W",
        "outputId": "d4529310-b2b1-465b-95b1-0ec18b5b8457"
      },
      "outputs": [
        {
          "output_type": "stream",
          "name": "stdout",
          "text": [
            "---------------  ElasticNet  ---------------\n",
            "alpha =  0.07  )\n",
            "Each Negative MSE scores :  [-5.28 -5.44 -5.44 -5.47 -5.46]\n",
            "Each RMSE scores :  [2.3  2.33 2.33 2.34 2.34]\n",
            "AVG RMSE : 2.33\n",
            "\n",
            "alpha =  0.1  )\n",
            "Each Negative MSE scores :  [-5.34 -5.5  -5.5  -5.54 -5.53]\n",
            "Each RMSE scores :  [2.31 2.35 2.35 2.35 2.35]\n",
            "AVG RMSE : 2.34\n",
            "\n",
            "alpha =  0.5  )\n",
            "Each Negative MSE scores :  [-6.27 -6.37 -6.43 -6.5  -6.47]\n",
            "Each RMSE scores :  [2.5  2.52 2.54 2.55 2.54]\n",
            "AVG RMSE : 2.53\n",
            "\n",
            "alpha =  1  )\n",
            "Each Negative MSE scores :  [-7.48 -7.54 -7.65 -7.74 -7.71]\n",
            "Each RMSE scores :  [2.73 2.75 2.77 2.78 2.78]\n",
            "AVG RMSE : 2.76\n",
            "\n",
            "alpha =  3  )\n",
            "Each Negative MSE scores :  [-8.15 -8.2  -8.32 -8.42 -8.38]\n",
            "Each RMSE scores :  [2.85 2.86 2.88 2.9  2.89]\n",
            "AVG RMSE : 2.88\n",
            "\n",
            "alpha =  5  )\n",
            "Each Negative MSE scores :  [-8.15 -8.2  -8.32 -8.42 -8.38]\n",
            "Each RMSE scores :  [2.85 2.86 2.88 2.9  2.89]\n",
            "AVG RMSE : 2.88\n",
            "\n",
            "alpha =  10  )\n",
            "Each Negative MSE scores :  [-8.15 -8.2  -8.32 -8.42 -8.38]\n",
            "Each RMSE scores :  [2.85 2.86 2.88 2.9  2.89]\n",
            "AVG RMSE : 2.88\n",
            "\n"
          ]
        }
      ],
      "source": [
        "linear_reg_model_eval('ElasticNet', alphas, X_log, y)"
      ]
    },
    {
      "cell_type": "markdown",
      "metadata": {
        "id": "aHKAZByLNaJx"
      },
      "source": [
        "전반적으로 Ridge 모델이 더 성능이 좋다.   alpha값에 따른 성능차이는 크게 없었기 때문에 alpha값을 임의로 잡아서,\n",
        "\n",
        "Ridge(alpha = 1)인 모델을 이후에 테스트 데이터를 예측하는데 사용해보기로 했다."
      ]
    },
    {
      "cell_type": "markdown",
      "metadata": {
        "id": "c6v3wISgY_YW"
      },
      "source": [
        "## Decision Tree Regression"
      ]
    },
    {
      "cell_type": "markdown",
      "metadata": {
        "id": "vyh4IzVWYMqK"
      },
      "source": [
        "1. 결정 트리 기반 다양한 앙상블 알고리즘 우선 기본 파라미터로 테스트"
      ]
    },
    {
      "cell_type": "code",
      "execution_count": null,
      "metadata": {
        "id": "udvBls2iVRsc"
      },
      "outputs": [],
      "source": [
        "from sklearn.tree import DecisionTreeRegressor\n",
        "from sklearn.ensemble import RandomForestRegressor, GradientBoostingRegressor\n",
        "from xgboost import XGBRegressor\n",
        "from lightgbm import LGBMRegressor"
      ]
    },
    {
      "cell_type": "code",
      "execution_count": null,
      "metadata": {
        "id": "ChWFBNDKnZ9z"
      },
      "outputs": [],
      "source": [
        "dt = DecisionTreeRegressor(random_state = RANDOM_STATE, max_depth = 5) #decision tree\n",
        "rf = RandomForestRegressor(random_state = RANDOM_STATE, n_estimators = 10) #random forest(based on decision tree)\n",
        "gb = GradientBoostingRegressor(random_state = RANDOM_STATE, n_estimators = 10) # gradient boosting\n",
        "xgb = XGBRegressor(n_estimators = 10) # xgboost\n",
        "lgb = LGBMRegressor(n_estimators = 10) #light gradient boosting machine\n",
        "\n",
        "models = [dt, rf, gb, xgb, lgb]\n",
        "model_names = [\n",
        "    'Decision Tree Regressor',\n",
        "    'RandomForestRegressor',\n",
        "    'Gradient Boosting Regressor',\n",
        "    'XGBoost Regressor',\n",
        "    'Light Gradient Boosting Regressor'\n",
        "]"
      ]
    },
    {
      "cell_type": "code",
      "execution_count": null,
      "metadata": {
        "colab": {
          "base_uri": "https://localhost:8080/"
        },
        "id": "pS4yQbTEUseH",
        "outputId": "6e2b8f1f-1d59-4500-970f-72d6370c3383"
      },
      "outputs": [
        {
          "output_type": "stream",
          "name": "stdout",
          "text": [
            "--------------------  Decision Tree Regressor  ---------------------\n",
            "Each Negative MSE scores :  [-5.1  -5.31 -5.31 -5.31 -5.27]\n",
            "Each RMSE scores :  [2.26 2.3  2.3  2.3  2.3 ]\n",
            "AVG RMSE : 2.29\n",
            "\n",
            "--------------------  RandomForestRegressor  ---------------------\n",
            "Each Negative MSE scores :  [-5.1  -5.24 -5.28 -5.32 -5.2 ]\n",
            "Each RMSE scores :  [2.26 2.29 2.3  2.31 2.28]\n",
            "AVG RMSE : 2.29\n",
            "\n",
            "--------------------  Gradient Boosting Regressor  ---------------------\n",
            "Each Negative MSE scores :  [-5.58 -5.73 -5.75 -5.81 -5.77]\n",
            "Each RMSE scores :  [2.36 2.39 2.4  2.41 2.4 ]\n",
            "AVG RMSE : 2.39\n",
            "\n",
            "--------------------  XGBoost Regressor  ---------------------\n",
            "Each Negative MSE scores :  [nan nan nan nan nan]\n",
            "Each RMSE scores :  [nan nan nan nan nan]\n",
            "AVG RMSE : nan\n",
            "\n",
            "--------------------  Light Gradient Boosting Regressor  ---------------------\n",
            "Each Negative MSE scores :  [nan nan nan nan nan]\n",
            "Each RMSE scores :  [nan nan nan nan nan]\n",
            "AVG RMSE : nan\n",
            "\n"
          ]
        }
      ],
      "source": [
        "for model, model_name in zip(models, model_names):\n",
        "    print('-------------------- ' , model_name , ' ---------------------')\n",
        "    eval_kfold(model, X, y)\n",
        "    print()"
      ]
    },
    {
      "cell_type": "markdown",
      "metadata": {
        "id": "Ee68l-i_00j4"
      },
      "source": [
        "성능이 제일 좋은 RandomForest을 하이퍼 파라미터 튜닝해보자\n"
      ]
    },
    {
      "cell_type": "code",
      "execution_count": null,
      "metadata": {
        "id": "ZQSno6icouqh"
      },
      "outputs": [],
      "source": [
        "rf = RandomForestRegressor()\n",
        "params = {\n",
        "    'n_estimators' : [5,10,15], # 몇개의 모델을 통해 voting할지\n",
        "    'max_features' : ['auto', 'sqrt', 'log2'], # 트리 분할할 때 살펴볼 피쳐 개수\n",
        "    'max_depth' : [4,6,8], # 트리 최대 깊이\n",
        "}\n",
        "\n",
        "grid_rf = GridSearchCV(RandomForestRegressor(), param_grid = params, cv = 5)"
      ]
    },
    {
      "cell_type": "code",
      "execution_count": null,
      "metadata": {
        "colab": {
          "base_uri": "https://localhost:8080/"
        },
        "id": "6Yw16pAXouuP",
        "outputId": "fa53b0f1-08d7-49bb-8728-f1c404f0f36d"
      },
      "outputs": [
        {
          "output_type": "execute_result",
          "data": {
            "text/plain": [
              "GridSearchCV(cv=5, estimator=RandomForestRegressor(),\n",
              "             param_grid={'max_depth': [4, 6, 8],\n",
              "                         'max_features': ['auto', 'sqrt', 'log2'],\n",
              "                         'n_estimators': [5, 10, 15]})"
            ]
          },
          "metadata": {},
          "execution_count": 43
        }
      ],
      "source": [
        "grid_rf.fit(X_log, y)"
      ]
    },
    {
      "cell_type": "code",
      "execution_count": null,
      "metadata": {
        "colab": {
          "base_uri": "https://localhost:8080/"
        },
        "id": "pWVshBupocRF",
        "outputId": "0c71578d-16cf-4e1f-bb94-61584551ed00"
      },
      "outputs": [
        {
          "output_type": "stream",
          "name": "stdout",
          "text": [
            "best params :  {'max_depth': 8, 'max_features': 'auto', 'n_estimators': 15}\n"
          ]
        }
      ],
      "source": [
        "print('best params : ', grid_rf.best_params_)\n",
        "best_rf = grid_rf.best_estimator_"
      ]
    },
    {
      "cell_type": "markdown",
      "metadata": {
        "id": "6lddLd_tdwaR"
      },
      "source": [
        "# Test"
      ]
    },
    {
      "cell_type": "markdown",
      "metadata": {
        "id": "Bgpdgo5LePPn"
      },
      "source": [
        "## 0) Training data와 같은 전처리"
      ]
    },
    {
      "cell_type": "code",
      "execution_count": null,
      "metadata": {
        "colab": {
          "base_uri": "https://localhost:8080/"
        },
        "id": "9SgcgMGtd9Zj",
        "outputId": "2e7b45a7-dcac-4bf9-b3de-b808bda49354"
      },
      "outputs": [
        {
          "output_type": "stream",
          "name": "stdout",
          "text": [
            "<class 'pandas.core.frame.DataFrame'>\n",
            "RangeIndex: 25995 entries, 0 to 25994\n",
            "Data columns (total 12 columns):\n",
            " #   Column                 Non-Null Count  Dtype  \n",
            "---  ------                 --------------  -----  \n",
            " 0   country                25983 non-null  object \n",
            " 1   description            25995 non-null  object \n",
            " 2   designation            18539 non-null  object \n",
            " 3   price                  24194 non-null  float64\n",
            " 4   province               25983 non-null  object \n",
            " 5   region_1               21770 non-null  object \n",
            " 6   region_2               10103 non-null  object \n",
            " 7   taster_name            20722 non-null  object \n",
            " 8   taster_twitter_handle  19764 non-null  object \n",
            " 9   title                  25995 non-null  object \n",
            " 10  variety                25995 non-null  object \n",
            " 11  winery                 25995 non-null  object \n",
            "dtypes: float64(1), object(11)\n",
            "memory usage: 2.4+ MB\n"
          ]
        }
      ],
      "source": [
        "df_test = pd.read_csv('test.csv')\n",
        "df_test.info()"
      ]
    },
    {
      "cell_type": "code",
      "execution_count": null,
      "metadata": {
        "id": "0YKkKpvCeA84"
      },
      "outputs": [],
      "source": [
        "temp = df_test[['region_1', 'price', 'taster_name', 'variety' ]]\n",
        "X_test = temp.copy()\n",
        "X_test['price'] = X_test[\"price\"].fillna(X_test[\"price\"].median(skipna=True))\n",
        "X_test.fillna(method='bfill', inplace = True)\n"
      ]
    },
    {
      "cell_type": "code",
      "execution_count": null,
      "metadata": {
        "colab": {
          "base_uri": "https://localhost:8080/"
        },
        "id": "8Uft-68xYzwE",
        "outputId": "c8d0404e-6cd8-4650-dc12-868baadb9b8a"
      },
      "outputs": [
        {
          "output_type": "stream",
          "name": "stdout",
          "text": [
            "<class 'pandas.core.frame.DataFrame'>\n",
            "RangeIndex: 25995 entries, 0 to 25994\n",
            "Data columns (total 4 columns):\n",
            " #   Column       Non-Null Count  Dtype  \n",
            "---  ------       --------------  -----  \n",
            " 0   region_1     25995 non-null  object \n",
            " 1   price        25995 non-null  float64\n",
            " 2   taster_name  25995 non-null  object \n",
            " 3   variety      25995 non-null  object \n",
            "dtypes: float64(1), object(3)\n",
            "memory usage: 812.5+ KB\n"
          ]
        }
      ],
      "source": [
        "X_test.info()"
      ]
    },
    {
      "cell_type": "code",
      "execution_count": null,
      "metadata": {
        "id": "7gsPxmnuXZqf"
      },
      "outputs": [],
      "source": [
        "# 범주형 변수 3개 원핫 인코딩 (결과값은 np.array)\n",
        "region_1_np = ohe_region_1.transform(X_test[['region_1']])\n",
        "taster_name_np = ohe_taster_name.transform(X_test[['taster_name']])\n",
        "variety_np = ohe_variety.transform(X_test[['variety']])"
      ]
    },
    {
      "cell_type": "code",
      "execution_count": null,
      "metadata": {
        "id": "sRjUYd6hXtx-"
      },
      "outputs": [],
      "source": [
        "# np.array dataframe으로 변환\n",
        "region_1_df = pd.DataFrame.sparse.from_spmatrix(region_1_np, columns=['region_1_' + col for col in ohe_region_1.categories_[0]])\n",
        "region_1_df.reset_index(drop=True, inplace = True)\n",
        "\n",
        "taster_name_df = pd.DataFrame.sparse.from_spmatrix(taster_name_np, columns=['taster_' + col for col in ohe_taster_name.categories_[0]])\n",
        "taster_name_df.reset_index(drop=True, inplace = True)\n",
        "\n",
        "variety_df = pd.DataFrame.sparse.from_spmatrix(variety_np, columns=['variety_' + col for col in ohe_variety.categories_[0]])\n",
        "variety_df.reset_index(drop=True, inplace = True)\n",
        "\n",
        "\n",
        "X_price = X_test.drop(['region_1', 'taster_name', 'variety'], axis=1)\n",
        "X_price.reset_index(drop=True, inplace = True)\n",
        "\n",
        "# one hot encoding 한거 다 합치기\n",
        "X_test = pd.concat([X_price, region_1_df, taster_name_df, variety_df], axis=1)"
      ]
    },
    {
      "cell_type": "code",
      "execution_count": null,
      "metadata": {
        "id": "wXGetfzedjd_"
      },
      "outputs": [],
      "source": [
        "# 로그변환\n",
        "X_test['price'] = np.log(X_test['price'])"
      ]
    },
    {
      "cell_type": "markdown",
      "metadata": {
        "id": "8txgPdB6d1le"
      },
      "source": [
        "## 1) Ridge(alpha =1)"
      ]
    },
    {
      "cell_type": "code",
      "execution_count": null,
      "metadata": {
        "id": "tIXj8-nLdxPF"
      },
      "outputs": [],
      "source": [
        "from sklearn.linear_model import Ridge\n",
        "lr = Ridge(alpha = 1)\n",
        "\n",
        "lr.fit(X_log, y)\n",
        "ridge_pred = lr.predict(X_test)\n"
      ]
    },
    {
      "cell_type": "code",
      "execution_count": null,
      "metadata": {
        "colab": {
          "base_uri": "https://localhost:8080/"
        },
        "id": "r7_7kBRCezF5",
        "outputId": "3ec43df5-8cb3-4749-dc3e-76a51b87a6f2"
      },
      "outputs": [
        {
          "output_type": "execute_result",
          "data": {
            "text/plain": [
              "array([87.13005014, 89.49666223, 89.22782344, ..., 89.05559096,\n",
              "       93.78133285, 89.49898406])"
            ]
          },
          "metadata": {},
          "execution_count": 52
        }
      ],
      "source": [
        "print(ridge_pred[:10])\n",
        "ridge_pred.to_csv('ridge_pred.csv') # csv로 저장"
      ]
    },
    {
      "cell_type": "markdown",
      "metadata": {
        "id": "hqUjwIn9yuTC"
      },
      "source": [
        "계수들을 살펴보자"
      ]
    },
    {
      "cell_type": "code",
      "execution_count": null,
      "metadata": {
        "colab": {
          "base_uri": "https://localhost:8080/",
          "height": 716
        },
        "id": "xqSsqW1ZhgdV",
        "outputId": "58018a38-ff6a-4b03-ff86-83739a4b6b3e"
      },
      "outputs": [
        {
          "output_type": "stream",
          "name": "stdout",
          "text": [
            "Intercept : 78.96\n",
            "region_1_Ramona Valley                   -4.89\n",
            "variety_Tempranillo Blanco               -4.09\n",
            "region_1_Sierra Pelona Valley            -4.06\n",
            "region_1_Vino de Calidad de Valtiendas   -3.84\n",
            "region_1_Madiran                          3.77\n",
            "variety_Tinta del Pais                    3.55\n",
            "variety_Picapoll                         -3.47\n",
            "variety_Sirica                            3.16\n",
            "region_1_Vino de la Tierra de Zamora     -3.11\n",
            "region_1_Val di Cornia Suvereto          -3.07\n",
            "dtype: float64\n"
          ]
        },
        {
          "output_type": "display_data",
          "data": {
            "text/plain": [
              "<Figure size 1152x576 with 2 Axes>"
            ],
            "image/png": "[encoded data removed]"
          },
          "metadata": {
            "needs_background": "light"
          }
        }
      ],
      "source": [
        "print(f'Intercept : {lr.intercept_:.2f}')\n",
        "\n",
        "# 계수들을 절대값 큰 순서대로 정렬\n",
        "# 그 중 10개 관찰\n",
        "coeff = pd.Series(data = np.round(lr.coef_, 2), index = X.columns)\n",
        "\n",
        "coeff_abs = np.abs(coeff.copy()) # 절대값 씌우기\n",
        "sorted_index = coeff_abs.sort_values(ascending = False).index # 절대값 씌운 상태로 내림차순 정렬 후 인덱스 추출\n",
        "sorted_index2 = coeff_abs.sort_values(ascending = True).index # 절대값 씌운 상태로 오름차순 정렬 후 인덱스 추출\n",
        "\n",
        "print(coeff[sorted_index[:10]]) # 추출한 인덱스로 계수 절대값 큰 순서대로\n",
        "\n",
        "fig, axes = plt.subplots(figsize = (16,8), nrows = 1, ncols = 2)\n",
        "\n",
        "axes[0].set_title('The most important Coef Top ten')\n",
        "axes[1].set_title('The most useless Coef Top ten')\n",
        "\n",
        "axes[0].barh(sorted_index[:10], coeff[sorted_index[:10]])\n",
        "axes[1].barh(sorted_index2[:10], coeff[sorted_index2[:10]])\n",
        "\n",
        "plt.show()"
      ]
    },
    {
      "cell_type": "markdown",
      "source": [
        "와인의 평점에 영향을 많이 미치는 feature들과 영향이 작은 feature들을 확인할 수 있었으나,<br>\n",
        "각 feature에 해당하는 표본이 적어 나타난 결과로 보이기에 한계가 있음."
      ],
      "metadata": {
        "id": "RTLDDNuS1ZYh"
      }
    },
    {
      "cell_type": "markdown",
      "metadata": {
        "id": "HbofxeG-eF7V"
      },
      "source": [
        "## 2) RandomForestRegressor"
      ]
    },
    {
      "cell_type": "code",
      "execution_count": null,
      "metadata": {
        "id": "dRQ-IFf_gzYz"
      },
      "outputs": [],
      "source": [
        "# 위에서 구한 best_rf 사용\n",
        "# parameter : {'max_depth': 8, 'max_features': 'auto', 'n_estimators': 15}\n",
        "rf_pred = best_rf.predict(X_test)"
      ]
    },
    {
      "cell_type": "code",
      "execution_count": null,
      "metadata": {
        "colab": {
          "base_uri": "https://localhost:8080/"
        },
        "id": "_DYb8hB31B1W",
        "outputId": "50833b6a-35da-4e60-b81e-f3ae5e02a885"
      },
      "outputs": [
        {
          "output_type": "execute_result",
          "data": {
            "text/plain": [
              "array([86.9573498 , 90.38607838, 90.2838293 , 88.18104514, 87.80539597,\n",
              "       88.14128302, 88.18104514, 86.97704016, 85.1163391 , 84.96394403])"
            ]
          },
          "metadata": {},
          "execution_count": 55
        }
      ],
      "source": [
        "rf_pred[:10]\n",
        "rf_pred.to_csv('rf_pred.csv') # csv로 저장"
      ]
    },
    {
      "cell_type": "markdown",
      "metadata": {
        "id": "OoC8Gu-l5Pkk"
      },
      "source": [
        "제일 중요한 피쳐 10개를 살펴보자"
      ]
    },
    {
      "cell_type": "code",
      "execution_count": null,
      "metadata": {
        "colab": {
          "base_uri": "https://localhost:8080/",
          "height": 283
        },
        "id": "f1g1C1ls1FAt",
        "outputId": "2520b9bc-d3d4-4521-b767-bf78477d2b2d"
      },
      "outputs": [
        {
          "output_type": "execute_result",
          "data": {
            "text/plain": [
              "<matplotlib.axes._subplots.AxesSubplot at 0x7f5701507990>"
            ]
          },
          "metadata": {},
          "execution_count": 56
        },
        {
          "output_type": "display_data",
          "data": {
            "text/plain": [
              "<Figure size 432x288 with 1 Axes>"
            ],
            "image/png": "[encoded data removed]"
          },
          "metadata": {
            "needs_background": "light"
          }
        }
      ],
      "source": [
        "feature_series = pd.Series(data = best_rf.feature_importances_, index = X_log.columns)\n",
        "feature_series = feature_series.sort_values(ascending = False)\n",
        "sns.barplot(x = feature_series[:10], y = feature_series.index[:10])"
      ]
    },
    {
      "cell_type": "markdown",
      "source": [
        "price의 중요도가 압도적으로 높게 나타났다.<br>\n",
        "그러나 taster, region등의 feature 단위로 종합했을 때의 결과는 어떨지 확인할 필요가 있다."
      ],
      "metadata": {
        "id": "P9boE_JX2E9O"
      }
    },
    {
      "cell_type": "markdown",
      "metadata": {
        "id": "s3XgYnmT5pJY"
      },
      "source": [
        "### 3) Basic Decision Tree Regessor"
      ]
    },
    {
      "cell_type": "code",
      "execution_count": null,
      "metadata": {
        "id": "7PeSi9P15rJk"
      },
      "outputs": [],
      "source": [
        "dt = DecisionTreeRegressor(random_state = RANDOM_STATE, max_depth = 5)\n",
        "\n",
        "dt.fit(X_log, y)\n",
        "\n",
        "dt_pred = dt.predict(X_test)"
      ]
    },
    {
      "cell_type": "code",
      "source": [
        "print(dt_pred[:10])\n",
        "dt_pred.to_csv('dt_pred.csv') # csv로 저장"
      ],
      "metadata": {
        "id": "C0pClawimC7Q"
      },
      "execution_count": null,
      "outputs": []
    },
    {
      "cell_type": "markdown",
      "metadata": {
        "id": "dYUtuWln51F7"
      },
      "source": [
        "마차가지로 제일 중요한 피쳐 10개를 살펴보자"
      ]
    },
    {
      "cell_type": "code",
      "execution_count": null,
      "metadata": {
        "colab": {
          "base_uri": "https://localhost:8080/",
          "height": 283
        },
        "id": "uaEimjf-50jE",
        "outputId": "64eecd5c-35a1-45d5-d354-0f807bd9b44c"
      },
      "outputs": [
        {
          "output_type": "execute_result",
          "data": {
            "text/plain": [
              "<matplotlib.axes._subplots.AxesSubplot at 0x7f56f6bcc090>"
            ]
          },
          "metadata": {},
          "execution_count": 58
        },
        {
          "output_type": "display_data",
          "data": {
            "text/plain": [
              "<Figure size 432x288 with 1 Axes>"
            ],
            "image/png": "[encoded data removed]"
          },
          "metadata": {
            "needs_background": "light"
          }
        }
      ],
      "source": [
        "feature_series = pd.Series(data = dt.feature_importances_, index = X_log.columns)\n",
        "feature_series = feature_series.sort_values(ascending = False)\n",
        "sns.barplot(x = feature_series[:10], y = feature_series.index[:10])"
      ]
    },
    {
      "cell_type": "markdown",
      "source": [
        "price의 중요도가 압도적으로 높게 나타났다.<br>\n",
        "그러나 taster, region등의 feature 단위로 종합했을 때의 결과는 어떨지 확인할 필요가 있다."
      ],
      "metadata": {
        "id": "0vR6c7m22TOy"
      }
    },
    {
      "cell_type": "code",
      "execution_count": null,
      "metadata": {
        "id": "t4aeXlUNV0dI",
        "colab": {
          "base_uri": "https://localhost:8080/",
          "height": 654
        },
        "outputId": "841b70aa-f471-48b2-b03c-34e91362f4ed"
      },
      "outputs": [
        {
          "output_type": "execute_result",
          "data": {
            "text/plain": [
              "<graphviz.files.Source at 0x7f5704ae4f10>"
            ],
            "image/svg+xml": "<?xml version=\"1.0\" encoding=\"UTF-8\" standalone=\"no\"?>\n<!DOCTYPE svg PUBLIC \"-//W3C//DTD SVG 1.1//EN\"\n \"http://www.w3.org/Graphics/SVG/1.1/DTD/svg11.dtd\">\n<!-- Generated by graphviz version 2.40.1 (20161225.0304)\n -->\n<!-- Title: Tree Pages: 1 -->\n<svg width=\"1712pt\" height=\"460pt\"\n viewBox=\"0.00 0.00 1711.50 460.00\" xmlns=\"http://www.w3.org/2000/svg\" xmlns:xlink=\"http://www.w3.org/1999/xlink\">\n<g id=\"graph0\" class=\"graph\" transform=\"scale(1 1) rotate(0) translate(4 456)\">\n<title>Tree</title>\n<polygon fill=\"#ffffff\" stroke=\"transparent\" points=\"-4,4 -4,-456 1707.5,-456 1707.5,4 -4,4\"/>\n<!-- 0 -->\n<g id=\"node1\" class=\"node\">\n<title>0</title>\n<polygon fill=\"#f1bc95\" stroke=\"#000000\" points=\"801,-452 640,-452 640,-384 801,-384 801,-452\"/>\n<text text-anchor=\"middle\" x=\"720.5\" y=\"-436.8\" font-family=\"Helvetica,sans-Serif\" font-size=\"14.00\" fill=\"#000000\">price &lt;= 3.277</text>\n<text text-anchor=\"middle\" x=\"720.5\" y=\"-421.8\" font-family=\"Helvetica,sans-Serif\" font-size=\"14.00\" fill=\"#000000\">squared_error = 8.295</text>\n<text text-anchor=\"middle\" x=\"720.5\" y=\"-406.8\" font-family=\"Helvetica,sans-Serif\" font-size=\"14.00\" fill=\"#000000\">samples = 54659</text>\n<text text-anchor=\"middle\" x=\"720.5\" y=\"-391.8\" font-family=\"Helvetica,sans-Serif\" font-size=\"14.00\" fill=\"#000000\">value = 88.469</text>\n</g>\n<!-- 1 -->\n<g id=\"node2\" class=\"node\">\n<title>1</title>\n<polygon fill=\"#f4caab\" stroke=\"#000000\" points=\"669.5,-348 525.5,-348 525.5,-280 669.5,-280 669.5,-348\"/>\n<text text-anchor=\"middle\" x=\"597.5\" y=\"-332.8\" font-family=\"Helvetica,sans-Serif\" font-size=\"14.00\" fill=\"#000000\">price &lt;= 2.74</text>\n<text text-anchor=\"middle\" x=\"597.5\" y=\"-317.8\" font-family=\"Helvetica,sans-Serif\" font-size=\"14.00\" fill=\"#000000\">squared_error = 5.9</text>\n<text text-anchor=\"middle\" x=\"597.5\" y=\"-302.8\" font-family=\"Helvetica,sans-Serif\" font-size=\"14.00\" fill=\"#000000\">samples = 28518</text>\n<text text-anchor=\"middle\" x=\"597.5\" y=\"-287.8\" font-family=\"Helvetica,sans-Serif\" font-size=\"14.00\" fill=\"#000000\">value = 87.127</text>\n</g>\n<!-- 0&#45;&gt;1 -->\n<g id=\"edge1\" class=\"edge\">\n<title>0&#45;&gt;1</title>\n<path fill=\"none\" stroke=\"#000000\" d=\"M680.2252,-383.9465C669.1816,-374.6088 657.0972,-364.3911 645.6596,-354.7203\"/>\n<polygon fill=\"#000000\" stroke=\"#000000\" points=\"647.7614,-351.914 637.8653,-348.13 643.2417,-357.2594 647.7614,-351.914\"/>\n<text text-anchor=\"middle\" x=\"639.9505\" y=\"-369.3429\" font-family=\"Helvetica,sans-Serif\" font-size=\"14.00\" fill=\"#000000\">True</text>\n</g>\n<!-- 32 -->\n<g id=\"node17\" class=\"node\">\n<title>32</title>\n<polygon fill=\"#eeac7d\" stroke=\"#000000\" points=\"1154.5,-348 1010.5,-348 1010.5,-280 1154.5,-280 1154.5,-348\"/>\n<text text-anchor=\"middle\" x=\"1082.5\" y=\"-332.8\" font-family=\"Helvetica,sans-Serif\" font-size=\"14.00\" fill=\"#000000\">price &lt;= 3.773</text>\n<text text-anchor=\"middle\" x=\"1082.5\" y=\"-317.8\" font-family=\"Helvetica,sans-Serif\" font-size=\"14.00\" fill=\"#000000\">squared_error = 6.8</text>\n<text text-anchor=\"middle\" x=\"1082.5\" y=\"-302.8\" font-family=\"Helvetica,sans-Serif\" font-size=\"14.00\" fill=\"#000000\">samples = 26141</text>\n<text text-anchor=\"middle\" x=\"1082.5\" y=\"-287.8\" font-family=\"Helvetica,sans-Serif\" font-size=\"14.00\" fill=\"#000000\">value = 89.933</text>\n</g>\n<!-- 0&#45;&gt;32 -->\n<g id=\"edge16\" class=\"edge\">\n<title>0&#45;&gt;32</title>\n<path fill=\"none\" stroke=\"#000000\" d=\"M801.2893,-394.7898C860.6048,-377.7489 940.8868,-354.6845 1000.4878,-337.5615\"/>\n<polygon fill=\"#000000\" stroke=\"#000000\" points=\"1001.5976,-340.8843 1010.2424,-334.7591 999.6647,-334.1565 1001.5976,-340.8843\"/>\n<text text-anchor=\"middle\" x=\"998.1332\" y=\"-352.9307\" font-family=\"Helvetica,sans-Serif\" font-size=\"14.00\" fill=\"#000000\">False</text>\n</g>\n<!-- 2 -->\n<g id=\"node3\" class=\"node\">\n<title>2</title>\n<polygon fill=\"#f6d6be\" stroke=\"#000000\" points=\"374.5,-244 144.5,-244 144.5,-176 374.5,-176 374.5,-244\"/>\n<text text-anchor=\"middle\" x=\"259.5\" y=\"-228.8\" font-family=\"Helvetica,sans-Serif\" font-size=\"14.00\" fill=\"#000000\">taster_Michael Schachner &lt;= 0.5</text>\n<text text-anchor=\"middle\" x=\"259.5\" y=\"-213.8\" font-family=\"Helvetica,sans-Serif\" font-size=\"14.00\" fill=\"#000000\">squared_error = 4.615</text>\n<text text-anchor=\"middle\" x=\"259.5\" y=\"-198.8\" font-family=\"Helvetica,sans-Serif\" font-size=\"14.00\" fill=\"#000000\">samples = 10504</text>\n<text text-anchor=\"middle\" x=\"259.5\" y=\"-183.8\" font-family=\"Helvetica,sans-Serif\" font-size=\"14.00\" fill=\"#000000\">value = 85.972</text>\n</g>\n<!-- 1&#45;&gt;2 -->\n<g id=\"edge2\" class=\"edge\">\n<title>1&#45;&gt;2</title>\n<path fill=\"none\" stroke=\"#000000\" d=\"M525.4051,-291.817C483.0543,-278.7859 428.4407,-261.9818 379.7364,-246.9958\"/>\n<polygon fill=\"#000000\" stroke=\"#000000\" points=\"380.6668,-243.6202 370.0797,-244.0245 378.6082,-250.3107 380.6668,-243.6202\"/>\n</g>\n<!-- 17 -->\n<g id=\"node10\" class=\"node\">\n<title>17</title>\n<polygon fill=\"#f3c3a0\" stroke=\"#000000\" points=\"678,-244 517,-244 517,-176 678,-176 678,-244\"/>\n<text text-anchor=\"middle\" x=\"597.5\" y=\"-228.8\" font-family=\"Helvetica,sans-Serif\" font-size=\"14.00\" fill=\"#000000\">price &lt;= 3.02</text>\n<text text-anchor=\"middle\" x=\"597.5\" y=\"-213.8\" font-family=\"Helvetica,sans-Serif\" font-size=\"14.00\" fill=\"#000000\">squared_error = 5.417</text>\n<text text-anchor=\"middle\" x=\"597.5\" y=\"-198.8\" font-family=\"Helvetica,sans-Serif\" font-size=\"14.00\" fill=\"#000000\">samples = 18014</text>\n<text text-anchor=\"middle\" x=\"597.5\" y=\"-183.8\" font-family=\"Helvetica,sans-Serif\" font-size=\"14.00\" fill=\"#000000\">value = 87.8</text>\n</g>\n<!-- 1&#45;&gt;17 -->\n<g id=\"edge9\" class=\"edge\">\n<title>1&#45;&gt;17</title>\n<path fill=\"none\" stroke=\"#000000\" d=\"M597.5,-279.9465C597.5,-271.776 597.5,-262.9318 597.5,-254.3697\"/>\n<polygon fill=\"#000000\" stroke=\"#000000\" points=\"601.0001,-254.13 597.5,-244.13 594.0001,-254.13 601.0001,-254.13\"/>\n</g>\n<!-- 3 -->\n<g id=\"node4\" class=\"node\">\n<title>3</title>\n<polygon fill=\"#f6d2b8\" stroke=\"#000000\" points=\"161,-140 0,-140 0,-72 161,-72 161,-140\"/>\n<text text-anchor=\"middle\" x=\"80.5\" y=\"-124.8\" font-family=\"Helvetica,sans-Serif\" font-size=\"14.00\" fill=\"#000000\">price &lt;= 2.602</text>\n<text text-anchor=\"middle\" x=\"80.5\" y=\"-109.8\" font-family=\"Helvetica,sans-Serif\" font-size=\"14.00\" fill=\"#000000\">squared_error = 4.049</text>\n<text text-anchor=\"middle\" x=\"80.5\" y=\"-94.8\" font-family=\"Helvetica,sans-Serif\" font-size=\"14.00\" fill=\"#000000\">samples = 7243</text>\n<text text-anchor=\"middle\" x=\"80.5\" y=\"-79.8\" font-family=\"Helvetica,sans-Serif\" font-size=\"14.00\" fill=\"#000000\">value = 86.354</text>\n</g>\n<!-- 2&#45;&gt;3 -->\n<g id=\"edge3\" class=\"edge\">\n<title>2&#45;&gt;3</title>\n<path fill=\"none\" stroke=\"#000000\" d=\"M200.8887,-175.9465C184.0445,-166.1599 165.5364,-155.4066 148.192,-145.3294\"/>\n<polygon fill=\"#000000\" stroke=\"#000000\" points=\"149.6478,-142.1274 139.243,-140.13 146.1312,-148.18 149.6478,-142.1274\"/>\n</g>\n<!-- 10 -->\n<g id=\"node7\" class=\"node\">\n<title>10</title>\n<polygon fill=\"#f8decc\" stroke=\"#000000\" points=\"340,-140 179,-140 179,-72 340,-72 340,-140\"/>\n<text text-anchor=\"middle\" x=\"259.5\" y=\"-124.8\" font-family=\"Helvetica,sans-Serif\" font-size=\"14.00\" fill=\"#000000\">price &lt;= 2.602</text>\n<text text-anchor=\"middle\" x=\"259.5\" y=\"-109.8\" font-family=\"Helvetica,sans-Serif\" font-size=\"14.00\" fill=\"#000000\">squared_error = 4.827</text>\n<text text-anchor=\"middle\" x=\"259.5\" y=\"-94.8\" font-family=\"Helvetica,sans-Serif\" font-size=\"14.00\" fill=\"#000000\">samples = 3261</text>\n<text text-anchor=\"middle\" x=\"259.5\" y=\"-79.8\" font-family=\"Helvetica,sans-Serif\" font-size=\"14.00\" fill=\"#000000\">value = 85.123</text>\n</g>\n<!-- 2&#45;&gt;10 -->\n<g id=\"edge6\" class=\"edge\">\n<title>2&#45;&gt;10</title>\n<path fill=\"none\" stroke=\"#000000\" d=\"M259.5,-175.9465C259.5,-167.776 259.5,-158.9318 259.5,-150.3697\"/>\n<polygon fill=\"#000000\" stroke=\"#000000\" points=\"263.0001,-150.13 259.5,-140.13 256.0001,-150.13 263.0001,-150.13\"/>\n</g>\n<!-- 4 -->\n<g id=\"node5\" class=\"node\">\n<title>4</title>\n<polygon fill=\"#c0c0c0\" stroke=\"#000000\" points=\"71.5,-36 17.5,-36 17.5,0 71.5,0 71.5,-36\"/>\n<text text-anchor=\"middle\" x=\"44.5\" y=\"-14.3\" font-family=\"Helvetica,sans-Serif\" font-size=\"14.00\" fill=\"#000000\">(...)</text>\n</g>\n<!-- 3&#45;&gt;4 -->\n<g id=\"edge4\" class=\"edge\">\n<title>3&#45;&gt;4</title>\n<path fill=\"none\" stroke=\"#000000\" d=\"M66.5815,-71.9769C62.9977,-63.2167 59.1862,-53.8995 55.7564,-45.5157\"/>\n<polygon fill=\"#000000\" stroke=\"#000000\" points=\"58.968,-44.1222 51.9422,-36.192 52.4891,-46.7727 58.968,-44.1222\"/>\n</g>\n<!-- 7 -->\n<g id=\"node6\" class=\"node\">\n<title>7</title>\n<polygon fill=\"#c0c0c0\" stroke=\"#000000\" points=\"143.5,-36 89.5,-36 89.5,0 143.5,0 143.5,-36\"/>\n<text text-anchor=\"middle\" x=\"116.5\" y=\"-14.3\" font-family=\"Helvetica,sans-Serif\" font-size=\"14.00\" fill=\"#000000\">(...)</text>\n</g>\n<!-- 3&#45;&gt;7 -->\n<g id=\"edge5\" class=\"edge\">\n<title>3&#45;&gt;7</title>\n<path fill=\"none\" stroke=\"#000000\" d=\"M94.4185,-71.9769C98.0023,-63.2167 101.8138,-53.8995 105.2436,-45.5157\"/>\n<polygon fill=\"#000000\" stroke=\"#000000\" points=\"108.5109,-46.7727 109.0578,-36.192 102.032,-44.1222 108.5109,-46.7727\"/>\n</g>\n<!-- 11 -->\n<g id=\"node8\" class=\"node\">\n<title>11</title>\n<polygon fill=\"#c0c0c0\" stroke=\"#000000\" points=\"268.5,-36 214.5,-36 214.5,0 268.5,0 268.5,-36\"/>\n<text text-anchor=\"middle\" x=\"241.5\" y=\"-14.3\" font-family=\"Helvetica,sans-Serif\" font-size=\"14.00\" fill=\"#000000\">(...)</text>\n</g>\n<!-- 10&#45;&gt;11 -->\n<g id=\"edge7\" class=\"edge\">\n<title>10&#45;&gt;11</title>\n<path fill=\"none\" stroke=\"#000000\" d=\"M252.5407,-71.9769C250.7878,-63.4071 248.9259,-54.3043 247.2403,-46.0638\"/>\n<polygon fill=\"#000000\" stroke=\"#000000\" points=\"250.6541,-45.2877 245.2211,-36.192 243.7961,-46.6905 250.6541,-45.2877\"/>\n</g>\n<!-- 14 -->\n<g id=\"node9\" class=\"node\">\n<title>14</title>\n<polygon fill=\"#c0c0c0\" stroke=\"#000000\" points=\"340.5,-36 286.5,-36 286.5,0 340.5,0 340.5,-36\"/>\n<text text-anchor=\"middle\" x=\"313.5\" y=\"-14.3\" font-family=\"Helvetica,sans-Serif\" font-size=\"14.00\" fill=\"#000000\">(...)</text>\n</g>\n<!-- 10&#45;&gt;14 -->\n<g id=\"edge8\" class=\"edge\">\n<title>10&#45;&gt;14</title>\n<path fill=\"none\" stroke=\"#000000\" d=\"M280.3778,-71.9769C285.8703,-63.0262 291.7195,-53.4941 296.9501,-44.9703\"/>\n<polygon fill=\"#000000\" stroke=\"#000000\" points=\"300.0897,-46.5458 302.3368,-36.192 294.1234,-42.8846 300.0897,-46.5458\"/>\n</g>\n<!-- 18 -->\n<g id=\"node11\" class=\"node\">\n<title>18</title>\n<polygon fill=\"#f3c6a6\" stroke=\"#000000\" points=\"588.5,-140 358.5,-140 358.5,-72 588.5,-72 588.5,-140\"/>\n<text text-anchor=\"middle\" x=\"473.5\" y=\"-124.8\" font-family=\"Helvetica,sans-Serif\" font-size=\"14.00\" fill=\"#000000\">taster_Michael Schachner &lt;= 0.5</text>\n<text text-anchor=\"middle\" x=\"473.5\" y=\"-109.8\" font-family=\"Helvetica,sans-Serif\" font-size=\"14.00\" fill=\"#000000\">squared_error = 5.102</text>\n<text text-anchor=\"middle\" x=\"473.5\" y=\"-94.8\" font-family=\"Helvetica,sans-Serif\" font-size=\"14.00\" fill=\"#000000\">samples = 9929</text>\n<text text-anchor=\"middle\" x=\"473.5\" y=\"-79.8\" font-family=\"Helvetica,sans-Serif\" font-size=\"14.00\" fill=\"#000000\">value = 87.465</text>\n</g>\n<!-- 17&#45;&gt;18 -->\n<g id=\"edge10\" class=\"edge\">\n<title>17&#45;&gt;18</title>\n<path fill=\"none\" stroke=\"#000000\" d=\"M556.8978,-175.9465C545.7644,-166.6088 533.5817,-156.3911 522.0511,-146.7203\"/>\n<polygon fill=\"#000000\" stroke=\"#000000\" points=\"524.1046,-143.8745 514.1935,-140.13 519.6062,-149.2378 524.1046,-143.8745\"/>\n</g>\n<!-- 25 -->\n<g id=\"node14\" class=\"node\">\n<title>25</title>\n<polygon fill=\"#f2be99\" stroke=\"#000000\" points=\"836.5,-140 606.5,-140 606.5,-72 836.5,-72 836.5,-140\"/>\n<text text-anchor=\"middle\" x=\"721.5\" y=\"-124.8\" font-family=\"Helvetica,sans-Serif\" font-size=\"14.00\" fill=\"#000000\">taster_Alexander Peartree &lt;= 0.5</text>\n<text text-anchor=\"middle\" x=\"721.5\" y=\"-109.8\" font-family=\"Helvetica,sans-Serif\" font-size=\"14.00\" fill=\"#000000\">squared_error = 5.497</text>\n<text text-anchor=\"middle\" x=\"721.5\" y=\"-94.8\" font-family=\"Helvetica,sans-Serif\" font-size=\"14.00\" fill=\"#000000\">samples = 8085</text>\n<text text-anchor=\"middle\" x=\"721.5\" y=\"-79.8\" font-family=\"Helvetica,sans-Serif\" font-size=\"14.00\" fill=\"#000000\">value = 88.212</text>\n</g>\n<!-- 17&#45;&gt;25 -->\n<g id=\"edge13\" class=\"edge\">\n<title>17&#45;&gt;25</title>\n<path fill=\"none\" stroke=\"#000000\" d=\"M638.1022,-175.9465C649.2356,-166.6088 661.4183,-156.3911 672.9489,-146.7203\"/>\n<polygon fill=\"#000000\" stroke=\"#000000\" points=\"675.3938,-149.2378 680.8065,-140.13 670.8954,-143.8745 675.3938,-149.2378\"/>\n</g>\n<!-- 19 -->\n<g id=\"node12\" class=\"node\">\n<title>19</title>\n<polygon fill=\"#c0c0c0\" stroke=\"#000000\" points=\"446.5,-36 392.5,-36 392.5,0 446.5,0 446.5,-36\"/>\n<text text-anchor=\"middle\" x=\"419.5\" y=\"-14.3\" font-family=\"Helvetica,sans-Serif\" font-size=\"14.00\" fill=\"#000000\">(...)</text>\n</g>\n<!-- 18&#45;&gt;19 -->\n<g id=\"edge11\" class=\"edge\">\n<title>18&#45;&gt;19</title>\n<path fill=\"none\" stroke=\"#000000\" d=\"M452.6222,-71.9769C447.1297,-63.0262 441.2805,-53.4941 436.0499,-44.9703\"/>\n<polygon fill=\"#000000\" stroke=\"#000000\" points=\"438.8766,-42.8846 430.6632,-36.192 432.9103,-46.5458 438.8766,-42.8846\"/>\n</g>\n<!-- 22 -->\n<g id=\"node13\" class=\"node\">\n<title>22</title>\n<polygon fill=\"#c0c0c0\" stroke=\"#000000\" points=\"518.5,-36 464.5,-36 464.5,0 518.5,0 518.5,-36\"/>\n<text text-anchor=\"middle\" x=\"491.5\" y=\"-14.3\" font-family=\"Helvetica,sans-Serif\" font-size=\"14.00\" fill=\"#000000\">(...)</text>\n</g>\n<!-- 18&#45;&gt;22 -->\n<g id=\"edge12\" class=\"edge\">\n<title>18&#45;&gt;22</title>\n<path fill=\"none\" stroke=\"#000000\" d=\"M480.4593,-71.9769C482.2122,-63.4071 484.0741,-54.3043 485.7597,-46.0638\"/>\n<polygon fill=\"#000000\" stroke=\"#000000\" points=\"489.2039,-46.6905 487.7789,-36.192 482.3459,-45.2877 489.2039,-46.6905\"/>\n</g>\n<!-- 26 -->\n<g id=\"node15\" class=\"node\">\n<title>26</title>\n<polygon fill=\"#c0c0c0\" stroke=\"#000000\" points=\"712.5,-36 658.5,-36 658.5,0 712.5,0 712.5,-36\"/>\n<text text-anchor=\"middle\" x=\"685.5\" y=\"-14.3\" font-family=\"Helvetica,sans-Serif\" font-size=\"14.00\" fill=\"#000000\">(...)</text>\n</g>\n<!-- 25&#45;&gt;26 -->\n<g id=\"edge14\" class=\"edge\">\n<title>25&#45;&gt;26</title>\n<path fill=\"none\" stroke=\"#000000\" d=\"M707.5815,-71.9769C703.9977,-63.2167 700.1862,-53.8995 696.7564,-45.5157\"/>\n<polygon fill=\"#000000\" stroke=\"#000000\" points=\"699.968,-44.1222 692.9422,-36.192 693.4891,-46.7727 699.968,-44.1222\"/>\n</g>\n<!-- 29 -->\n<g id=\"node16\" class=\"node\">\n<title>29</title>\n<polygon fill=\"#c0c0c0\" stroke=\"#000000\" points=\"784.5,-36 730.5,-36 730.5,0 784.5,0 784.5,-36\"/>\n<text text-anchor=\"middle\" x=\"757.5\" y=\"-14.3\" font-family=\"Helvetica,sans-Serif\" font-size=\"14.00\" fill=\"#000000\">(...)</text>\n</g>\n<!-- 25&#45;&gt;29 -->\n<g id=\"edge15\" class=\"edge\">\n<title>25&#45;&gt;29</title>\n<path fill=\"none\" stroke=\"#000000\" d=\"M735.4185,-71.9769C739.0023,-63.2167 742.8138,-53.8995 746.2436,-45.5157\"/>\n<polygon fill=\"#000000\" stroke=\"#000000\" points=\"749.5109,-46.7727 750.0578,-36.192 743.032,-44.1222 749.5109,-46.7727\"/>\n</g>\n<!-- 33 -->\n<g id=\"node18\" class=\"node\">\n<title>33</title>\n<polygon fill=\"#efb489\" stroke=\"#000000\" points=\"1163,-244 1002,-244 1002,-176 1163,-176 1163,-244\"/>\n<text text-anchor=\"middle\" x=\"1082.5\" y=\"-228.8\" font-family=\"Helvetica,sans-Serif\" font-size=\"14.00\" fill=\"#000000\">price &lt;= 3.541</text>\n<text text-anchor=\"middle\" x=\"1082.5\" y=\"-213.8\" font-family=\"Helvetica,sans-Serif\" font-size=\"14.00\" fill=\"#000000\">squared_error = 6.181</text>\n<text text-anchor=\"middle\" x=\"1082.5\" y=\"-198.8\" font-family=\"Helvetica,sans-Serif\" font-size=\"14.00\" fill=\"#000000\">samples = 14011</text>\n<text text-anchor=\"middle\" x=\"1082.5\" y=\"-183.8\" font-family=\"Helvetica,sans-Serif\" font-size=\"14.00\" fill=\"#000000\">value = 89.222</text>\n</g>\n<!-- 32&#45;&gt;33 -->\n<g id=\"edge17\" class=\"edge\">\n<title>32&#45;&gt;33</title>\n<path fill=\"none\" stroke=\"#000000\" d=\"M1082.5,-279.9465C1082.5,-271.776 1082.5,-262.9318 1082.5,-254.3697\"/>\n<polygon fill=\"#000000\" stroke=\"#000000\" points=\"1086.0001,-254.13 1082.5,-244.13 1079.0001,-254.13 1086.0001,-254.13\"/>\n</g>\n<!-- 48 -->\n<g id=\"node25\" class=\"node\">\n<title>48</title>\n<polygon fill=\"#eca470\" stroke=\"#000000\" points=\"1496,-244 1335,-244 1335,-176 1496,-176 1496,-244\"/>\n<text text-anchor=\"middle\" x=\"1415.5\" y=\"-228.8\" font-family=\"Helvetica,sans-Serif\" font-size=\"14.00\" fill=\"#000000\">price &lt;= 4.119</text>\n<text text-anchor=\"middle\" x=\"1415.5\" y=\"-213.8\" font-family=\"Helvetica,sans-Serif\" font-size=\"14.00\" fill=\"#000000\">squared_error = 6.256</text>\n<text text-anchor=\"middle\" x=\"1415.5\" y=\"-198.8\" font-family=\"Helvetica,sans-Serif\" font-size=\"14.00\" fill=\"#000000\">samples = 12130</text>\n<text text-anchor=\"middle\" x=\"1415.5\" y=\"-183.8\" font-family=\"Helvetica,sans-Serif\" font-size=\"14.00\" fill=\"#000000\">value = 90.754</text>\n</g>\n<!-- 32&#45;&gt;48 -->\n<g id=\"edge24\" class=\"edge\">\n<title>32&#45;&gt;48</title>\n<path fill=\"none\" stroke=\"#000000\" d=\"M1154.756,-291.4335C1204.7274,-275.8269 1271.5865,-254.946 1325.0904,-238.236\"/>\n<polygon fill=\"#000000\" stroke=\"#000000\" points=\"1326.4163,-241.4887 1334.9182,-235.1667 1324.3295,-234.807 1326.4163,-241.4887\"/>\n</g>\n<!-- 34 -->\n<g id=\"node19\" class=\"node\">\n<title>34</title>\n<polygon fill=\"#f0b88f\" stroke=\"#000000\" points=\"1080.5,-140 854.5,-140 854.5,-72 1080.5,-72 1080.5,-140\"/>\n<text text-anchor=\"middle\" x=\"967.5\" y=\"-124.8\" font-family=\"Helvetica,sans-Serif\" font-size=\"14.00\" fill=\"#000000\">taster_Anne Krebiehl MW &lt;= 0.5</text>\n<text text-anchor=\"middle\" x=\"967.5\" y=\"-109.8\" font-family=\"Helvetica,sans-Serif\" font-size=\"14.00\" fill=\"#000000\">squared_error = 6.075</text>\n<text text-anchor=\"middle\" x=\"967.5\" y=\"-94.8\" font-family=\"Helvetica,sans-Serif\" font-size=\"14.00\" fill=\"#000000\">samples = 7124</text>\n<text text-anchor=\"middle\" x=\"967.5\" y=\"-79.8\" font-family=\"Helvetica,sans-Serif\" font-size=\"14.00\" fill=\"#000000\">value = 88.85</text>\n</g>\n<!-- 33&#45;&gt;34 -->\n<g id=\"edge18\" class=\"edge\">\n<title>33&#45;&gt;34</title>\n<path fill=\"none\" stroke=\"#000000\" d=\"M1044.8447,-175.9465C1034.6187,-166.6986 1023.4382,-156.5876 1012.8359,-146.9994\"/>\n<polygon fill=\"#000000\" stroke=\"#000000\" points=\"1015.0044,-144.2416 1005.2399,-140.13 1010.3092,-149.4334 1015.0044,-144.2416\"/>\n</g>\n<!-- 41 -->\n<g id=\"node22\" class=\"node\">\n<title>41</title>\n<polygon fill=\"#efb082\" stroke=\"#000000\" points=\"1298,-140 1099,-140 1099,-72 1298,-72 1298,-140\"/>\n<text text-anchor=\"middle\" x=\"1198.5\" y=\"-124.8\" font-family=\"Helvetica,sans-Serif\" font-size=\"14.00\" fill=\"#000000\">taster_Matt Kettmann &lt;= 0.5</text>\n<text text-anchor=\"middle\" x=\"1198.5\" y=\"-109.8\" font-family=\"Helvetica,sans-Serif\" font-size=\"14.00\" fill=\"#000000\">squared_error = 5.999</text>\n<text text-anchor=\"middle\" x=\"1198.5\" y=\"-94.8\" font-family=\"Helvetica,sans-Serif\" font-size=\"14.00\" fill=\"#000000\">samples = 6887</text>\n<text text-anchor=\"middle\" x=\"1198.5\" y=\"-79.8\" font-family=\"Helvetica,sans-Serif\" font-size=\"14.00\" fill=\"#000000\">value = 89.607</text>\n</g>\n<!-- 33&#45;&gt;41 -->\n<g id=\"edge21\" class=\"edge\">\n<title>33&#45;&gt;41</title>\n<path fill=\"none\" stroke=\"#000000\" d=\"M1120.4827,-175.9465C1130.7977,-166.6986 1142.0754,-156.5876 1152.7699,-146.9994\"/>\n<polygon fill=\"#000000\" stroke=\"#000000\" points=\"1155.3226,-149.4115 1160.4319,-140.13 1150.6498,-144.1995 1155.3226,-149.4115\"/>\n</g>\n<!-- 35 -->\n<g id=\"node20\" class=\"node\">\n<title>35</title>\n<polygon fill=\"#c0c0c0\" stroke=\"#000000\" points=\"958.5,-36 904.5,-36 904.5,0 958.5,0 958.5,-36\"/>\n<text text-anchor=\"middle\" x=\"931.5\" y=\"-14.3\" font-family=\"Helvetica,sans-Serif\" font-size=\"14.00\" fill=\"#000000\">(...)</text>\n</g>\n<!-- 34&#45;&gt;35 -->\n<g id=\"edge19\" class=\"edge\">\n<title>34&#45;&gt;35</title>\n<path fill=\"none\" stroke=\"#000000\" d=\"M953.5815,-71.9769C949.9977,-63.2167 946.1862,-53.8995 942.7564,-45.5157\"/>\n<polygon fill=\"#000000\" stroke=\"#000000\" points=\"945.968,-44.1222 938.9422,-36.192 939.4891,-46.7727 945.968,-44.1222\"/>\n</g>\n<!-- 38 -->\n<g id=\"node21\" class=\"node\">\n<title>38</title>\n<polygon fill=\"#c0c0c0\" stroke=\"#000000\" points=\"1030.5,-36 976.5,-36 976.5,0 1030.5,0 1030.5,-36\"/>\n<text text-anchor=\"middle\" x=\"1003.5\" y=\"-14.3\" font-family=\"Helvetica,sans-Serif\" font-size=\"14.00\" fill=\"#000000\">(...)</text>\n</g>\n<!-- 34&#45;&gt;38 -->\n<g id=\"edge20\" class=\"edge\">\n<title>34&#45;&gt;38</title>\n<path fill=\"none\" stroke=\"#000000\" d=\"M981.4185,-71.9769C985.0023,-63.2167 988.8138,-53.8995 992.2436,-45.5157\"/>\n<polygon fill=\"#000000\" stroke=\"#000000\" points=\"995.5109,-46.7727 996.0578,-36.192 989.032,-44.1222 995.5109,-46.7727\"/>\n</g>\n<!-- 42 -->\n<g id=\"node23\" class=\"node\">\n<title>42</title>\n<polygon fill=\"#c0c0c0\" stroke=\"#000000\" points=\"1189.5,-36 1135.5,-36 1135.5,0 1189.5,0 1189.5,-36\"/>\n<text text-anchor=\"middle\" x=\"1162.5\" y=\"-14.3\" font-family=\"Helvetica,sans-Serif\" font-size=\"14.00\" fill=\"#000000\">(...)</text>\n</g>\n<!-- 41&#45;&gt;42 -->\n<g id=\"edge22\" class=\"edge\">\n<title>41&#45;&gt;42</title>\n<path fill=\"none\" stroke=\"#000000\" d=\"M1184.5815,-71.9769C1180.9977,-63.2167 1177.1862,-53.8995 1173.7564,-45.5157\"/>\n<polygon fill=\"#000000\" stroke=\"#000000\" points=\"1176.968,-44.1222 1169.9422,-36.192 1170.4891,-46.7727 1176.968,-44.1222\"/>\n</g>\n<!-- 45 -->\n<g id=\"node24\" class=\"node\">\n<title>45</title>\n<polygon fill=\"#c0c0c0\" stroke=\"#000000\" points=\"1261.5,-36 1207.5,-36 1207.5,0 1261.5,0 1261.5,-36\"/>\n<text text-anchor=\"middle\" x=\"1234.5\" y=\"-14.3\" font-family=\"Helvetica,sans-Serif\" font-size=\"14.00\" fill=\"#000000\">(...)</text>\n</g>\n<!-- 41&#45;&gt;45 -->\n<g id=\"edge23\" class=\"edge\">\n<title>41&#45;&gt;45</title>\n<path fill=\"none\" stroke=\"#000000\" d=\"M1212.4185,-71.9769C1216.0023,-63.2167 1219.8138,-53.8995 1223.2436,-45.5157\"/>\n<polygon fill=\"#000000\" stroke=\"#000000\" points=\"1226.5109,-46.7727 1227.0578,-36.192 1220.032,-44.1222 1226.5109,-46.7727\"/>\n</g>\n<!-- 49 -->\n<g id=\"node26\" class=\"node\">\n<title>49</title>\n<polygon fill=\"#eda774\" stroke=\"#000000\" points=\"1515,-140 1316,-140 1316,-72 1515,-72 1515,-140\"/>\n<text text-anchor=\"middle\" x=\"1415.5\" y=\"-124.8\" font-family=\"Helvetica,sans-Serif\" font-size=\"14.00\" fill=\"#000000\">taster_Matt Kettmann &lt;= 0.5</text>\n<text text-anchor=\"middle\" x=\"1415.5\" y=\"-109.8\" font-family=\"Helvetica,sans-Serif\" font-size=\"14.00\" fill=\"#000000\">squared_error = 6.045</text>\n<text text-anchor=\"middle\" x=\"1415.5\" y=\"-94.8\" font-family=\"Helvetica,sans-Serif\" font-size=\"14.00\" fill=\"#000000\">samples = 8142</text>\n<text text-anchor=\"middle\" x=\"1415.5\" y=\"-79.8\" font-family=\"Helvetica,sans-Serif\" font-size=\"14.00\" fill=\"#000000\">value = 90.49</text>\n</g>\n<!-- 48&#45;&gt;49 -->\n<g id=\"edge25\" class=\"edge\">\n<title>48&#45;&gt;49</title>\n<path fill=\"none\" stroke=\"#000000\" d=\"M1415.5,-175.9465C1415.5,-167.776 1415.5,-158.9318 1415.5,-150.3697\"/>\n<polygon fill=\"#000000\" stroke=\"#000000\" points=\"1419.0001,-150.13 1415.5,-140.13 1412.0001,-150.13 1419.0001,-150.13\"/>\n</g>\n<!-- 56 -->\n<g id=\"node29\" class=\"node\">\n<title>56</title>\n<polygon fill=\"#eb9e67\" stroke=\"#000000\" points=\"1703.5,-140 1533.5,-140 1533.5,-72 1703.5,-72 1703.5,-140\"/>\n<text text-anchor=\"middle\" x=\"1618.5\" y=\"-124.8\" font-family=\"Helvetica,sans-Serif\" font-size=\"14.00\" fill=\"#000000\">region_1_Alsace &lt;= 0.5</text>\n<text text-anchor=\"middle\" x=\"1618.5\" y=\"-109.8\" font-family=\"Helvetica,sans-Serif\" font-size=\"14.00\" fill=\"#000000\">squared_error = 6.255</text>\n<text text-anchor=\"middle\" x=\"1618.5\" y=\"-94.8\" font-family=\"Helvetica,sans-Serif\" font-size=\"14.00\" fill=\"#000000\">samples = 3988</text>\n<text text-anchor=\"middle\" x=\"1618.5\" y=\"-79.8\" font-family=\"Helvetica,sans-Serif\" font-size=\"14.00\" fill=\"#000000\">value = 91.292</text>\n</g>\n<!-- 48&#45;&gt;56 -->\n<g id=\"edge28\" class=\"edge\">\n<title>48&#45;&gt;56</title>\n<path fill=\"none\" stroke=\"#000000\" d=\"M1481.9698,-175.9465C1501.423,-165.9803 1522.8329,-155.0117 1542.8134,-144.7754\"/>\n<polygon fill=\"#000000\" stroke=\"#000000\" points=\"1544.5767,-147.8047 1551.8809,-140.13 1541.385,-141.5747 1544.5767,-147.8047\"/>\n</g>\n<!-- 50 -->\n<g id=\"node27\" class=\"node\">\n<title>50</title>\n<polygon fill=\"#c0c0c0\" stroke=\"#000000\" points=\"1406.5,-36 1352.5,-36 1352.5,0 1406.5,0 1406.5,-36\"/>\n<text text-anchor=\"middle\" x=\"1379.5\" y=\"-14.3\" font-family=\"Helvetica,sans-Serif\" font-size=\"14.00\" fill=\"#000000\">(...)</text>\n</g>\n<!-- 49&#45;&gt;50 -->\n<g id=\"edge26\" class=\"edge\">\n<title>49&#45;&gt;50</title>\n<path fill=\"none\" stroke=\"#000000\" d=\"M1401.5815,-71.9769C1397.9977,-63.2167 1394.1862,-53.8995 1390.7564,-45.5157\"/>\n<polygon fill=\"#000000\" stroke=\"#000000\" points=\"1393.968,-44.1222 1386.9422,-36.192 1387.4891,-46.7727 1393.968,-44.1222\"/>\n</g>\n<!-- 53 -->\n<g id=\"node28\" class=\"node\">\n<title>53</title>\n<polygon fill=\"#c0c0c0\" stroke=\"#000000\" points=\"1478.5,-36 1424.5,-36 1424.5,0 1478.5,0 1478.5,-36\"/>\n<text text-anchor=\"middle\" x=\"1451.5\" y=\"-14.3\" font-family=\"Helvetica,sans-Serif\" font-size=\"14.00\" fill=\"#000000\">(...)</text>\n</g>\n<!-- 49&#45;&gt;53 -->\n<g id=\"edge27\" class=\"edge\">\n<title>49&#45;&gt;53</title>\n<path fill=\"none\" stroke=\"#000000\" d=\"M1429.4185,-71.9769C1433.0023,-63.2167 1436.8138,-53.8995 1440.2436,-45.5157\"/>\n<polygon fill=\"#000000\" stroke=\"#000000\" points=\"1443.5109,-46.7727 1444.0578,-36.192 1437.032,-44.1222 1443.5109,-46.7727\"/>\n</g>\n<!-- 57 -->\n<g id=\"node30\" class=\"node\">\n<title>57</title>\n<polygon fill=\"#c0c0c0\" stroke=\"#000000\" points=\"1609.5,-36 1555.5,-36 1555.5,0 1609.5,0 1609.5,-36\"/>\n<text text-anchor=\"middle\" x=\"1582.5\" y=\"-14.3\" font-family=\"Helvetica,sans-Serif\" font-size=\"14.00\" fill=\"#000000\">(...)</text>\n</g>\n<!-- 56&#45;&gt;57 -->\n<g id=\"edge29\" class=\"edge\">\n<title>56&#45;&gt;57</title>\n<path fill=\"none\" stroke=\"#000000\" d=\"M1604.5815,-71.9769C1600.9977,-63.2167 1597.1862,-53.8995 1593.7564,-45.5157\"/>\n<polygon fill=\"#000000\" stroke=\"#000000\" points=\"1596.968,-44.1222 1589.9422,-36.192 1590.4891,-46.7727 1596.968,-44.1222\"/>\n</g>\n<!-- 60 -->\n<g id=\"node31\" class=\"node\">\n<title>60</title>\n<polygon fill=\"#c0c0c0\" stroke=\"#000000\" points=\"1681.5,-36 1627.5,-36 1627.5,0 1681.5,0 1681.5,-36\"/>\n<text text-anchor=\"middle\" x=\"1654.5\" y=\"-14.3\" font-family=\"Helvetica,sans-Serif\" font-size=\"14.00\" fill=\"#000000\">(...)</text>\n</g>\n<!-- 56&#45;&gt;60 -->\n<g id=\"edge30\" class=\"edge\">\n<title>56&#45;&gt;60</title>\n<path fill=\"none\" stroke=\"#000000\" d=\"M1632.4185,-71.9769C1636.0023,-63.2167 1639.8138,-53.8995 1643.2436,-45.5157\"/>\n<polygon fill=\"#000000\" stroke=\"#000000\" points=\"1646.5109,-46.7727 1647.0578,-36.192 1640.032,-44.1222 1646.5109,-46.7727\"/>\n</g>\n</g>\n</svg>\n"
          },
          "metadata": {},
          "execution_count": 59
        }
      ],
      "source": [
        "import graphviz\n",
        "from sklearn.tree import export_graphviz\n",
        "\n",
        "export_graphviz(dt, out_file ='tree.dot', \n",
        "                feature_names = X_log.columns, \n",
        "                impurity = True, \n",
        "                filled = True,\n",
        "                precision = 3,\n",
        "                max_depth = 3)\n",
        "\n",
        "with open('tree.dot') as f:\n",
        "    graph = f.read()\n",
        "graphviz.Source(graph)"
      ]
    },
    {
      "cell_type": "markdown",
      "source": [
        "Decision Tree의 상위 depth에 모두 price가 기준인 것으로 보아,<br>\n",
        "우선 price가 와인의 평점을 예측하는 데 가장 큰 요인인 것을 확인할 수 있었다."
      ],
      "metadata": {
        "id": "_oxlCQXK2ZL0"
      }
    },
    {
      "cell_type": "markdown",
      "source": [
        "## Insights, 모델의 활용"
      ],
      "metadata": {
        "id": "0OlZTOgW2oIW"
      }
    },
    {
      "cell_type": "markdown",
      "source": [
        "와인 제조업자\n",
        "- 각 요소별 가중치를 통해 평점이 높은 와인을 만들기 위한 지역, 포도의 종류, 평가를 받을 테이스터 등을 결정하는 데 활용할 수 있다.\n",
        "- 점수가 낮은 와인에 대해 모델에서 좋은 점수에 영향을 미쳤던 feature들을 통해 문제점을 파악 및 개선할 수 있다.\n",
        "\n",
        "\n",
        "도매상(B2B)\n",
        "- 와인을 매입할 때, 와인에 대한 정보를 바탕으로 가격과 점수를 미리 예측(log Price와 Points가 선형관계를 보이므로)해서 제조업자가 예측된 가격보다 와인을 과대 평가하고 가격을 높게 팔려고 한다면 사지 않고, 제조업자가 예측된 점수보다 와인을 과소평가해서 싸게 팔려고 한다면 다량 매입하는 전략을 사용할 수 있다. (정보 비대칭의 해소)\n",
        "\n",
        "\n",
        "판매 기업(B2C)\n",
        "- Points가 높은 와인이 Price가 낮거나, 에서 Points가 낮은 와인이 Price가 너무 높게 측정되었을 때 가격 정책을 다시 수립하는 데 활용할 수 있다.\n",
        "- 제조한 와인의 promotion에 있어, 높은 점수에 유리한 요소는 강조하고, 불리한 요소는 숨기는 전략을 활용할 수 있다.\n",
        "\n",
        "\n",
        "추가 필요 데이터\n",
        "- Points가 맛, 향, 외관 등 더욱 세분화되어 있다면 와인의 개선을 위해 모델을 활용하는 데 더욱 도움이 될 것 같다.\n",
        "- 와인의 숙성 년도 등 와인의 평점에 영향을 미칠 것으로 보이는 요소들이 추가되면 더욱 좋을 것이다.\n",
        "- 매출 데이터가 있다면 points 및 각종 변수와의 관계 파악을 통해 사업적으로 더욱 유의미한 모델을 만들 수 있을 것이다.\n"
      ],
      "metadata": {
        "id": "41M5XRtv1Bxr"
      }
    },
    {
      "cell_type": "code",
      "source": [],
      "metadata": {
        "id": "g1yy5SP69Gyl"
      },
      "execution_count": null,
      "outputs": []
    }
  ],
  "metadata": {
    "colab": {
      "collapsed_sections": [
        "aVaLH3Igd9-O",
        "69S-cFvnqloc",
        "F1A_We5Gqjhv",
        "tEcbkdvkX5uE",
        "oK9FzwWIvyOy",
        "VczX0b03ZQh5",
        "F6ec1qwcZT6A",
        "ZD2UVDd83W5x",
        "Bgpdgo5LePPn"
      ],
      "provenance": []
    },
    "kernelspec": {
      "display_name": "Python 3 (ipykernel)",
      "language": "python",
      "name": "python3"
    },
    "language_info": {
      "codemirror_mode": {
        "name": "ipython",
        "version": 3
      },
      "file_extension": ".py",
      "mimetype": "text/x-python",
      "name": "python",
      "nbconvert_exporter": "python",
      "pygments_lexer": "ipython3",
      "version": "3.9.7"
    }
  },
  "nbformat": 4,
  "nbformat_minor": 0
}