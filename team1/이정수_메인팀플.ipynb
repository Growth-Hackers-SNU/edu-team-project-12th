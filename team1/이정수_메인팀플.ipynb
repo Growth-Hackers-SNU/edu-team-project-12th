{
 "cells": [
  {
   "cell_type": "code",
   "execution_count": 1,
   "id": "b75c25ee",
   "metadata": {},
   "outputs": [],
   "source": [
    "import numpy as np\n",
    "import pandas as pd\n",
    "import matplotlib.pyplot as plt \n",
    "import seaborn as sns \n",
    "import sys\n",
    "\n",
    "# 경고창이 뜨지 않도록 해주는 코드\n",
    "import warnings\n",
    "warnings.filterwarnings('ignore')\n",
    "\n",
    "# notebook을 실행한 브라우저에서 바로 그림을 볼 수 있게 해주는 것\n",
    "%matplotlib inline "
   ]
  },
  {
   "cell_type": "code",
   "execution_count": 2,
   "id": "07c50b67",
   "metadata": {},
   "outputs": [],
   "source": [
    "import platform                \n",
    "\n",
    "from matplotlib import font_manager, rc\n",
    "plt.rcParams['axes.unicode_minus']= False\n",
    "    \n",
    "if platform.system() == 'Windows': # 윈도우 사용자의 경우에\n",
    "    path = 'c:/Windows/Fonts/malgun.ttf'\n",
    "    font_name = font_manager.FontProperties(fname=path).get_name()\n",
    "    plt.style.use('seaborn-darkgrid') # https://python-graph-gallery.com/199-matplotlib-style-sheets/\n",
    "    rc('font', family=font_name)"
   ]
  },
  {
   "cell_type": "code",
   "execution_count": 345,
   "id": "5ec2f317",
   "metadata": {},
   "outputs": [],
   "source": [
    "train = pd.read_csv('train.csv')\n",
    "test = pd.read_csv('test.csv')"
   ]
  },
  {
   "cell_type": "code",
   "execution_count": 4,
   "id": "b899ea3a",
   "metadata": {
    "scrolled": true
   },
   "outputs": [
    {
     "data": {
      "text/html": [
       "<div>\n",
       "<style scoped>\n",
       "    .dataframe tbody tr th:only-of-type {\n",
       "        vertical-align: middle;\n",
       "    }\n",
       "\n",
       "    .dataframe tbody tr th {\n",
       "        vertical-align: top;\n",
       "    }\n",
       "\n",
       "    .dataframe thead th {\n",
       "        text-align: right;\n",
       "    }\n",
       "</style>\n",
       "<table border=\"1\" class=\"dataframe\">\n",
       "  <thead>\n",
       "    <tr style=\"text-align: right;\">\n",
       "      <th></th>\n",
       "      <th>country</th>\n",
       "      <th>description</th>\n",
       "      <th>designation</th>\n",
       "      <th>price</th>\n",
       "      <th>province</th>\n",
       "      <th>region_1</th>\n",
       "      <th>region_2</th>\n",
       "      <th>taster_name</th>\n",
       "      <th>taster_twitter_handle</th>\n",
       "      <th>title</th>\n",
       "      <th>variety</th>\n",
       "      <th>winery</th>\n",
       "      <th>points</th>\n",
       "    </tr>\n",
       "  </thead>\n",
       "  <tbody>\n",
       "    <tr>\n",
       "      <th>0</th>\n",
       "      <td>Australia</td>\n",
       "      <td>Possibly a little sweet, this is a soft, easyg...</td>\n",
       "      <td>NaN</td>\n",
       "      <td>5.0</td>\n",
       "      <td>Australia Other</td>\n",
       "      <td>South Eastern Australia</td>\n",
       "      <td>NaN</td>\n",
       "      <td>Joe Czerwinski</td>\n",
       "      <td>@JoeCz</td>\n",
       "      <td>Banrock Station 2006 Chardonnay (South Eastern...</td>\n",
       "      <td>Chardonnay</td>\n",
       "      <td>Banrock Station</td>\n",
       "      <td>83</td>\n",
       "    </tr>\n",
       "    <tr>\n",
       "      <th>1</th>\n",
       "      <td>France</td>\n",
       "      <td>A soft, almost off dry wine that is full in th...</td>\n",
       "      <td>Réserve</td>\n",
       "      <td>12.0</td>\n",
       "      <td>Rhône Valley</td>\n",
       "      <td>Côtes du Rhône</td>\n",
       "      <td>NaN</td>\n",
       "      <td>Roger Voss</td>\n",
       "      <td>@vossroger</td>\n",
       "      <td>Cellier des Dauphins 2015 Réserve Rosé (Côtes ...</td>\n",
       "      <td>Rosé</td>\n",
       "      <td>Cellier des Dauphins</td>\n",
       "      <td>85</td>\n",
       "    </tr>\n",
       "    <tr>\n",
       "      <th>2</th>\n",
       "      <td>Spain</td>\n",
       "      <td>Generic white-fruit aromas of peach and apple ...</td>\n",
       "      <td>Estate Grown &amp; Bottled</td>\n",
       "      <td>9.0</td>\n",
       "      <td>Northern Spain</td>\n",
       "      <td>Rueda</td>\n",
       "      <td>NaN</td>\n",
       "      <td>Michael Schachner</td>\n",
       "      <td>@wineschach</td>\n",
       "      <td>Esperanza 2013 Estate Grown &amp; Bottled Verdejo-...</td>\n",
       "      <td>Verdejo-Viura</td>\n",
       "      <td>Esperanza</td>\n",
       "      <td>86</td>\n",
       "    </tr>\n",
       "    <tr>\n",
       "      <th>3</th>\n",
       "      <td>US</td>\n",
       "      <td>This is the winery's best Nebula in years. Whi...</td>\n",
       "      <td>Nebula</td>\n",
       "      <td>29.0</td>\n",
       "      <td>California</td>\n",
       "      <td>Paso Robles</td>\n",
       "      <td>Central Coast</td>\n",
       "      <td>NaN</td>\n",
       "      <td>NaN</td>\n",
       "      <td>Midnight 2010 Nebula Cabernet Sauvignon (Paso ...</td>\n",
       "      <td>Cabernet Sauvignon</td>\n",
       "      <td>Midnight</td>\n",
       "      <td>87</td>\n",
       "    </tr>\n",
       "    <tr>\n",
       "      <th>4</th>\n",
       "      <td>US</td>\n",
       "      <td>This is a very rich Pinot whose primary virtue...</td>\n",
       "      <td>Wiley Vineyard</td>\n",
       "      <td>40.0</td>\n",
       "      <td>California</td>\n",
       "      <td>Anderson Valley</td>\n",
       "      <td>NaN</td>\n",
       "      <td>NaN</td>\n",
       "      <td>NaN</td>\n",
       "      <td>Harrington 2006 Wiley Vineyard Pinot Noir (And...</td>\n",
       "      <td>Pinot Noir</td>\n",
       "      <td>Harrington</td>\n",
       "      <td>88</td>\n",
       "    </tr>\n",
       "  </tbody>\n",
       "</table>\n",
       "</div>"
      ],
      "text/plain": [
       "     country                                        description  \\\n",
       "0  Australia  Possibly a little sweet, this is a soft, easyg...   \n",
       "1     France  A soft, almost off dry wine that is full in th...   \n",
       "2      Spain  Generic white-fruit aromas of peach and apple ...   \n",
       "3         US  This is the winery's best Nebula in years. Whi...   \n",
       "4         US  This is a very rich Pinot whose primary virtue...   \n",
       "\n",
       "              designation  price         province                 region_1  \\\n",
       "0                     NaN    5.0  Australia Other  South Eastern Australia   \n",
       "1                 Réserve   12.0     Rhône Valley           Côtes du Rhône   \n",
       "2  Estate Grown & Bottled    9.0   Northern Spain                    Rueda   \n",
       "3                  Nebula   29.0       California              Paso Robles   \n",
       "4          Wiley Vineyard   40.0       California          Anderson Valley   \n",
       "\n",
       "        region_2        taster_name taster_twitter_handle  \\\n",
       "0            NaN     Joe Czerwinski                @JoeCz   \n",
       "1            NaN         Roger Voss            @vossroger   \n",
       "2            NaN  Michael Schachner           @wineschach   \n",
       "3  Central Coast                NaN                   NaN   \n",
       "4            NaN                NaN                   NaN   \n",
       "\n",
       "                                               title             variety  \\\n",
       "0  Banrock Station 2006 Chardonnay (South Eastern...          Chardonnay   \n",
       "1  Cellier des Dauphins 2015 Réserve Rosé (Côtes ...                Rosé   \n",
       "2  Esperanza 2013 Estate Grown & Bottled Verdejo-...       Verdejo-Viura   \n",
       "3  Midnight 2010 Nebula Cabernet Sauvignon (Paso ...  Cabernet Sauvignon   \n",
       "4  Harrington 2006 Wiley Vineyard Pinot Noir (And...          Pinot Noir   \n",
       "\n",
       "                 winery  points  \n",
       "0       Banrock Station      83  \n",
       "1  Cellier des Dauphins      85  \n",
       "2             Esperanza      86  \n",
       "3              Midnight      87  \n",
       "4            Harrington      88  "
      ]
     },
     "execution_count": 4,
     "metadata": {},
     "output_type": "execute_result"
    }
   ],
   "source": [
    "train.head()"
   ]
  },
  {
   "cell_type": "code",
   "execution_count": 6,
   "id": "bb073d27",
   "metadata": {},
   "outputs": [
    {
     "data": {
      "text/plain": [
       "(103976, 13)"
      ]
     },
     "execution_count": 6,
     "metadata": {},
     "output_type": "execute_result"
    }
   ],
   "source": [
    "train.shape"
   ]
  },
  {
   "cell_type": "code",
   "execution_count": 7,
   "id": "ba2c70cb",
   "metadata": {
    "scrolled": false
   },
   "outputs": [
    {
     "data": {
      "text/plain": [
       "country                     51\n",
       "description                  0\n",
       "designation              30009\n",
       "price                     7195\n",
       "province                    51\n",
       "region_1                 17022\n",
       "region_2                 63568\n",
       "taster_name              20971\n",
       "taster_twitter_handle    24982\n",
       "title                        0\n",
       "variety                      1\n",
       "winery                       0\n",
       "points                       0\n",
       "dtype: int64"
      ]
     },
     "execution_count": 7,
     "metadata": {},
     "output_type": "execute_result"
    }
   ],
   "source": [
    "train.isnull().sum()"
   ]
  },
  {
   "cell_type": "code",
   "execution_count": 11,
   "id": "9f276c51",
   "metadata": {},
   "outputs": [
    {
     "name": "stdout",
     "output_type": "stream",
     "text": [
      "<class 'pandas.core.frame.DataFrame'>\n",
      "RangeIndex: 103976 entries, 0 to 103975\n",
      "Data columns (total 13 columns):\n",
      " #   Column                 Non-Null Count   Dtype  \n",
      "---  ------                 --------------   -----  \n",
      " 0   country                103925 non-null  object \n",
      " 1   description            103976 non-null  object \n",
      " 2   designation            73967 non-null   object \n",
      " 3   price                  96781 non-null   float64\n",
      " 4   province               103925 non-null  object \n",
      " 5   region_1               86954 non-null   object \n",
      " 6   region_2               40408 non-null   object \n",
      " 7   taster_name            83005 non-null   object \n",
      " 8   taster_twitter_handle  78994 non-null   object \n",
      " 9   title                  103976 non-null  object \n",
      " 10  variety                103975 non-null  object \n",
      " 11  winery                 103976 non-null  object \n",
      " 12  points                 103976 non-null  int64  \n",
      "dtypes: float64(1), int64(1), object(11)\n",
      "memory usage: 10.3+ MB\n"
     ]
    }
   ],
   "source": [
    "train.info()"
   ]
  },
  {
   "cell_type": "markdown",
   "id": "70863e33",
   "metadata": {},
   "source": [
    "+ designation: 포도밭 정보, 없다는 것 자체가 정보일 수 있음 -> Unknown으로\n",
    "+ price -> 뭔가로 채우긴 해야할 듯\n",
    "+ country 없는건 그냥 제거\n",
    "+ region, taster는 잘 모르겠다.. 아주 중요할 것 같긴 한데\n",
    "\n",
    "+ title에서는 빈티지를 뽑을 수 있다 (년도)\n",
    "+ variety 하나는 버리자"
   ]
  },
  {
   "cell_type": "code",
   "execution_count": 22,
   "id": "69953500",
   "metadata": {},
   "outputs": [],
   "source": [
    "train['designation'] = train['designation'].fillna('unknown') "
   ]
  },
  {
   "cell_type": "code",
   "execution_count": 26,
   "id": "799fa5f6",
   "metadata": {},
   "outputs": [],
   "source": [
    "df = train.dropna(subset='country')"
   ]
  },
  {
   "cell_type": "code",
   "execution_count": 27,
   "id": "9cc7362a",
   "metadata": {},
   "outputs": [],
   "source": [
    "df = df.dropna(subset='variety')"
   ]
  },
  {
   "cell_type": "code",
   "execution_count": 29,
   "id": "c7c83f98",
   "metadata": {},
   "outputs": [],
   "source": [
    "del df['region_2']"
   ]
  },
  {
   "cell_type": "markdown",
   "id": "f61547e5",
   "metadata": {},
   "source": [
    "# 1. EDA"
   ]
  },
  {
   "cell_type": "markdown",
   "id": "d9f7a073",
   "metadata": {},
   "source": [
    "1. 지역(country -> province, region   //  designation) : 범주형, 지도\n",
    "2. 설명(description) : str, 특정 단어 포함 여부 등으로 활용\n",
    "3. 평가자(taster_name, taster_twitter_handle) : 범주형\n",
    "4. 이름 (title): 범주형  ->  생산년도: 연속형\n",
    "5. 품종, 와이너리 (variety, winery) : 범주형\n",
    "\n",
    "\n",
    "\n",
    "6. 가격 (price) : 연속형\n"
   ]
  },
  {
   "cell_type": "markdown",
   "id": "defeb26e",
   "metadata": {},
   "source": [
    "### a. 지역"
   ]
  },
  {
   "cell_type": "code",
   "execution_count": 188,
   "id": "a2f072d3",
   "metadata": {},
   "outputs": [],
   "source": [
    "province_count = train['province'].value_counts() > 10"
   ]
  },
  {
   "cell_type": "code",
   "execution_count": 201,
   "id": "5d7b33e6",
   "metadata": {},
   "outputs": [
    {
     "data": {
      "text/plain": [
       "province\n",
       "Colares              262.500000\n",
       "Vânju Mare           166.000000\n",
       "Switzerland          160.000000\n",
       "Madeira               97.125000\n",
       "Moscatel do Douro     94.750000\n",
       "                        ...    \n",
       "Viile Timis            8.000000\n",
       "Table wine             8.000000\n",
       "Tarnave                8.000000\n",
       "Viile Timisului        7.611111\n",
       "Egypt                       NaN\n",
       "Name: price, Length: 407, dtype: float64"
      ]
     },
     "execution_count": 201,
     "metadata": {},
     "output_type": "execute_result"
    }
   ],
   "source": [
    "morethan10 = province_count.index\n",
    "df_10 = train[train['province'].isin(morethan10)]\n",
    "df_10['price'].groupby(df_10['province']).mean().sort_values(ascending=False)\n"
   ]
  },
  {
   "cell_type": "code",
   "execution_count": 177,
   "id": "0d6c3bfd",
   "metadata": {},
   "outputs": [
    {
     "data": {
      "image/png": "[encoded data removed]",
      "text/plain": [
       "<Figure size 720x360 with 1 Axes>"
      ]
     },
     "metadata": {},
     "output_type": "display_data"
    }
   ],
   "source": [
    "top_list = train['province'].value_counts().nlargest(20).index\n",
    "df_top = train[train['province'].isin(top_list)]\n",
    "\n",
    "plt.figure(figsize=(10,5))\n",
    "box = sns.boxplot(y='province', x='points', data=df_top)\n",
    "box.set_xlabel(\"점수\")\n",
    "box.set_ylabel(\"나라\")\n",
    "plt.show()"
   ]
  },
  {
   "cell_type": "markdown",
   "id": "3e05d46d",
   "metadata": {},
   "source": [
    "### b. 설명 (키워드 중심. 길이 중심. 감성분석 시간 나면 해보기)"
   ]
  },
  {
   "cell_type": "markdown",
   "id": "fa82d3b1",
   "metadata": {},
   "source": [
    "### c. 평가자  (전처리 더 필요)"
   ]
  },
  {
   "cell_type": "markdown",
   "id": "e14cd561",
   "metadata": {},
   "source": [
    "### d. 이름 (생산년도)"
   ]
  },
  {
   "cell_type": "code",
   "execution_count": 349,
   "id": "3d363f09",
   "metadata": {
    "scrolled": true
   },
   "outputs": [
    {
     "data": {
      "text/html": [
       "<div>\n",
       "<style scoped>\n",
       "    .dataframe tbody tr th:only-of-type {\n",
       "        vertical-align: middle;\n",
       "    }\n",
       "\n",
       "    .dataframe tbody tr th {\n",
       "        vertical-align: top;\n",
       "    }\n",
       "\n",
       "    .dataframe thead th {\n",
       "        text-align: right;\n",
       "    }\n",
       "</style>\n",
       "<table border=\"1\" class=\"dataframe\">\n",
       "  <thead>\n",
       "    <tr style=\"text-align: right;\">\n",
       "      <th></th>\n",
       "      <th>country</th>\n",
       "      <th>description</th>\n",
       "      <th>designation</th>\n",
       "      <th>price</th>\n",
       "      <th>province</th>\n",
       "      <th>region_1</th>\n",
       "      <th>taster_name</th>\n",
       "      <th>taster_twitter_handle</th>\n",
       "      <th>title</th>\n",
       "      <th>variety</th>\n",
       "      <th>winery</th>\n",
       "      <th>points</th>\n",
       "      <th>year</th>\n",
       "    </tr>\n",
       "  </thead>\n",
       "  <tbody>\n",
       "    <tr>\n",
       "      <th>0</th>\n",
       "      <td>Australia</td>\n",
       "      <td>Possibly a little sweet, this is a soft, easyg...</td>\n",
       "      <td>unknown</td>\n",
       "      <td>5.0</td>\n",
       "      <td>Australia Other</td>\n",
       "      <td>South Eastern Australia</td>\n",
       "      <td>Joe Czerwinski</td>\n",
       "      <td>@JoeCz</td>\n",
       "      <td>Banrock Station 2006 Chardonnay (South Eastern...</td>\n",
       "      <td>Chardonnay</td>\n",
       "      <td>Banrock Station</td>\n",
       "      <td>83</td>\n",
       "      <td>2006</td>\n",
       "    </tr>\n",
       "    <tr>\n",
       "      <th>1</th>\n",
       "      <td>France</td>\n",
       "      <td>A soft, almost off dry wine that is full in th...</td>\n",
       "      <td>Réserve</td>\n",
       "      <td>12.0</td>\n",
       "      <td>Rhône Valley</td>\n",
       "      <td>Côtes du Rhône</td>\n",
       "      <td>Roger Voss</td>\n",
       "      <td>@vossroger</td>\n",
       "      <td>Cellier des Dauphins 2015 Réserve Rosé (Côtes ...</td>\n",
       "      <td>Rosé</td>\n",
       "      <td>Cellier des Dauphins</td>\n",
       "      <td>85</td>\n",
       "      <td>2015</td>\n",
       "    </tr>\n",
       "    <tr>\n",
       "      <th>2</th>\n",
       "      <td>Spain</td>\n",
       "      <td>Generic white-fruit aromas of peach and apple ...</td>\n",
       "      <td>Estate Grown &amp; Bottled</td>\n",
       "      <td>9.0</td>\n",
       "      <td>Northern Spain</td>\n",
       "      <td>Rueda</td>\n",
       "      <td>Michael Schachner</td>\n",
       "      <td>@wineschach</td>\n",
       "      <td>Esperanza 2013 Estate Grown &amp; Bottled Verdejo-...</td>\n",
       "      <td>Verdejo-Viura</td>\n",
       "      <td>Esperanza</td>\n",
       "      <td>86</td>\n",
       "      <td>2013</td>\n",
       "    </tr>\n",
       "    <tr>\n",
       "      <th>3</th>\n",
       "      <td>US</td>\n",
       "      <td>This is the winery's best Nebula in years. Whi...</td>\n",
       "      <td>Nebula</td>\n",
       "      <td>29.0</td>\n",
       "      <td>California</td>\n",
       "      <td>Paso Robles</td>\n",
       "      <td>NaN</td>\n",
       "      <td>NaN</td>\n",
       "      <td>Midnight 2010 Nebula Cabernet Sauvignon (Paso ...</td>\n",
       "      <td>Cabernet Sauvignon</td>\n",
       "      <td>Midnight</td>\n",
       "      <td>87</td>\n",
       "      <td>2010</td>\n",
       "    </tr>\n",
       "    <tr>\n",
       "      <th>4</th>\n",
       "      <td>US</td>\n",
       "      <td>This is a very rich Pinot whose primary virtue...</td>\n",
       "      <td>Wiley Vineyard</td>\n",
       "      <td>40.0</td>\n",
       "      <td>California</td>\n",
       "      <td>Anderson Valley</td>\n",
       "      <td>NaN</td>\n",
       "      <td>NaN</td>\n",
       "      <td>Harrington 2006 Wiley Vineyard Pinot Noir (And...</td>\n",
       "      <td>Pinot Noir</td>\n",
       "      <td>Harrington</td>\n",
       "      <td>88</td>\n",
       "      <td>2006</td>\n",
       "    </tr>\n",
       "    <tr>\n",
       "      <th>...</th>\n",
       "      <td>...</td>\n",
       "      <td>...</td>\n",
       "      <td>...</td>\n",
       "      <td>...</td>\n",
       "      <td>...</td>\n",
       "      <td>...</td>\n",
       "      <td>...</td>\n",
       "      <td>...</td>\n",
       "      <td>...</td>\n",
       "      <td>...</td>\n",
       "      <td>...</td>\n",
       "      <td>...</td>\n",
       "      <td>...</td>\n",
       "    </tr>\n",
       "    <tr>\n",
       "      <th>103971</th>\n",
       "      <td>New Zealand</td>\n",
       "      <td>This is a fresh, fruit-driven rendering of Pin...</td>\n",
       "      <td>Fox By John Belsham</td>\n",
       "      <td>24.0</td>\n",
       "      <td>Marlborough</td>\n",
       "      <td>NaN</td>\n",
       "      <td>Joe Czerwinski</td>\n",
       "      <td>@JoeCz</td>\n",
       "      <td>Foxes Island 2014 Fox By John Belsham Pinot No...</td>\n",
       "      <td>Pinot Noir</td>\n",
       "      <td>Foxes Island</td>\n",
       "      <td>88</td>\n",
       "      <td>2014</td>\n",
       "    </tr>\n",
       "    <tr>\n",
       "      <th>103972</th>\n",
       "      <td>US</td>\n",
       "      <td>A touch of oak adds a sweet, smoky creaminess ...</td>\n",
       "      <td>Charlotte's Home Estate</td>\n",
       "      <td>17.0</td>\n",
       "      <td>California</td>\n",
       "      <td>Northern Sonoma</td>\n",
       "      <td>NaN</td>\n",
       "      <td>NaN</td>\n",
       "      <td>Rodney Strong 2012 Charlotte's Home Estate Sau...</td>\n",
       "      <td>Sauvignon Blanc</td>\n",
       "      <td>Rodney Strong</td>\n",
       "      <td>87</td>\n",
       "      <td>2012</td>\n",
       "    </tr>\n",
       "    <tr>\n",
       "      <th>103973</th>\n",
       "      <td>US</td>\n",
       "      <td>This is Bacchus vineyard fruit, as per normal ...</td>\n",
       "      <td>unknown</td>\n",
       "      <td>11.0</td>\n",
       "      <td>Washington</td>\n",
       "      <td>Columbia Valley (WA)</td>\n",
       "      <td>Paul Gregutt</td>\n",
       "      <td>@paulgwine</td>\n",
       "      <td>Arbor Crest 2006 Sauvignon Blanc (Columbia Val...</td>\n",
       "      <td>Sauvignon Blanc</td>\n",
       "      <td>Arbor Crest</td>\n",
       "      <td>88</td>\n",
       "      <td>2006</td>\n",
       "    </tr>\n",
       "    <tr>\n",
       "      <th>103974</th>\n",
       "      <td>Italy</td>\n",
       "      <td>This blend of Merlot, Cabernet Sauvignon and P...</td>\n",
       "      <td>Bulizio</td>\n",
       "      <td>36.0</td>\n",
       "      <td>Tuscany</td>\n",
       "      <td>Toscana</td>\n",
       "      <td>Kerin O’Keefe</td>\n",
       "      <td>@kerinokeefe</td>\n",
       "      <td>Le Palaie 2009 Bulizio Red (Toscana)</td>\n",
       "      <td>Red Blend</td>\n",
       "      <td>Le Palaie</td>\n",
       "      <td>85</td>\n",
       "      <td>2009</td>\n",
       "    </tr>\n",
       "    <tr>\n",
       "      <th>103975</th>\n",
       "      <td>France</td>\n",
       "      <td>A dirty nose spoils this otherwise attractive,...</td>\n",
       "      <td>unknown</td>\n",
       "      <td>21.0</td>\n",
       "      <td>Burgundy</td>\n",
       "      <td>Chablis</td>\n",
       "      <td>Roger Voss</td>\n",
       "      <td>@vossroger</td>\n",
       "      <td>Domaine L. Chatelain 2011  Chablis</td>\n",
       "      <td>Chardonnay</td>\n",
       "      <td>Domaine L. Chatelain</td>\n",
       "      <td>83</td>\n",
       "      <td>2011</td>\n",
       "    </tr>\n",
       "  </tbody>\n",
       "</table>\n",
       "<p>103924 rows × 13 columns</p>\n",
       "</div>"
      ],
      "text/plain": [
       "            country                                        description  \\\n",
       "0         Australia  Possibly a little sweet, this is a soft, easyg...   \n",
       "1            France  A soft, almost off dry wine that is full in th...   \n",
       "2             Spain  Generic white-fruit aromas of peach and apple ...   \n",
       "3                US  This is the winery's best Nebula in years. Whi...   \n",
       "4                US  This is a very rich Pinot whose primary virtue...   \n",
       "...             ...                                                ...   \n",
       "103971  New Zealand  This is a fresh, fruit-driven rendering of Pin...   \n",
       "103972           US  A touch of oak adds a sweet, smoky creaminess ...   \n",
       "103973           US  This is Bacchus vineyard fruit, as per normal ...   \n",
       "103974        Italy  This blend of Merlot, Cabernet Sauvignon and P...   \n",
       "103975       France  A dirty nose spoils this otherwise attractive,...   \n",
       "\n",
       "                    designation  price         province  \\\n",
       "0                       unknown    5.0  Australia Other   \n",
       "1                       Réserve   12.0     Rhône Valley   \n",
       "2        Estate Grown & Bottled    9.0   Northern Spain   \n",
       "3                        Nebula   29.0       California   \n",
       "4                Wiley Vineyard   40.0       California   \n",
       "...                         ...    ...              ...   \n",
       "103971      Fox By John Belsham   24.0      Marlborough   \n",
       "103972  Charlotte's Home Estate   17.0       California   \n",
       "103973                  unknown   11.0       Washington   \n",
       "103974                  Bulizio   36.0          Tuscany   \n",
       "103975                  unknown   21.0         Burgundy   \n",
       "\n",
       "                       region_1        taster_name taster_twitter_handle  \\\n",
       "0       South Eastern Australia     Joe Czerwinski                @JoeCz   \n",
       "1                Côtes du Rhône         Roger Voss            @vossroger   \n",
       "2                         Rueda  Michael Schachner           @wineschach   \n",
       "3                   Paso Robles                NaN                   NaN   \n",
       "4               Anderson Valley                NaN                   NaN   \n",
       "...                         ...                ...                   ...   \n",
       "103971                      NaN     Joe Czerwinski                @JoeCz   \n",
       "103972          Northern Sonoma                NaN                   NaN   \n",
       "103973     Columbia Valley (WA)       Paul Gregutt           @paulgwine    \n",
       "103974                  Toscana      Kerin O’Keefe          @kerinokeefe   \n",
       "103975                  Chablis         Roger Voss            @vossroger   \n",
       "\n",
       "                                                    title             variety  \\\n",
       "0       Banrock Station 2006 Chardonnay (South Eastern...          Chardonnay   \n",
       "1       Cellier des Dauphins 2015 Réserve Rosé (Côtes ...                Rosé   \n",
       "2       Esperanza 2013 Estate Grown & Bottled Verdejo-...       Verdejo-Viura   \n",
       "3       Midnight 2010 Nebula Cabernet Sauvignon (Paso ...  Cabernet Sauvignon   \n",
       "4       Harrington 2006 Wiley Vineyard Pinot Noir (And...          Pinot Noir   \n",
       "...                                                   ...                 ...   \n",
       "103971  Foxes Island 2014 Fox By John Belsham Pinot No...          Pinot Noir   \n",
       "103972  Rodney Strong 2012 Charlotte's Home Estate Sau...     Sauvignon Blanc   \n",
       "103973  Arbor Crest 2006 Sauvignon Blanc (Columbia Val...     Sauvignon Blanc   \n",
       "103974               Le Palaie 2009 Bulizio Red (Toscana)           Red Blend   \n",
       "103975                 Domaine L. Chatelain 2011  Chablis          Chardonnay   \n",
       "\n",
       "                      winery  points  year  \n",
       "0            Banrock Station      83  2006  \n",
       "1       Cellier des Dauphins      85  2015  \n",
       "2                  Esperanza      86  2013  \n",
       "3                   Midnight      87  2010  \n",
       "4                 Harrington      88  2006  \n",
       "...                      ...     ...   ...  \n",
       "103971          Foxes Island      88  2014  \n",
       "103972         Rodney Strong      87  2012  \n",
       "103973           Arbor Crest      88  2006  \n",
       "103974             Le Palaie      85  2009  \n",
       "103975  Domaine L. Chatelain      83  2011  \n",
       "\n",
       "[103924 rows x 13 columns]"
      ]
     },
     "execution_count": 349,
     "metadata": {},
     "output_type": "execute_result"
    }
   ],
   "source": [
    "df"
   ]
  },
  {
   "cell_type": "code",
   "execution_count": 361,
   "id": "b43cc22a",
   "metadata": {},
   "outputs": [],
   "source": [
    "import re #숫자만 추출\n",
    "\n",
    "def year(row):\n",
    "    numbers = re.findall(\"\\d+\", row['title'])\n",
    "    a = '0'\n",
    "    \n",
    "    if len(numbers) >= 1:\n",
    "        switch = 1\n",
    "        for num in numbers:\n",
    "            if (len(num) == 4) and (num not in row['designation']) and (num not in row['winery']):\n",
    "                a = int(num)\n",
    "                switch = 0\n",
    "                \n",
    "    elif len(numbers) == 0:\n",
    "        a = '0'\n",
    "    else:\n",
    "        a = 'error'\n",
    "    return a"
   ]
  },
  {
   "cell_type": "code",
   "execution_count": 362,
   "id": "99e6b177",
   "metadata": {},
   "outputs": [],
   "source": [
    "train['designation'] = train['designation'].fillna('unknown') "
   ]
  },
  {
   "cell_type": "code",
   "execution_count": 363,
   "id": "e76eaf07",
   "metadata": {
    "scrolled": true
   },
   "outputs": [],
   "source": [
    "train['year'] = train.apply(year, axis=1)"
   ]
  },
  {
   "cell_type": "code",
   "execution_count": 352,
   "id": "d9502fe9",
   "metadata": {
    "scrolled": true
   },
   "outputs": [
    {
     "data": {
      "text/plain": [
       "(3701, 14)"
      ]
     },
     "execution_count": 352,
     "metadata": {},
     "output_type": "execute_result"
    }
   ],
   "source": [
    "train[train['year']=='none'].shape"
   ]
  },
  {
   "cell_type": "code",
   "execution_count": 364,
   "id": "a545c64a",
   "metadata": {},
   "outputs": [],
   "source": [
    "df_elim = df[df['year']!='none']"
   ]
  },
  {
   "cell_type": "markdown",
   "id": "659c09bf",
   "metadata": {},
   "source": [
    "103000 개 중 3000개 빼고 생산년도가 할당됨"
   ]
  },
  {
   "cell_type": "code",
   "execution_count": 338,
   "id": "16b12df8",
   "metadata": {},
   "outputs": [],
   "source": [
    "df_elim = df_elim[(df_elim['year'] > 1997) & (df_elim['year'] < 2016)]"
   ]
  },
  {
   "cell_type": "code",
   "execution_count": 306,
   "id": "eb10a01c",
   "metadata": {},
   "outputs": [
    {
     "data": {
      "text/plain": [
       "253"
      ]
     },
     "execution_count": 306,
     "metadata": {},
     "output_type": "execute_result"
    }
   ],
   "source": [
    "len(df_elim[(df_elim['year'] == 1997)])"
   ]
  },
  {
   "cell_type": "code",
   "execution_count": 339,
   "id": "a9af6329",
   "metadata": {},
   "outputs": [],
   "source": [
    "df_elim = df_elim.astype({'year': 'int'})"
   ]
  },
  {
   "cell_type": "code",
   "execution_count": 340,
   "id": "8859772a",
   "metadata": {
    "scrolled": true
   },
   "outputs": [
    {
     "data": {
      "image/png": "[encoded data removed]",
      "text/plain": [
       "<Figure size 720x360 with 1 Axes>"
      ]
     },
     "metadata": {},
     "output_type": "display_data"
    }
   ],
   "source": [
    "plt.figure(figsize=(10,5)) # 그래프가 나타날 창 크기 설정 (가로, 세로)\n",
    "plt.scatter(data=df_elim, x='year', y='points', alpha=0.01) # 산점도\n",
    "plt.xlabel('score') # x축 제목\n",
    "plt.ylabel('vintage') # y축 제목\n",
    "plt.show()"
   ]
  },
  {
   "cell_type": "code",
   "execution_count": 341,
   "id": "73165e30",
   "metadata": {
    "scrolled": false
   },
   "outputs": [
    {
     "data": {
      "image/png": "[encoded data removed]",
      "text/plain": [
       "<Figure size 720x360 with 1 Axes>"
      ]
     },
     "metadata": {},
     "output_type": "display_data"
    }
   ],
   "source": [
    "plt.figure(figsize=(10,5))\n",
    "plt.plot(df_elim.groupby(['year']).points.mean(), marker='o', c='r') # marker: 마커의 모양, c = 라인 색상\n",
    "plt.xlabel('생산년도')\n",
    "plt.ylabel('평균 점수')\n",
    "plt.show()"
   ]
  },
  {
   "cell_type": "markdown",
   "id": "75846586",
   "metadata": {},
   "source": [
    "떨어지는 느낌이긴 한데.. "
   ]
  },
  {
   "cell_type": "code",
   "execution_count": 342,
   "id": "a759ea8b",
   "metadata": {
    "scrolled": false
   },
   "outputs": [
    {
     "data": {
      "text/html": [
       "<div>\n",
       "<style scoped>\n",
       "    .dataframe tbody tr th:only-of-type {\n",
       "        vertical-align: middle;\n",
       "    }\n",
       "\n",
       "    .dataframe tbody tr th {\n",
       "        vertical-align: top;\n",
       "    }\n",
       "\n",
       "    .dataframe thead th {\n",
       "        text-align: right;\n",
       "    }\n",
       "</style>\n",
       "<table border=\"1\" class=\"dataframe\">\n",
       "  <thead>\n",
       "    <tr style=\"text-align: right;\">\n",
       "      <th></th>\n",
       "      <th>year</th>\n",
       "      <th>points</th>\n",
       "      <th>price</th>\n",
       "    </tr>\n",
       "  </thead>\n",
       "  <tbody>\n",
       "    <tr>\n",
       "      <th>year</th>\n",
       "      <td>1.000000</td>\n",
       "      <td>0.081832</td>\n",
       "      <td>-0.052452</td>\n",
       "    </tr>\n",
       "    <tr>\n",
       "      <th>points</th>\n",
       "      <td>0.081832</td>\n",
       "      <td>1.000000</td>\n",
       "      <td>0.406127</td>\n",
       "    </tr>\n",
       "    <tr>\n",
       "      <th>price</th>\n",
       "      <td>-0.052452</td>\n",
       "      <td>0.406127</td>\n",
       "      <td>1.000000</td>\n",
       "    </tr>\n",
       "  </tbody>\n",
       "</table>\n",
       "</div>"
      ],
      "text/plain": [
       "            year    points     price\n",
       "year    1.000000  0.081832 -0.052452\n",
       "points  0.081832  1.000000  0.406127\n",
       "price  -0.052452  0.406127  1.000000"
      ]
     },
     "execution_count": 342,
     "metadata": {},
     "output_type": "execute_result"
    }
   ],
   "source": [
    "pearson_corr = df_elim[['year','points','price']].corr(method='pearson')\n",
    "pearson_corr"
   ]
  },
  {
   "cell_type": "code",
   "execution_count": 313,
   "id": "19c4882d",
   "metadata": {
    "scrolled": false
   },
   "outputs": [
    {
     "data": {
      "text/html": [
       "<div>\n",
       "<style scoped>\n",
       "    .dataframe tbody tr th:only-of-type {\n",
       "        vertical-align: middle;\n",
       "    }\n",
       "\n",
       "    .dataframe tbody tr th {\n",
       "        vertical-align: top;\n",
       "    }\n",
       "\n",
       "    .dataframe thead th {\n",
       "        text-align: right;\n",
       "    }\n",
       "</style>\n",
       "<table border=\"1\" class=\"dataframe\">\n",
       "  <thead>\n",
       "    <tr style=\"text-align: right;\">\n",
       "      <th></th>\n",
       "      <th>country</th>\n",
       "      <th>description</th>\n",
       "      <th>designation</th>\n",
       "      <th>price</th>\n",
       "      <th>province</th>\n",
       "      <th>region_1</th>\n",
       "      <th>taster_name</th>\n",
       "      <th>taster_twitter_handle</th>\n",
       "      <th>title</th>\n",
       "      <th>variety</th>\n",
       "      <th>winery</th>\n",
       "      <th>points</th>\n",
       "      <th>year</th>\n",
       "    </tr>\n",
       "  </thead>\n",
       "  <tbody>\n",
       "  </tbody>\n",
       "</table>\n",
       "</div>"
      ],
      "text/plain": [
       "Empty DataFrame\n",
       "Columns: [country, description, designation, price, province, region_1, taster_name, taster_twitter_handle, title, variety, winery, points, year]\n",
       "Index: []"
      ]
     },
     "execution_count": 313,
     "metadata": {},
     "output_type": "execute_result"
    }
   ],
   "source": [
    "df_elim[(df_elim['year'] < 1990)]"
   ]
  },
  {
   "cell_type": "code",
   "execution_count": 343,
   "id": "e786938c",
   "metadata": {
    "scrolled": false
   },
   "outputs": [
    {
     "data": {
      "image/png": "[encoded data removed]",
      "text/plain": [
       "<Figure size 720x360 with 1 Axes>"
      ]
     },
     "metadata": {},
     "output_type": "display_data"
    }
   ],
   "source": [
    "plt.figure(figsize=(10,5))\n",
    "plt.plot(df_elim.groupby(['year']).points.count(), marker='o', c='r') # marker: 마커의 모양, c = 라인 색상\n",
    "plt.xlabel('생산년도')\n",
    "plt.ylabel('평균 점수')\n",
    "plt.show()"
   ]
  },
  {
   "cell_type": "code",
   "execution_count": 334,
   "id": "ad012cd8",
   "metadata": {
    "scrolled": false
   },
   "outputs": [
    {
     "data": {
      "image/png": "[encoded data removed]",
      "text/plain": [
       "<Figure size 720x360 with 1 Axes>"
      ]
     },
     "metadata": {},
     "output_type": "display_data"
    }
   ],
   "source": [
    "top_year = df['year'].value_counts().nlargest(20).index\n",
    "df_top_year = df[df['year'].isin(top_year)]\n",
    "\n",
    "plt.figure(figsize=(10,5))\n",
    "box = sns.boxplot(y='year', x='points', data=df_top_year)\n",
    "box.set_xlabel(\"year\")\n",
    "box.set_ylabel(\"점수\")\n",
    "plt.show()"
   ]
  },
  {
   "cell_type": "code",
   "execution_count": 344,
   "id": "560f6385",
   "metadata": {
    "scrolled": false
   },
   "outputs": [
    {
     "data": {
      "image/png": "[encoded data removed]",
      "text/plain": [
       "<Figure size 720x360 with 1 Axes>"
      ]
     },
     "metadata": {},
     "output_type": "display_data"
    }
   ],
   "source": [
    "plt.figure(figsize=(10,5))\n",
    "box = sns.boxplot(y='points', x='year', data=df_elim)\n",
    "box.set_xlabel(\"year\")\n",
    "box.set_ylabel(\"점수\")\n",
    "plt.show()"
   ]
  },
  {
   "cell_type": "code",
   "execution_count": 332,
   "id": "a7bd37cd",
   "metadata": {},
   "outputs": [
    {
     "data": {
      "text/html": [
       "<div>\n",
       "<style scoped>\n",
       "    .dataframe tbody tr th:only-of-type {\n",
       "        vertical-align: middle;\n",
       "    }\n",
       "\n",
       "    .dataframe tbody tr th {\n",
       "        vertical-align: top;\n",
       "    }\n",
       "\n",
       "    .dataframe thead th {\n",
       "        text-align: right;\n",
       "    }\n",
       "</style>\n",
       "<table border=\"1\" class=\"dataframe\">\n",
       "  <thead>\n",
       "    <tr style=\"text-align: right;\">\n",
       "      <th></th>\n",
       "      <th>country</th>\n",
       "      <th>description</th>\n",
       "      <th>designation</th>\n",
       "      <th>price</th>\n",
       "      <th>province</th>\n",
       "      <th>region_1</th>\n",
       "      <th>taster_name</th>\n",
       "      <th>taster_twitter_handle</th>\n",
       "      <th>title</th>\n",
       "      <th>variety</th>\n",
       "      <th>winery</th>\n",
       "      <th>points</th>\n",
       "      <th>year</th>\n",
       "    </tr>\n",
       "  </thead>\n",
       "  <tbody>\n",
       "    <tr>\n",
       "      <th>0</th>\n",
       "      <td>Australia</td>\n",
       "      <td>Possibly a little sweet, this is a soft, easyg...</td>\n",
       "      <td>unknown</td>\n",
       "      <td>5.0</td>\n",
       "      <td>Australia Other</td>\n",
       "      <td>South Eastern Australia</td>\n",
       "      <td>Joe Czerwinski</td>\n",
       "      <td>@JoeCz</td>\n",
       "      <td>Banrock Station 2006 Chardonnay (South Eastern...</td>\n",
       "      <td>Chardonnay</td>\n",
       "      <td>Banrock Station</td>\n",
       "      <td>83</td>\n",
       "      <td>2006</td>\n",
       "    </tr>\n",
       "    <tr>\n",
       "      <th>1</th>\n",
       "      <td>France</td>\n",
       "      <td>A soft, almost off dry wine that is full in th...</td>\n",
       "      <td>Réserve</td>\n",
       "      <td>12.0</td>\n",
       "      <td>Rhône Valley</td>\n",
       "      <td>Côtes du Rhône</td>\n",
       "      <td>Roger Voss</td>\n",
       "      <td>@vossroger</td>\n",
       "      <td>Cellier des Dauphins 2015 Réserve Rosé (Côtes ...</td>\n",
       "      <td>Rosé</td>\n",
       "      <td>Cellier des Dauphins</td>\n",
       "      <td>85</td>\n",
       "      <td>2015</td>\n",
       "    </tr>\n",
       "    <tr>\n",
       "      <th>2</th>\n",
       "      <td>Spain</td>\n",
       "      <td>Generic white-fruit aromas of peach and apple ...</td>\n",
       "      <td>Estate Grown &amp; Bottled</td>\n",
       "      <td>9.0</td>\n",
       "      <td>Northern Spain</td>\n",
       "      <td>Rueda</td>\n",
       "      <td>Michael Schachner</td>\n",
       "      <td>@wineschach</td>\n",
       "      <td>Esperanza 2013 Estate Grown &amp; Bottled Verdejo-...</td>\n",
       "      <td>Verdejo-Viura</td>\n",
       "      <td>Esperanza</td>\n",
       "      <td>86</td>\n",
       "      <td>2013</td>\n",
       "    </tr>\n",
       "    <tr>\n",
       "      <th>3</th>\n",
       "      <td>US</td>\n",
       "      <td>This is the winery's best Nebula in years. Whi...</td>\n",
       "      <td>Nebula</td>\n",
       "      <td>29.0</td>\n",
       "      <td>California</td>\n",
       "      <td>Paso Robles</td>\n",
       "      <td>NaN</td>\n",
       "      <td>NaN</td>\n",
       "      <td>Midnight 2010 Nebula Cabernet Sauvignon (Paso ...</td>\n",
       "      <td>Cabernet Sauvignon</td>\n",
       "      <td>Midnight</td>\n",
       "      <td>87</td>\n",
       "      <td>2010</td>\n",
       "    </tr>\n",
       "    <tr>\n",
       "      <th>4</th>\n",
       "      <td>US</td>\n",
       "      <td>This is a very rich Pinot whose primary virtue...</td>\n",
       "      <td>Wiley Vineyard</td>\n",
       "      <td>40.0</td>\n",
       "      <td>California</td>\n",
       "      <td>Anderson Valley</td>\n",
       "      <td>NaN</td>\n",
       "      <td>NaN</td>\n",
       "      <td>Harrington 2006 Wiley Vineyard Pinot Noir (And...</td>\n",
       "      <td>Pinot Noir</td>\n",
       "      <td>Harrington</td>\n",
       "      <td>88</td>\n",
       "      <td>2006</td>\n",
       "    </tr>\n",
       "  </tbody>\n",
       "</table>\n",
       "</div>"
      ],
      "text/plain": [
       "     country                                        description  \\\n",
       "0  Australia  Possibly a little sweet, this is a soft, easyg...   \n",
       "1     France  A soft, almost off dry wine that is full in th...   \n",
       "2      Spain  Generic white-fruit aromas of peach and apple ...   \n",
       "3         US  This is the winery's best Nebula in years. Whi...   \n",
       "4         US  This is a very rich Pinot whose primary virtue...   \n",
       "\n",
       "              designation  price         province                 region_1  \\\n",
       "0                 unknown    5.0  Australia Other  South Eastern Australia   \n",
       "1                 Réserve   12.0     Rhône Valley           Côtes du Rhône   \n",
       "2  Estate Grown & Bottled    9.0   Northern Spain                    Rueda   \n",
       "3                  Nebula   29.0       California              Paso Robles   \n",
       "4          Wiley Vineyard   40.0       California          Anderson Valley   \n",
       "\n",
       "         taster_name taster_twitter_handle  \\\n",
       "0     Joe Czerwinski                @JoeCz   \n",
       "1         Roger Voss            @vossroger   \n",
       "2  Michael Schachner           @wineschach   \n",
       "3                NaN                   NaN   \n",
       "4                NaN                   NaN   \n",
       "\n",
       "                                               title             variety  \\\n",
       "0  Banrock Station 2006 Chardonnay (South Eastern...          Chardonnay   \n",
       "1  Cellier des Dauphins 2015 Réserve Rosé (Côtes ...                Rosé   \n",
       "2  Esperanza 2013 Estate Grown & Bottled Verdejo-...       Verdejo-Viura   \n",
       "3  Midnight 2010 Nebula Cabernet Sauvignon (Paso ...  Cabernet Sauvignon   \n",
       "4  Harrington 2006 Wiley Vineyard Pinot Noir (And...          Pinot Noir   \n",
       "\n",
       "                 winery  points  year  \n",
       "0       Banrock Station      83  2006  \n",
       "1  Cellier des Dauphins      85  2015  \n",
       "2             Esperanza      86  2013  \n",
       "3              Midnight      87  2010  \n",
       "4            Harrington      88  2006  "
      ]
     },
     "execution_count": 332,
     "metadata": {},
     "output_type": "execute_result"
    }
   ],
   "source": [
    "df_elim.head()"
   ]
  },
  {
   "cell_type": "code",
   "execution_count": 325,
   "id": "f6618c29",
   "metadata": {},
   "outputs": [
    {
     "ename": "TypeError",
     "evalue": "'<' not supported between instances of 'int' and 'str'",
     "output_type": "error",
     "traceback": [
      "\u001b[1;31m---------------------------------------------------------------------------\u001b[0m",
      "\u001b[1;31mTypeError\u001b[0m                                 Traceback (most recent call last)",
      "Input \u001b[1;32mIn [325]\u001b[0m, in \u001b[0;36m<cell line: 1>\u001b[1;34m()\u001b[0m\n\u001b[1;32m----> 1\u001b[0m \u001b[43mtop_year\u001b[49m\u001b[38;5;241;43m.\u001b[39;49m\u001b[43msort_values\u001b[49m\u001b[43m(\u001b[49m\u001b[43m)\u001b[49m\n",
      "File \u001b[1;32m~\\anaconda3\\lib\\site-packages\\pandas\\core\\indexes\\base.py:5472\u001b[0m, in \u001b[0;36mIndex.sort_values\u001b[1;34m(self, return_indexer, ascending, na_position, key)\u001b[0m\n\u001b[0;32m   5469\u001b[0m \u001b[38;5;66;03m# GH 35584. Sort missing values according to na_position kwarg\u001b[39;00m\n\u001b[0;32m   5470\u001b[0m \u001b[38;5;66;03m# ignore na_position for MultiIndex\u001b[39;00m\n\u001b[0;32m   5471\u001b[0m \u001b[38;5;28;01mif\u001b[39;00m \u001b[38;5;129;01mnot\u001b[39;00m \u001b[38;5;28misinstance\u001b[39m(\u001b[38;5;28mself\u001b[39m, ABCMultiIndex):\n\u001b[1;32m-> 5472\u001b[0m     _as \u001b[38;5;241m=\u001b[39m \u001b[43mnargsort\u001b[49m\u001b[43m(\u001b[49m\n\u001b[0;32m   5473\u001b[0m \u001b[43m        \u001b[49m\u001b[43mitems\u001b[49m\u001b[38;5;241;43m=\u001b[39;49m\u001b[43midx\u001b[49m\u001b[43m,\u001b[49m\u001b[43m \u001b[49m\u001b[43mascending\u001b[49m\u001b[38;5;241;43m=\u001b[39;49m\u001b[43mascending\u001b[49m\u001b[43m,\u001b[49m\u001b[43m \u001b[49m\u001b[43mna_position\u001b[49m\u001b[38;5;241;43m=\u001b[39;49m\u001b[43mna_position\u001b[49m\u001b[43m,\u001b[49m\u001b[43m \u001b[49m\u001b[43mkey\u001b[49m\u001b[38;5;241;43m=\u001b[39;49m\u001b[43mkey\u001b[49m\n\u001b[0;32m   5474\u001b[0m \u001b[43m    \u001b[49m\u001b[43m)\u001b[49m\n\u001b[0;32m   5475\u001b[0m \u001b[38;5;28;01melse\u001b[39;00m:\n\u001b[0;32m   5476\u001b[0m     _as \u001b[38;5;241m=\u001b[39m idx\u001b[38;5;241m.\u001b[39margsort()\n",
      "File \u001b[1;32m~\\anaconda3\\lib\\site-packages\\pandas\\core\\sorting.py:417\u001b[0m, in \u001b[0;36mnargsort\u001b[1;34m(items, kind, ascending, na_position, key, mask)\u001b[0m\n\u001b[0;32m    415\u001b[0m     non_nans \u001b[38;5;241m=\u001b[39m non_nans[::\u001b[38;5;241m-\u001b[39m\u001b[38;5;241m1\u001b[39m]\n\u001b[0;32m    416\u001b[0m     non_nan_idx \u001b[38;5;241m=\u001b[39m non_nan_idx[::\u001b[38;5;241m-\u001b[39m\u001b[38;5;241m1\u001b[39m]\n\u001b[1;32m--> 417\u001b[0m indexer \u001b[38;5;241m=\u001b[39m non_nan_idx[\u001b[43mnon_nans\u001b[49m\u001b[38;5;241;43m.\u001b[39;49m\u001b[43margsort\u001b[49m\u001b[43m(\u001b[49m\u001b[43mkind\u001b[49m\u001b[38;5;241;43m=\u001b[39;49m\u001b[43mkind\u001b[49m\u001b[43m)\u001b[49m]\n\u001b[0;32m    418\u001b[0m \u001b[38;5;28;01mif\u001b[39;00m \u001b[38;5;129;01mnot\u001b[39;00m ascending:\n\u001b[0;32m    419\u001b[0m     indexer \u001b[38;5;241m=\u001b[39m indexer[::\u001b[38;5;241m-\u001b[39m\u001b[38;5;241m1\u001b[39m]\n",
      "\u001b[1;31mTypeError\u001b[0m: '<' not supported between instances of 'int' and 'str'"
     ]
    }
   ],
   "source": [
    "top_year.sort_values()"
   ]
  },
  {
   "cell_type": "markdown",
   "id": "17ce4242",
   "metadata": {},
   "source": [
    "#### 포트와인 / none"
   ]
  },
  {
   "cell_type": "code",
   "execution_count": 368,
   "id": "ee667335",
   "metadata": {
    "scrolled": true
   },
   "outputs": [],
   "source": [
    "port = df_elim[df_elim['variety']=='Port']"
   ]
  },
  {
   "cell_type": "code",
   "execution_count": 369,
   "id": "d82cc491",
   "metadata": {},
   "outputs": [
    {
     "data": {
      "text/plain": [
       "year\n",
       "1935    94.000000\n",
       "1941    93.000000\n",
       "1952    95.500000\n",
       "1957    95.000000\n",
       "1961    95.000000\n",
       "1963    92.666667\n",
       "1964    93.000000\n",
       "1965    94.000000\n",
       "1966    95.000000\n",
       "1967    94.000000\n",
       "1968    95.000000\n",
       "1974    93.000000\n",
       "1978    94.000000\n",
       "1983    92.000000\n",
       "1984    94.000000\n",
       "1986    94.000000\n",
       "1992    92.000000\n",
       "1994    90.000000\n",
       "1996    91.000000\n",
       "1997    89.600000\n",
       "1998    90.000000\n",
       "1999    91.000000\n",
       "2000    90.333333\n",
       "2001    91.666667\n",
       "2002    85.000000\n",
       "2003    89.785714\n",
       "2004    88.909091\n",
       "2005    89.473684\n",
       "2006    87.800000\n",
       "2007    90.666667\n",
       "2008    88.826087\n",
       "2009    90.630435\n",
       "2010    89.321429\n",
       "2011    92.323077\n",
       "2012    90.882353\n",
       "2013    90.900000\n",
       "2014    90.714286\n",
       "2015    91.347826\n",
       "Name: points, dtype: float64"
      ]
     },
     "execution_count": 369,
     "metadata": {},
     "output_type": "execute_result"
    }
   ],
   "source": [
    "port.groupby(['year']).points.mean()"
   ]
  },
  {
   "cell_type": "markdown",
   "id": "77581c17",
   "metadata": {},
   "source": [
    "### e. 가격 (price)"
   ]
  },
  {
   "cell_type": "code",
   "execution_count": 129,
   "id": "b00d4dd8",
   "metadata": {
    "scrolled": false
   },
   "outputs": [
    {
     "data": {
      "image/png": "[encoded data removed]",
      "text/plain": [
       "<Figure size 720x360 with 1 Axes>"
      ]
     },
     "metadata": {},
     "output_type": "display_data"
    }
   ],
   "source": [
    "plt.figure(figsize=(10,5))\n",
    "\n",
    "dist = sns.distplot(df['price']) \n",
    "dist.set_xlabel(\"가격\")\n",
    "dist.set_ylabel(\"비율\")\n",
    "plt.show()"
   ]
  },
  {
   "cell_type": "code",
   "execution_count": 132,
   "id": "4cbb90dd",
   "metadata": {
    "scrolled": false
   },
   "outputs": [
    {
     "data": {
      "image/png": "[encoded data removed]",
      "text/plain": [
       "<Figure size 720x360 with 1 Axes>"
      ]
     },
     "metadata": {},
     "output_type": "display_data"
    }
   ],
   "source": [
    "cut_point = df[\"price\"].quantile(0.99)  # 상위 99% 값을 cut_point로 지정 \n",
    "df_cut = df[df['price'] < cut_point]\n",
    "\n",
    "plt.figure(figsize=(10,5))\n",
    "\n",
    "dist = sns.distplot(df_cut['price']) \n",
    "dist.set_xlabel(\"가격\")\n",
    "dist.set_ylabel(\"비율\")\n",
    "plt.show()"
   ]
  },
  {
   "cell_type": "markdown",
   "id": "097d117f",
   "metadata": {},
   "source": [
    "상위 99% 값으로 해도 충분할 것 같다."
   ]
  },
  {
   "cell_type": "code",
   "execution_count": 133,
   "id": "d30e6354",
   "metadata": {
    "scrolled": true
   },
   "outputs": [
    {
     "data": {
      "text/html": [
       "<div>\n",
       "<style scoped>\n",
       "    .dataframe tbody tr th:only-of-type {\n",
       "        vertical-align: middle;\n",
       "    }\n",
       "\n",
       "    .dataframe tbody tr th {\n",
       "        vertical-align: top;\n",
       "    }\n",
       "\n",
       "    .dataframe thead th {\n",
       "        text-align: right;\n",
       "    }\n",
       "</style>\n",
       "<table border=\"1\" class=\"dataframe\">\n",
       "  <thead>\n",
       "    <tr style=\"text-align: right;\">\n",
       "      <th></th>\n",
       "      <th>points</th>\n",
       "      <th>price</th>\n",
       "    </tr>\n",
       "  </thead>\n",
       "  <tbody>\n",
       "    <tr>\n",
       "      <th>points</th>\n",
       "      <td>1.000000</td>\n",
       "      <td>0.544657</td>\n",
       "    </tr>\n",
       "    <tr>\n",
       "      <th>price</th>\n",
       "      <td>0.544657</td>\n",
       "      <td>1.000000</td>\n",
       "    </tr>\n",
       "  </tbody>\n",
       "</table>\n",
       "</div>"
      ],
      "text/plain": [
       "          points     price\n",
       "points  1.000000  0.544657\n",
       "price   0.544657  1.000000"
      ]
     },
     "execution_count": 133,
     "metadata": {},
     "output_type": "execute_result"
    }
   ],
   "source": [
    "pearson_corr = df_cut[['points','price']].corr(method='pearson')\n",
    "pearson_corr"
   ]
  },
  {
   "cell_type": "code",
   "execution_count": 137,
   "id": "237049d3",
   "metadata": {
    "scrolled": true
   },
   "outputs": [
    {
     "data": {
      "image/png": "[encoded data removed]",
      "text/plain": [
       "<Figure size 720x360 with 1 Axes>"
      ]
     },
     "metadata": {},
     "output_type": "display_data"
    }
   ],
   "source": [
    "\n",
    "\n",
    "plt.figure(figsize=(10,5))\n",
    "sns.regplot(data=df_cut, x='price', y='points', \n",
    "            line_kws={\"color\":\"red\", \"lw\":2}) # line 색깔, 두께 지정\n",
    "plt.xlabel('등록 후 기간') \n",
    "plt.ylabel('이용 시간 (분)') \n",
    "plt.show()"
   ]
  },
  {
   "cell_type": "code",
   "execution_count": null,
   "id": "418de819",
   "metadata": {},
   "outputs": [],
   "source": [
    "train['train']"
   ]
  },
  {
   "cell_type": "markdown",
   "id": "8e4998e5",
   "metadata": {},
   "source": [
    "### 품종 (variety)"
   ]
  },
  {
   "cell_type": "code",
   "execution_count": 124,
   "id": "19acd9b7",
   "metadata": {},
   "outputs": [
    {
     "data": {
      "text/plain": [
       "670"
      ]
     },
     "execution_count": 124,
     "metadata": {},
     "output_type": "execute_result"
    }
   ],
   "source": [
    "df['variety'].nunique()"
   ]
  },
  {
   "cell_type": "code",
   "execution_count": null,
   "id": "330467bd",
   "metadata": {},
   "outputs": [],
   "source": []
  },
  {
   "cell_type": "markdown",
   "id": "3fdb76f6",
   "metadata": {},
   "source": [
    "### designation"
   ]
  },
  {
   "cell_type": "code",
   "execution_count": 141,
   "id": "51a6f5dd",
   "metadata": {},
   "outputs": [
    {
     "data": {
      "text/plain": [
       "32941"
      ]
     },
     "execution_count": 141,
     "metadata": {},
     "output_type": "execute_result"
    }
   ],
   "source": [
    "df['designation'].nunique()"
   ]
  },
  {
   "cell_type": "code",
   "execution_count": 151,
   "id": "bbfd54a5",
   "metadata": {},
   "outputs": [],
   "source": [
    "top_list = df['designation'].value_counts().nlargest(30).index"
   ]
  },
  {
   "cell_type": "code",
   "execution_count": 158,
   "id": "c383e990",
   "metadata": {},
   "outputs": [
    {
     "data": {
      "text/plain": [
       "unknown                      30001\n",
       "Reserve                       1631\n",
       "Estate                        1040\n",
       "Reserva                        988\n",
       "Riserva                        523\n",
       "Estate Grown                   489\n",
       "Brut                           417\n",
       "Dry                            328\n",
       "Barrel sample                  298\n",
       "Crianza                        273\n",
       "Estate Bottled                 273\n",
       "Vieilles Vignes                232\n",
       "Brut Rosé                      229\n",
       "Gran Reserva                   205\n",
       "Barrel Sample                  199\n",
       "Tradition                      195\n",
       "Old Vine                       177\n",
       "Extra Dry                      156\n",
       "Rosé of                        145\n",
       "Rosé                           127\n",
       "Réserve                        122\n",
       "Single Vineyard                108\n",
       "Estate Reserve                 102\n",
       "Vintage                         96\n",
       "Unoaked                         93\n",
       "Classic                         88\n",
       "Bien Nacido Vineyard            87\n",
       "Late Harvest                    84\n",
       "Barrel Select                   84\n",
       "Blanc de Blancs Brut            80\n",
       "Late Bottled Vintage            79\n",
       "Old Vines                       78\n",
       "Estate Vineyard                 76\n",
       "Stillwater Creek Vineyard       73\n",
       "Barrel Fermented                71\n",
       "Tinto                           65\n",
       "Limited Release                 65\n",
       "Cuvée Prestige                  63\n",
       "Signature                       63\n",
       "Blanc de Blancs                 62\n",
       "Collection                      61\n",
       "Grand Reserve                   60\n",
       "Private Reserve                 60\n",
       "Vintner's Reserve               58\n",
       "Prestige                        58\n",
       "Roble                           56\n",
       "Semi-Dry                        56\n",
       "Rosella's Vineyard              54\n",
       "Proprietor's Reserve            53\n",
       "Trocken                         52\n",
       "Name: designation, dtype: int64"
      ]
     },
     "execution_count": 158,
     "metadata": {},
     "output_type": "execute_result"
    }
   ],
   "source": [
    "df['designation'].value_counts().nlargest(50)"
   ]
  },
  {
   "cell_type": "code",
   "execution_count": 152,
   "id": "47004cb9",
   "metadata": {},
   "outputs": [],
   "source": [
    "df_top = df[df['designation'].isin(top_list)]"
   ]
  },
  {
   "cell_type": "code",
   "execution_count": 153,
   "id": "6eed475c",
   "metadata": {},
   "outputs": [
    {
     "data": {
      "text/html": [
       "<div>\n",
       "<style scoped>\n",
       "    .dataframe tbody tr th:only-of-type {\n",
       "        vertical-align: middle;\n",
       "    }\n",
       "\n",
       "    .dataframe tbody tr th {\n",
       "        vertical-align: top;\n",
       "    }\n",
       "\n",
       "    .dataframe thead th {\n",
       "        text-align: right;\n",
       "    }\n",
       "</style>\n",
       "<table border=\"1\" class=\"dataframe\">\n",
       "  <thead>\n",
       "    <tr style=\"text-align: right;\">\n",
       "      <th></th>\n",
       "      <th>country</th>\n",
       "      <th>description</th>\n",
       "      <th>designation</th>\n",
       "      <th>price</th>\n",
       "      <th>province</th>\n",
       "      <th>region_1</th>\n",
       "      <th>taster_name</th>\n",
       "      <th>taster_twitter_handle</th>\n",
       "      <th>title</th>\n",
       "      <th>variety</th>\n",
       "      <th>winery</th>\n",
       "      <th>points</th>\n",
       "      <th>year</th>\n",
       "    </tr>\n",
       "  </thead>\n",
       "  <tbody>\n",
       "    <tr>\n",
       "      <th>0</th>\n",
       "      <td>Australia</td>\n",
       "      <td>Possibly a little sweet, this is a soft, easyg...</td>\n",
       "      <td>unknown</td>\n",
       "      <td>5.0</td>\n",
       "      <td>Australia Other</td>\n",
       "      <td>South Eastern Australia</td>\n",
       "      <td>Joe Czerwinski</td>\n",
       "      <td>@JoeCz</td>\n",
       "      <td>Banrock Station 2006 Chardonnay (South Eastern...</td>\n",
       "      <td>Chardonnay</td>\n",
       "      <td>Banrock Station</td>\n",
       "      <td>83</td>\n",
       "      <td>2006</td>\n",
       "    </tr>\n",
       "    <tr>\n",
       "      <th>1</th>\n",
       "      <td>France</td>\n",
       "      <td>A soft, almost off dry wine that is full in th...</td>\n",
       "      <td>Réserve</td>\n",
       "      <td>12.0</td>\n",
       "      <td>Rhône Valley</td>\n",
       "      <td>Côtes du Rhône</td>\n",
       "      <td>Roger Voss</td>\n",
       "      <td>@vossroger</td>\n",
       "      <td>Cellier des Dauphins 2015 Réserve Rosé (Côtes ...</td>\n",
       "      <td>Rosé</td>\n",
       "      <td>Cellier des Dauphins</td>\n",
       "      <td>85</td>\n",
       "      <td>2015</td>\n",
       "    </tr>\n",
       "    <tr>\n",
       "      <th>5</th>\n",
       "      <td>US</td>\n",
       "      <td>An unabashedly rich and luscious wine, this co...</td>\n",
       "      <td>unknown</td>\n",
       "      <td>22.0</td>\n",
       "      <td>California</td>\n",
       "      <td>Sonoma County-Monterey County-Santa Barbara Co...</td>\n",
       "      <td>Jim Gordon</td>\n",
       "      <td>@gordone_cellars</td>\n",
       "      <td>Meiomi 2013 Chardonnay (Sonoma County-Monterey...</td>\n",
       "      <td>Chardonnay</td>\n",
       "      <td>Meiomi</td>\n",
       "      <td>90</td>\n",
       "      <td>2013</td>\n",
       "    </tr>\n",
       "    <tr>\n",
       "      <th>8</th>\n",
       "      <td>US</td>\n",
       "      <td>Here's a good, everyday Cab if you're looking ...</td>\n",
       "      <td>unknown</td>\n",
       "      <td>10.0</td>\n",
       "      <td>California</td>\n",
       "      <td>Central Coast</td>\n",
       "      <td>NaN</td>\n",
       "      <td>NaN</td>\n",
       "      <td>Cupcake 2005 Cabernet Sauvignon (Central Coast)</td>\n",
       "      <td>Cabernet Sauvignon</td>\n",
       "      <td>Cupcake</td>\n",
       "      <td>84</td>\n",
       "      <td>2005</td>\n",
       "    </tr>\n",
       "    <tr>\n",
       "      <th>13</th>\n",
       "      <td>US</td>\n",
       "      <td>It shows ultrarich tannins and a flavor comple...</td>\n",
       "      <td>unknown</td>\n",
       "      <td>20.0</td>\n",
       "      <td>California</td>\n",
       "      <td>Russian River Valley</td>\n",
       "      <td>NaN</td>\n",
       "      <td>NaN</td>\n",
       "      <td>Novy 2012 Zinfandel (Russian River Valley)</td>\n",
       "      <td>Zinfandel</td>\n",
       "      <td>Novy</td>\n",
       "      <td>87</td>\n",
       "      <td>2012</td>\n",
       "    </tr>\n",
       "  </tbody>\n",
       "</table>\n",
       "</div>"
      ],
      "text/plain": [
       "      country                                        description designation  \\\n",
       "0   Australia  Possibly a little sweet, this is a soft, easyg...     unknown   \n",
       "1      France  A soft, almost off dry wine that is full in th...     Réserve   \n",
       "5          US  An unabashedly rich and luscious wine, this co...     unknown   \n",
       "8          US  Here's a good, everyday Cab if you're looking ...     unknown   \n",
       "13         US  It shows ultrarich tannins and a flavor comple...     unknown   \n",
       "\n",
       "    price         province                                           region_1  \\\n",
       "0     5.0  Australia Other                            South Eastern Australia   \n",
       "1    12.0     Rhône Valley                                     Côtes du Rhône   \n",
       "5    22.0       California  Sonoma County-Monterey County-Santa Barbara Co...   \n",
       "8    10.0       California                                      Central Coast   \n",
       "13   20.0       California                               Russian River Valley   \n",
       "\n",
       "       taster_name taster_twitter_handle  \\\n",
       "0   Joe Czerwinski                @JoeCz   \n",
       "1       Roger Voss            @vossroger   \n",
       "5       Jim Gordon      @gordone_cellars   \n",
       "8              NaN                   NaN   \n",
       "13             NaN                   NaN   \n",
       "\n",
       "                                                title             variety  \\\n",
       "0   Banrock Station 2006 Chardonnay (South Eastern...          Chardonnay   \n",
       "1   Cellier des Dauphins 2015 Réserve Rosé (Côtes ...                Rosé   \n",
       "5   Meiomi 2013 Chardonnay (Sonoma County-Monterey...          Chardonnay   \n",
       "8     Cupcake 2005 Cabernet Sauvignon (Central Coast)  Cabernet Sauvignon   \n",
       "13         Novy 2012 Zinfandel (Russian River Valley)           Zinfandel   \n",
       "\n",
       "                  winery  points  year  \n",
       "0        Banrock Station      83  2006  \n",
       "1   Cellier des Dauphins      85  2015  \n",
       "5                 Meiomi      90  2013  \n",
       "8                Cupcake      84  2005  \n",
       "13                  Novy      87  2012  "
      ]
     },
     "execution_count": 153,
     "metadata": {},
     "output_type": "execute_result"
    }
   ],
   "source": [
    "df_top.head()"
   ]
  },
  {
   "cell_type": "code",
   "execution_count": 156,
   "id": "8fcc7938",
   "metadata": {
    "scrolled": true
   },
   "outputs": [
    {
     "data": {
      "image/png": "[encoded data removed]",
      "text/plain": [
       "<Figure size 720x1440 with 1 Axes>"
      ]
     },
     "metadata": {},
     "output_type": "display_data"
    }
   ],
   "source": [
    "plt.figure(figsize=(10,20))\n",
    "box = sns.boxplot(y='designation', x='points', data=df_top)\n",
    "box.set_xlabel(\"점수\")\n",
    "box.set_ylabel(\"밭\")\n",
    "plt.show()"
   ]
  },
  {
   "cell_type": "markdown",
   "id": "aec09dd6",
   "metadata": {},
   "source": [
    "### 와이너리"
   ]
  },
  {
   "cell_type": "code",
   "execution_count": null,
   "id": "508d01c8",
   "metadata": {},
   "outputs": [],
   "source": [
    "train['winery'] "
   ]
  }
 ],
 "metadata": {
  "kernelspec": {
   "display_name": "Python 3 (ipykernel)",
   "language": "python",
   "name": "python3"
  },
  "language_info": {
   "codemirror_mode": {
    "name": "ipython",
    "version": 3
   },
   "file_extension": ".py",
   "mimetype": "text/x-python",
   "name": "python",
   "nbconvert_exporter": "python",
   "pygments_lexer": "ipython3",
   "version": "3.9.12"
  }
 },
 "nbformat": 4,
 "nbformat_minor": 5
}
