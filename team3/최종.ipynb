{
  "nbformat": 4,
  "nbformat_minor": 0,
  "metadata": {
    "colab": {
      "provenance": [],
      "collapsed_sections": [
        "iSaYy_IRSjX9",
        "nXCqUR-7mzxm",
        "p1vM1LHxm93e"
      ]
    },
    "kernelspec": {
      "name": "python3",
      "display_name": "Python 3"
    },
    "language_info": {
      "name": "python"
    }
  },
  "cells": [
    {
      "cell_type": "markdown",
      "source": [
        "## **데이터 업로드**"
      ],
      "metadata": {
        "id": "iSaYy_IRSjX9"
      }
    },
    {
      "cell_type": "code",
      "source": [
        "import numpy as np\n",
        "import pandas as pd\n",
        "import seaborn as sns\n",
        "\n",
        "import warnings\n",
        "warnings.filterwarnings('ignore')"
      ],
      "metadata": {
        "id": "jB289RzDtJef"
      },
      "execution_count": null,
      "outputs": []
    },
    {
      "cell_type": "code",
      "source": [
        "import matplotlib.pyplot as plt \n",
        "import platform                \n",
        "\n",
        "from matplotlib import font_manager, rc\n",
        "plt.rcParams['axes.unicode_minus']= False\n",
        "\n",
        "if platform.system() == 'Darwin': #맥os 사용자의 경우\n",
        "    plt.style.use('seaborn-darkgrid') \n",
        "    rc('font', family = 'AppleGothic')\n",
        "    \n",
        "elif platform.system() == 'Windows':#윈도우 사용자의 경우\n",
        "    path = 'c:/Windows/Fonts/malgun.ttf'\n",
        "    font_name = font_manager.FontProperties(fname=path).get_name()\n",
        "    plt.style.use('seaborn-darkgrid') # https://python-graph-gallery.com/199-matplotlib-style-sheets/\n",
        "    rc('font', family=font_name)"
      ],
      "metadata": {
        "id": "cG0CosMQtNS0"
      },
      "execution_count": null,
      "outputs": []
    },
    {
      "cell_type": "code",
      "source": [
        "from google.colab import drive\n",
        "drive.mount('/content/gdrive')"
      ],
      "metadata": {
        "id": "18tBuQvOHAf9"
      },
      "execution_count": null,
      "outputs": []
    },
    {
      "cell_type": "code",
      "source": [
        "train = pd.read_csv('/content/train.csv')\n",
        "test = pd.read_csv('/content/test.csv')"
      ],
      "metadata": {
        "id": "QdysZpxkshg_",
        "colab": {
          "base_uri": "https://localhost:8080/",
          "height": 269
        },
        "outputId": "c1fa8ade-f753-4d47-fce0-0862e1f7bcf2"
      },
      "execution_count": null,
      "outputs": [
        {
          "output_type": "error",
          "ename": "ParserError",
          "evalue": "ignored",
          "traceback": [
            "\u001b[0;31m---------------------------------------------------------------------------\u001b[0m",
            "\u001b[0;31mParserError\u001b[0m                               Traceback (most recent call last)",
            "\u001b[0;32m<ipython-input-14-a1da497a12f5>\u001b[0m in \u001b[0;36m<module>\u001b[0;34m\u001b[0m\n\u001b[0;32m----> 1\u001b[0;31m \u001b[0mtrain\u001b[0m \u001b[0;34m=\u001b[0m \u001b[0mpd\u001b[0m\u001b[0;34m.\u001b[0m\u001b[0mread_csv\u001b[0m\u001b[0;34m(\u001b[0m\u001b[0;34m'/content/train.csv'\u001b[0m\u001b[0;34m)\u001b[0m\u001b[0;34m\u001b[0m\u001b[0;34m\u001b[0m\u001b[0m\n\u001b[0m\u001b[1;32m      2\u001b[0m \u001b[0mtest\u001b[0m \u001b[0;34m=\u001b[0m \u001b[0mpd\u001b[0m\u001b[0;34m.\u001b[0m\u001b[0mread_csv\u001b[0m\u001b[0;34m(\u001b[0m\u001b[0;34m'/content/test.csv'\u001b[0m\u001b[0;34m)\u001b[0m\u001b[0;34m\u001b[0m\u001b[0;34m\u001b[0m\u001b[0m\n",
            "\u001b[0;32m/usr/local/lib/python3.7/dist-packages/pandas/util/_decorators.py\u001b[0m in \u001b[0;36mwrapper\u001b[0;34m(*args, **kwargs)\u001b[0m\n\u001b[1;32m    309\u001b[0m                     \u001b[0mstacklevel\u001b[0m\u001b[0;34m=\u001b[0m\u001b[0mstacklevel\u001b[0m\u001b[0;34m,\u001b[0m\u001b[0;34m\u001b[0m\u001b[0;34m\u001b[0m\u001b[0m\n\u001b[1;32m    310\u001b[0m                 )\n\u001b[0;32m--> 311\u001b[0;31m             \u001b[0;32mreturn\u001b[0m \u001b[0mfunc\u001b[0m\u001b[0;34m(\u001b[0m\u001b[0;34m*\u001b[0m\u001b[0margs\u001b[0m\u001b[0;34m,\u001b[0m \u001b[0;34m**\u001b[0m\u001b[0mkwargs\u001b[0m\u001b[0;34m)\u001b[0m\u001b[0;34m\u001b[0m\u001b[0;34m\u001b[0m\u001b[0m\n\u001b[0m\u001b[1;32m    312\u001b[0m \u001b[0;34m\u001b[0m\u001b[0m\n\u001b[1;32m    313\u001b[0m         \u001b[0;32mreturn\u001b[0m \u001b[0mwrapper\u001b[0m\u001b[0;34m\u001b[0m\u001b[0;34m\u001b[0m\u001b[0m\n",
            "\u001b[0;32m/usr/local/lib/python3.7/dist-packages/pandas/io/parsers/readers.py\u001b[0m in \u001b[0;36mread_csv\u001b[0;34m(filepath_or_buffer, sep, delimiter, header, names, index_col, usecols, squeeze, prefix, mangle_dupe_cols, dtype, engine, converters, true_values, false_values, skipinitialspace, skiprows, skipfooter, nrows, na_values, keep_default_na, na_filter, verbose, skip_blank_lines, parse_dates, infer_datetime_format, keep_date_col, date_parser, dayfirst, cache_dates, iterator, chunksize, compression, thousands, decimal, lineterminator, quotechar, quoting, doublequote, escapechar, comment, encoding, encoding_errors, dialect, error_bad_lines, warn_bad_lines, on_bad_lines, delim_whitespace, low_memory, memory_map, float_precision, storage_options)\u001b[0m\n\u001b[1;32m    584\u001b[0m     \u001b[0mkwds\u001b[0m\u001b[0;34m.\u001b[0m\u001b[0mupdate\u001b[0m\u001b[0;34m(\u001b[0m\u001b[0mkwds_defaults\u001b[0m\u001b[0;34m)\u001b[0m\u001b[0;34m\u001b[0m\u001b[0;34m\u001b[0m\u001b[0m\n\u001b[1;32m    585\u001b[0m \u001b[0;34m\u001b[0m\u001b[0m\n\u001b[0;32m--> 586\u001b[0;31m     \u001b[0;32mreturn\u001b[0m \u001b[0m_read\u001b[0m\u001b[0;34m(\u001b[0m\u001b[0mfilepath_or_buffer\u001b[0m\u001b[0;34m,\u001b[0m \u001b[0mkwds\u001b[0m\u001b[0;34m)\u001b[0m\u001b[0;34m\u001b[0m\u001b[0;34m\u001b[0m\u001b[0m\n\u001b[0m\u001b[1;32m    587\u001b[0m \u001b[0;34m\u001b[0m\u001b[0m\n\u001b[1;32m    588\u001b[0m \u001b[0;34m\u001b[0m\u001b[0m\n",
            "\u001b[0;32m/usr/local/lib/python3.7/dist-packages/pandas/io/parsers/readers.py\u001b[0m in \u001b[0;36m_read\u001b[0;34m(filepath_or_buffer, kwds)\u001b[0m\n\u001b[1;32m    486\u001b[0m \u001b[0;34m\u001b[0m\u001b[0m\n\u001b[1;32m    487\u001b[0m     \u001b[0;32mwith\u001b[0m \u001b[0mparser\u001b[0m\u001b[0;34m:\u001b[0m\u001b[0;34m\u001b[0m\u001b[0;34m\u001b[0m\u001b[0m\n\u001b[0;32m--> 488\u001b[0;31m         \u001b[0;32mreturn\u001b[0m \u001b[0mparser\u001b[0m\u001b[0;34m.\u001b[0m\u001b[0mread\u001b[0m\u001b[0;34m(\u001b[0m\u001b[0mnrows\u001b[0m\u001b[0;34m)\u001b[0m\u001b[0;34m\u001b[0m\u001b[0;34m\u001b[0m\u001b[0m\n\u001b[0m\u001b[1;32m    489\u001b[0m \u001b[0;34m\u001b[0m\u001b[0m\n\u001b[1;32m    490\u001b[0m \u001b[0;34m\u001b[0m\u001b[0m\n",
            "\u001b[0;32m/usr/local/lib/python3.7/dist-packages/pandas/io/parsers/readers.py\u001b[0m in \u001b[0;36mread\u001b[0;34m(self, nrows)\u001b[0m\n\u001b[1;32m   1045\u001b[0m     \u001b[0;32mdef\u001b[0m \u001b[0mread\u001b[0m\u001b[0;34m(\u001b[0m\u001b[0mself\u001b[0m\u001b[0;34m,\u001b[0m \u001b[0mnrows\u001b[0m\u001b[0;34m=\u001b[0m\u001b[0;32mNone\u001b[0m\u001b[0;34m)\u001b[0m\u001b[0;34m:\u001b[0m\u001b[0;34m\u001b[0m\u001b[0;34m\u001b[0m\u001b[0m\n\u001b[1;32m   1046\u001b[0m         \u001b[0mnrows\u001b[0m \u001b[0;34m=\u001b[0m \u001b[0mvalidate_integer\u001b[0m\u001b[0;34m(\u001b[0m\u001b[0;34m\"nrows\"\u001b[0m\u001b[0;34m,\u001b[0m \u001b[0mnrows\u001b[0m\u001b[0;34m)\u001b[0m\u001b[0;34m\u001b[0m\u001b[0;34m\u001b[0m\u001b[0m\n\u001b[0;32m-> 1047\u001b[0;31m         \u001b[0mindex\u001b[0m\u001b[0;34m,\u001b[0m \u001b[0mcolumns\u001b[0m\u001b[0;34m,\u001b[0m \u001b[0mcol_dict\u001b[0m \u001b[0;34m=\u001b[0m \u001b[0mself\u001b[0m\u001b[0;34m.\u001b[0m\u001b[0m_engine\u001b[0m\u001b[0;34m.\u001b[0m\u001b[0mread\u001b[0m\u001b[0;34m(\u001b[0m\u001b[0mnrows\u001b[0m\u001b[0;34m)\u001b[0m\u001b[0;34m\u001b[0m\u001b[0;34m\u001b[0m\u001b[0m\n\u001b[0m\u001b[1;32m   1048\u001b[0m \u001b[0;34m\u001b[0m\u001b[0m\n\u001b[1;32m   1049\u001b[0m         \u001b[0;32mif\u001b[0m \u001b[0mindex\u001b[0m \u001b[0;32mis\u001b[0m \u001b[0;32mNone\u001b[0m\u001b[0;34m:\u001b[0m\u001b[0;34m\u001b[0m\u001b[0;34m\u001b[0m\u001b[0m\n",
            "\u001b[0;32m/usr/local/lib/python3.7/dist-packages/pandas/io/parsers/c_parser_wrapper.py\u001b[0m in \u001b[0;36mread\u001b[0;34m(self, nrows)\u001b[0m\n\u001b[1;32m    222\u001b[0m         \u001b[0;32mtry\u001b[0m\u001b[0;34m:\u001b[0m\u001b[0;34m\u001b[0m\u001b[0;34m\u001b[0m\u001b[0m\n\u001b[1;32m    223\u001b[0m             \u001b[0;32mif\u001b[0m \u001b[0mself\u001b[0m\u001b[0;34m.\u001b[0m\u001b[0mlow_memory\u001b[0m\u001b[0;34m:\u001b[0m\u001b[0;34m\u001b[0m\u001b[0;34m\u001b[0m\u001b[0m\n\u001b[0;32m--> 224\u001b[0;31m                 \u001b[0mchunks\u001b[0m \u001b[0;34m=\u001b[0m \u001b[0mself\u001b[0m\u001b[0;34m.\u001b[0m\u001b[0m_reader\u001b[0m\u001b[0;34m.\u001b[0m\u001b[0mread_low_memory\u001b[0m\u001b[0;34m(\u001b[0m\u001b[0mnrows\u001b[0m\u001b[0;34m)\u001b[0m\u001b[0;34m\u001b[0m\u001b[0;34m\u001b[0m\u001b[0m\n\u001b[0m\u001b[1;32m    225\u001b[0m                 \u001b[0;31m# destructive to chunks\u001b[0m\u001b[0;34m\u001b[0m\u001b[0;34m\u001b[0m\u001b[0;34m\u001b[0m\u001b[0m\n\u001b[1;32m    226\u001b[0m                 \u001b[0mdata\u001b[0m \u001b[0;34m=\u001b[0m \u001b[0m_concatenate_chunks\u001b[0m\u001b[0;34m(\u001b[0m\u001b[0mchunks\u001b[0m\u001b[0;34m)\u001b[0m\u001b[0;34m\u001b[0m\u001b[0;34m\u001b[0m\u001b[0m\n",
            "\u001b[0;32m/usr/local/lib/python3.7/dist-packages/pandas/_libs/parsers.pyx\u001b[0m in \u001b[0;36mpandas._libs.parsers.TextReader.read_low_memory\u001b[0;34m()\u001b[0m\n",
            "\u001b[0;32m/usr/local/lib/python3.7/dist-packages/pandas/_libs/parsers.pyx\u001b[0m in \u001b[0;36mpandas._libs.parsers.TextReader._read_rows\u001b[0;34m()\u001b[0m\n",
            "\u001b[0;32m/usr/local/lib/python3.7/dist-packages/pandas/_libs/parsers.pyx\u001b[0m in \u001b[0;36mpandas._libs.parsers.TextReader._tokenize_rows\u001b[0;34m()\u001b[0m\n",
            "\u001b[0;32m/usr/local/lib/python3.7/dist-packages/pandas/_libs/parsers.pyx\u001b[0m in \u001b[0;36mpandas._libs.parsers.raise_parser_error\u001b[0;34m()\u001b[0m\n",
            "\u001b[0;31mParserError\u001b[0m: Error tokenizing data. C error: Expected 13 fields in line 13055, saw 17\n"
          ]
        }
      ]
    },
    {
      "cell_type": "markdown",
      "source": [
        "## **0) 목적: 리뷰 평점 바탕 추천시스템**\n",
        "\n",
        "> 그핵이는 '와인 마켓'을 운영하는데, 정교한 선호도를 바탕으로 유저들에게 평점이 높은 와인 순서대로 추천하고 싶다. 어떤 변수를 활용하면 가장 정확하게 평점을 예측해볼 수 있을까?\n",
        "\n",
        "> 월 1회 프로모션 이벤트를 진행하고 싶은데, 어떤 컨셉(특정 지역, 특정 분류의 와인)으로 진행했을 때 구매 유도에 효과적일까?"
      ],
      "metadata": {
        "id": "niz7tbGVnJ6y"
      }
    },
    {
      "cell_type": "markdown",
      "source": [
        "## **1) EDA 및 데이터 파악**\n",
        "  - 분포 확인\n",
        "  - 결측치, 이상치 파악"
      ],
      "metadata": {
        "id": "nXCqUR-7mzxm"
      }
    },
    {
      "cell_type": "code",
      "source": [
        "train.head()"
      ],
      "metadata": {
        "id": "NoMm2yOFFow5"
      },
      "execution_count": null,
      "outputs": []
    },
    {
      "cell_type": "code",
      "source": [
        "train.info()"
      ],
      "metadata": {
        "id": "AAlRYrc3BjxJ"
      },
      "execution_count": null,
      "outputs": []
    },
    {
      "cell_type": "markdown",
      "source": [
        "> 평가자의 주관적 평가(description)를 평가의 단어 개수(decription_count로) 대체"
      ],
      "metadata": {
        "id": "vIIUXyE1CJ-E"
      }
    },
    {
      "cell_type": "code",
      "source": [
        "word_count_train = []\n",
        "for i in range(len(train)):\n",
        "  word_count_train.append(train.description[i].count(\" \") + 1)\n",
        "\n",
        "train['description_count'] = word_count_train"
      ],
      "metadata": {
        "id": "QSAQYy4UCInr"
      },
      "execution_count": null,
      "outputs": []
    },
    {
      "cell_type": "markdown",
      "source": [
        "> Title 변수 안에 있는 Year 정보 추출"
      ],
      "metadata": {
        "id": "iCfOBxDsFp2n"
      }
    },
    {
      "cell_type": "code",
      "source": [
        "import re\n",
        "year_list = []    \n",
        "for i in train['title']:\n",
        "    year = re.search(r'19\\d{2}|20\\d{2}', i)\n",
        "    if year:\n",
        "        year_list.append(year.group())\n",
        "    else: \n",
        "      year_list.append(None)\n",
        "\n",
        "train ['year'] = year_list"
      ],
      "metadata": {
        "id": "F17TORP9F0QC"
      },
      "execution_count": null,
      "outputs": []
    },
    {
      "cell_type": "markdown",
      "source": [
        "> 결측치 확인 및 이상치 확인"
      ],
      "metadata": {
        "id": "v_cRM3JBC1B7"
      }
    },
    {
      "cell_type": "code",
      "source": [
        "train.isnull().sum()/len(train)*100"
      ],
      "metadata": {
        "id": "dlpqVZOaBmrr"
      },
      "execution_count": null,
      "outputs": []
    },
    {
      "cell_type": "markdown",
      "source": [
        "> 분포 확인"
      ],
      "metadata": {
        "id": "_AwNiJRQC-xU"
      }
    },
    {
      "cell_type": "code",
      "source": [
        "train.describe()"
      ],
      "metadata": {
        "id": "MfKr_Q27C6do"
      },
      "execution_count": null,
      "outputs": []
    },
    {
      "cell_type": "code",
      "source": [
        "plt.figure(figsize = (10,5))\n",
        "train_eda = train.dropna(axis = 0)\n",
        "\n",
        "price = sns.distplot(train_eda['points'])\n",
        "price.set_xlabel('points')\n",
        "price.set_ylabel('per')\n",
        "plt.show\n",
        "\n",
        "print('skewness: %f' % train_eda['points'].skew()) \n",
        "print('kurtosis: %f' % train_eda['points'].kurt()) "
      ],
      "metadata": {
        "id": "zlLwvcWTDH0I"
      },
      "execution_count": null,
      "outputs": []
    },
    {
      "cell_type": "code",
      "source": [
        "plt.figure(figsize = (10,5))\n",
        "train_eda = train.dropna(axis = 0)\n",
        "\n",
        "price = sns.distplot(train_eda['description_count'])\n",
        "price.set_xlabel('count')\n",
        "price.set_ylabel('per')\n",
        "plt.show"
      ],
      "metadata": {
        "id": "FputC6qQDHfr"
      },
      "execution_count": null,
      "outputs": []
    },
    {
      "cell_type": "code",
      "source": [
        "plt.figure(figsize = (10,5))\n",
        "train2 = train.dropna(axis = 0)\n",
        "\n",
        "price = sns.distplot(train['price'])\n",
        "price.set_xlabel('price($)')\n",
        "price.set_ylabel('per')\n",
        "plt.show"
      ],
      "metadata": {
        "id": "7IA48-PJAthr"
      },
      "execution_count": null,
      "outputs": []
    },
    {
      "cell_type": "markdown",
      "source": [
        "## **2) 데이터 시각화**"
      ],
      "metadata": {
        "id": "5FMgmBEXm2t1"
      }
    },
    {
      "cell_type": "markdown",
      "source": [
        "> 1.와인 품질 \n",
        "\n",
        "> [참고: 와인 품질을 결정하는 요소](https://www.dongacc.com/cooperation/contents/wineschool/1_08selection.htm)\n",
        " - 포도의 종류\n",
        " - 포도의 생산지\n",
        " - 생산년도\n",
        " - 제조기술 \n",
        " \n",
        "> 포도의 종류를 나타내는 **variety** / 생산지를 나타내는 **country, province** / 제조기술을 보여주는는 **winery** / 생산년도를 나타내는 **year(title에서 추출)** 변수 활용 가능\n",
        "\n"
      ],
      "metadata": {
        "id": "Ezlkc4yWn565"
      }
    },
    {
      "cell_type": "markdown",
      "source": [
        "> 2. 평가자의 성향\n",
        " - **taster name** \n",
        " - **description**의 단어 개수 활용\n",
        " - 긍정어? 감정 분석"
      ],
      "metadata": {
        "id": "_nUHkTzBqyBt"
      }
    },
    {
      "cell_type": "markdown",
      "source": [
        "> 3. 가격 (**price**)"
      ],
      "metadata": {
        "id": "pFhSJ-9VrsAZ"
      }
    },
    {
      "cell_type": "markdown",
      "source": [
        "> 상관관계 확인"
      ],
      "metadata": {
        "id": "3eCXypWrGZcd"
      }
    },
    {
      "cell_type": "code",
      "source": [
        "train.corr()"
      ],
      "metadata": {
        "id": "4KldW87NGblk"
      },
      "execution_count": null,
      "outputs": []
    },
    {
      "cell_type": "markdown",
      "source": [
        "> Price"
      ],
      "metadata": {
        "id": "DK7y6TTUFWBA"
      }
    },
    {
      "cell_type": "code",
      "source": [
        "plt.figure(figsize=(10,6))\n",
        "sns.scatterplot(train['price'],\n",
        "            train['points'], \n",
        "            ) \n",
        "plt.ylabel('points')\n",
        "plt.xlabel('price')\n",
        "plt.xticks(rotation=90) \n",
        "plt.show()"
      ],
      "metadata": {
        "id": "YVyoQ5vHGexM"
      },
      "execution_count": null,
      "outputs": []
    },
    {
      "cell_type": "markdown",
      "source": [
        "> Description_count"
      ],
      "metadata": {
        "id": "RsMxCqZ-Fd2E"
      }
    },
    {
      "cell_type": "code",
      "source": [
        "plt.figure(figsize = (10,5))\n",
        "sns.regplot(data = train, x= 'description_count', y= 'points')\n",
        "plt.xlabel('description_count')\n",
        "plt.ylabel('points')\n",
        "plt.ylim([80,100])\n",
        "plt.show"
      ],
      "metadata": {
        "id": "UiVmTEzEGmn4"
      },
      "execution_count": null,
      "outputs": []
    },
    {
      "cell_type": "markdown",
      "source": [
        "> WInery\n",
        "- 데이터수가 많은 상위 30개의 winery만 추출. "
      ],
      "metadata": {
        "id": "qnFSuLzxFYqS"
      }
    },
    {
      "cell_type": "code",
      "source": [
        "winery_top30 = train.groupby('winery').size().reset_index(name = 'n').sort_values('n', ascending  = False).reset_index(drop = True).head(30)\n",
        "index30_winery = train[~(train['winery'].isin(list(winery_top30['winery'])))].index\n",
        "train30_winery = train.drop(index30_winery)"
      ],
      "metadata": {
        "id": "7khBqy-wHxrZ"
      },
      "execution_count": null,
      "outputs": []
    },
    {
      "cell_type": "code",
      "source": [
        "plt.figure(figsize = (20,8))\n",
        "box = sns.boxplot(x='winery', y= 'points', data = train30_winery)\n",
        "plt.show()"
      ],
      "metadata": {
        "id": "FezUTQuwIpyt"
      },
      "execution_count": null,
      "outputs": []
    },
    {
      "cell_type": "markdown",
      "source": [
        "> Province "
      ],
      "metadata": {
        "id": "8IWn1u5aFgXP"
      }
    },
    {
      "cell_type": "code",
      "source": [
        "province_top30 = train.groupby('province').size().reset_index(name = 'n').sort_values('n', ascending  = False).reset_index(drop = True).head(30)\n",
        "index30_province = train[~(train['province'].isin(list(province_top30['province'])))].index\n",
        "train30_province = train.drop(index30_province)"
      ],
      "metadata": {
        "id": "MpBX0j5LIw8J"
      },
      "execution_count": null,
      "outputs": []
    },
    {
      "cell_type": "code",
      "source": [
        "plt.figure(figsize = (20,8))\n",
        "box = sns.boxplot(x='province', y= 'points', data = train30_province)\n",
        "plt.show()"
      ],
      "metadata": {
        "id": "uBMdggv0I9v8"
      },
      "execution_count": null,
      "outputs": []
    },
    {
      "cell_type": "markdown",
      "source": [
        "> Price vs Points (top10 winery) "
      ],
      "metadata": {
        "id": "pXf8EbvNLC_P"
      }
    },
    {
      "cell_type": "code",
      "source": [
        "winery_top10 = train.groupby('winery').size().reset_index(name = 'n').sort_values('n', ascending  = False).reset_index(drop = True).head(10)\n",
        "index10_winery = train[~(train['winery'].isin(list(winery_top10['winery'])))].index\n",
        "train10_winery = train.drop(index10_winery)"
      ],
      "metadata": {
        "id": "HBAesaizLeck"
      },
      "execution_count": null,
      "outputs": []
    },
    {
      "cell_type": "code",
      "source": [
        "plt.figure(figsize=(15,6))\n",
        "sns.scatterplot(train10_winery['price'], \n",
        "            train10_winery['points'], \n",
        "            hue=train10_winery['winery'] \n",
        "            ) \n",
        "plt.ylabel('points')\n",
        "plt.xlabel('price')\n",
        "plt.xticks(rotation=90)\n",
        "plt.show()"
      ],
      "metadata": {
        "id": "KL3t5MZjLTMD"
      },
      "execution_count": null,
      "outputs": []
    },
    {
      "cell_type": "code",
      "source": [
        "plt.figure(figsize=(15,6))\n",
        "sns.scatterplot(train10_winery['price'], \n",
        "            train10_winery['points'], \n",
        "            hue=train10_winery['winery'] \n",
        "            ) \n",
        "plt.title('Price vs Points (by top10 winery)')\n",
        "plt.ylabel('points')\n",
        "plt.xlabel('price')\n",
        "plt.xlim([0,100])\n",
        "plt.xticks(rotation=90)\n",
        "plt.show()"
      ],
      "metadata": {
        "id": "AW9YFWPXMAkW"
      },
      "execution_count": null,
      "outputs": []
    },
    {
      "cell_type": "markdown",
      "source": [
        "> Price vs Points (top10 province)"
      ],
      "metadata": {
        "id": "0a7lm4UTMTMs"
      }
    },
    {
      "cell_type": "code",
      "source": [
        "province_top10 = train.groupby('province').size().reset_index(name = 'n').sort_values('n', ascending  = False).reset_index(drop = True).head(10)\n",
        "index10_province = train[~(train['province'].isin(list(province_top10['province'])))].index\n",
        "train10_province = train.drop(index10_province)"
      ],
      "metadata": {
        "id": "AqSZovS6NCiU"
      },
      "execution_count": null,
      "outputs": []
    },
    {
      "cell_type": "code",
      "source": [
        "plt.figure(figsize=(15,6))\n",
        "sns.scatterplot(train10_province['price'], \n",
        "            train10_province['points'], \n",
        "            hue=train10_province['province'] \n",
        "            ) \n",
        "plt.title('Price vs Points (by top10 province)')\n",
        "plt.ylabel('points')\n",
        "plt.xlabel('price($)')\n",
        "plt.xlim([0,100])\n",
        "plt.xticks(rotation=90) \n",
        "plt.show()\n",
        "\n",
        "##California 데이터가 지나치게 많아서 경향성이 잘 보이지 않음"
      ],
      "metadata": {
        "id": "_WjVJGpeNWRr"
      },
      "execution_count": null,
      "outputs": []
    },
    {
      "cell_type": "code",
      "source": [
        "index_california = train10_province[train10_province['province'] == 'California'].index\n",
        "train_no_california = train10_province.drop(index_california)"
      ],
      "metadata": {
        "id": "bDVjhdkINqRo"
      },
      "execution_count": null,
      "outputs": []
    },
    {
      "cell_type": "code",
      "source": [
        "plt.figure(figsize=(15,10))\n",
        "sns.scatterplot(train_no_california['price'], \n",
        "            train_no_california['points'], \n",
        "            hue=train_no_california['province'] \n",
        "            ) \n",
        "plt.title('Price vs Points (by top10 province)')\n",
        "plt.ylabel('points')\n",
        "plt.xlabel('price($)')\n",
        "plt.xlim([0,500])\n",
        "plt.xticks(rotation=90) \n",
        "plt.show()"
      ],
      "metadata": {
        "id": "yM9NbgmaN3tM"
      },
      "execution_count": null,
      "outputs": []
    },
    {
      "cell_type": "markdown",
      "source": [
        "> 인사이트 및 활용 방안 정리"
      ],
      "metadata": {
        "id": "-mkSmfsPTR0G"
      }
    },
    {
      "cell_type": "markdown",
      "source": [
        "## **3) 데이터 전처리**\n",
        "- 결측치 처리\n",
        "- categorical 데이터 전처리\n",
        "- train/validation/test set 분리"
      ],
      "metadata": {
        "id": "ueqfLYWZpmP2"
      }
    },
    {
      "cell_type": "markdown",
      "source": [
        "> 결측치 처리"
      ],
      "metadata": {
        "id": "gLX_2uRgOMCR"
      }
    },
    {
      "cell_type": "code",
      "source": [
        "train.isnull().sum()/len(train) *100\n",
        "## 열 제거(활용하지 않을 변수): designation, region_1, region_2, taster_twitter_handle\n",
        "## 행 제거: country, variety, province\n",
        "## 'None'값 대체: taster_name\n",
        "## mean 값 대체: price"
      ],
      "metadata": {
        "id": "ZJhEO69uONve"
      },
      "execution_count": null,
      "outputs": []
    },
    {
      "cell_type": "code",
      "source": [
        "train1 = train.drop(['designation', 'region_1', 'regioni_2', 'taster_twitter_handle'], axis = 1)\n",
        "train1['taster_name'] = train['taster_name'].fillna('None')\n",
        "train1['price'] = train1['price'].fillna(train1['price'].mean())\n",
        "train_final = train1.dropna(axis = 0)"
      ],
      "metadata": {
        "id": "Eo5bXNe8PR8Y"
      },
      "execution_count": null,
      "outputs": []
    },
    {
      "cell_type": "markdown",
      "source": [
        "> train / validation / test set 분리"
      ],
      "metadata": {
        "id": "SwfwjHU2RZkl"
      }
    },
    {
      "cell_type": "code",
      "source": [
        "# predictor variable과 target variable 분리\n",
        "X = train_final.copy()\n",
        "y = X['points']\n",
        "X.drop(['points'], axis=1, inplace=True)"
      ],
      "metadata": {
        "id": "j8SJs9ClRc_7"
      },
      "execution_count": null,
      "outputs": []
    },
    {
      "cell_type": "code",
      "source": [
        "from sklearn.model_selection import train_test_split\n",
        "\n",
        "X_train, X_valid, y_train, y_valid = train_test_split(X, y, train_size=0.8, test_size=0.2, random_state=0)"
      ],
      "metadata": {
        "id": "JODZIQUdR7LL"
      },
      "execution_count": null,
      "outputs": []
    },
    {
      "cell_type": "markdown",
      "source": [
        "> Categorical 데이터 전처리 (One-hot-encoding)"
      ],
      "metadata": {
        "id": "aqlDt55bThiM"
      }
    },
    {
      "cell_type": "code",
      "source": [],
      "metadata": {
        "id": "wwJOXWd7TmCC"
      },
      "execution_count": null,
      "outputs": []
    },
    {
      "cell_type": "markdown",
      "source": [
        "## **4) 모델링 및 Target 예측**"
      ],
      "metadata": {
        "id": "p1vM1LHxm93e"
      }
    },
    {
      "cell_type": "code",
      "execution_count": null,
      "metadata": {
        "id": "BFPAfTKXmxS0"
      },
      "outputs": [],
      "source": []
    }
  ]
}